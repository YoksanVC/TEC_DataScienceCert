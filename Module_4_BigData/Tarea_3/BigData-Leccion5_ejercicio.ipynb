{
 "cells": [
  {
   "cell_type": "markdown",
   "metadata": {
    "colab_type": "text",
    "id": "FYCK8Y-lTb3O"
   },
   "source": [
    "![logo](assets/logo.png \"Logo\")\n",
    "\n",
    "# Módulo 4 - Big Data\n",
    "\n",
    "Autor: Juan Esquivel"
   ]
  },
  {
   "cell_type": "markdown",
   "metadata": {
    "colab_type": "text",
    "id": "cXPbCqJLTb3Q"
   },
   "source": [
    "# Entrenamiento de modelos\n",
    "\n",
    "Dedicaremos esta lección para el desarrollo de un ejemplo de entrenamiento de un modelo básico, de principio a fin, en Apache Spark. Iniciaremos desde la lectura de los datos, limpieza de los mismos, análisis descriptivo, almacenamiento intermedio y entrenamiento de un modelo de regresión.\n",
    "\n",
    "Para esta actividad utilizaremos un conjunto de datos relacionado con la predicción del precio de viviendas, que se puede descargar desde https://www.kaggle.com/harlfoxem/housesalesprediction"
   ]
  },
  {
   "cell_type": "markdown",
   "metadata": {
    "colab_type": "text",
    "id": "BvlqRf1PTb3R"
   },
   "source": [
    "# Lectura y limpieza\n",
    "Como hemos visto en módulos anteriores, una de las tareas más comunes al procesar datos es el ajuste y limpieza de los datos. Este ejemplo refleja esta situación. En las celdas siguientes leeremos los datos de un archivo CSV y realizaremos diferentes pasos para poder cargar los datos a una tabla en PostgreSQL que almacenará el conjunto de datos en su forma deseada para abordar el análisis."
   ]
  },
  {
   "cell_type": "code",
   "execution_count": 1,
   "metadata": {
    "colab": {},
    "colab_type": "code",
    "id": "pBbCLAzXTb3S",
    "outputId": "0bf8d265-bd7c-40ee-e9cd-c5c01cbf30b7"
   },
   "outputs": [
    {
     "name": "stderr",
     "output_type": "stream",
     "text": [
      "ps: unrecognized option: p\n",
      "BusyBox v1.30.1 (2019-10-26 11:23:07 UTC) multi-call binary.\n",
      "\n",
      "Usage: ps [-o COL1,COL2=HEADER]\n",
      "\n",
      "Show list of processes\n",
      "\n",
      "\t-o COL1,COL2=HEADER\tSelect columns for display\n",
      "Setting default log level to \"WARN\".\n",
      "To adjust logging level use sc.setLogLevel(newLevel). For SparkR, use setLogLevel(newLevel).\n",
      "24/07/03 02:01:15 WARN NativeCodeLoader: Unable to load native-hadoop library for your platform... using builtin-java classes where applicable\n",
      "/usr/lib/python3.7/site-packages/pyspark/context.py:317: FutureWarning: Python 3.7 support is deprecated in Spark 3.4.\n",
      "  warnings.warn(\"Python 3.7 support is deprecated in Spark 3.4.\", FutureWarning)\n"
     ]
    },
    {
     "name": "stdout",
     "output_type": "stream",
     "text": [
      "root\n",
      " |-- id: string (nullable = true)\n",
      " |-- date: string (nullable = true)\n",
      " |-- price: string (nullable = true)\n",
      " |-- bedrooms: integer (nullable = true)\n",
      " |-- bathrooms: float (nullable = true)\n",
      " |-- sqft_living: integer (nullable = true)\n",
      " |-- sqft_lot: integer (nullable = true)\n",
      " |-- floors: string (nullable = true)\n",
      " |-- waterfront: integer (nullable = true)\n",
      " |-- view: integer (nullable = true)\n",
      " |-- condition: integer (nullable = true)\n",
      " |-- grade: integer (nullable = true)\n",
      " |-- sqft_above: integer (nullable = true)\n",
      " |-- sqft_basement: integer (nullable = true)\n",
      " |-- yr_built: integer (nullable = true)\n",
      " |-- yr_renovated: integer (nullable = true)\n",
      " |-- zipcode: string (nullable = true)\n",
      " |-- lat: float (nullable = true)\n",
      " |-- long: float (nullable = true)\n",
      " |-- sqft_living15: integer (nullable = true)\n",
      " |-- sqft_lot15: integer (nullable = true)\n",
      "\n",
      "+----------+---------------+----------+--------+---------+-----------+--------+------+----------+----+---------+-----+----------+-------------+--------+------------+-------+-------+--------+-------------+----------+\n",
      "|        id|           date|     price|bedrooms|bathrooms|sqft_living|sqft_lot|floors|waterfront|view|condition|grade|sqft_above|sqft_basement|yr_built|yr_renovated|zipcode|    lat|    long|sqft_living15|sqft_lot15|\n",
      "+----------+---------------+----------+--------+---------+-----------+--------+------+----------+----+---------+-----+----------+-------------+--------+------------+-------+-------+--------+-------------+----------+\n",
      "|7129300520|20141013T000000|    221900|       3|      1.0|       1180|    5650|     1|         0|   0|        3|    7|      1180|            0|    1955|           0|  98178|47.5112|-122.257|         1340|      5650|\n",
      "|6414100192|20141209T000000|    538000|       3|     2.25|       2570|    7242|     2|         0|   0|        3|    7|      2170|          400|    1951|        1991|  98125| 47.721|-122.319|         1690|      7639|\n",
      "|5631500400|20150225T000000|    180000|       2|      1.0|        770|   10000|     1|         0|   0|        3|    6|       770|            0|    1933|           0|  98028|47.7379|-122.233|         2720|      8062|\n",
      "|2487200875|20141209T000000|    604000|       4|      3.0|       1960|    5000|     1|         0|   0|        5|    7|      1050|          910|    1965|           0|  98136|47.5208|-122.393|         1360|      5000|\n",
      "|1954400510|20150218T000000|    510000|       3|      2.0|       1680|    8080|     1|         0|   0|        3|    8|      1680|            0|    1987|           0|  98074|47.6168|-122.045|         1800|      7503|\n",
      "|7237550310|20140512T000000|1.225e+006|       4|      4.5|       5420|  101930|     1|         0|   0|        3|   11|      3890|         1530|    2001|           0|  98053|47.6561|-122.005|         4760|    101930|\n",
      "|1321400060|20140627T000000|    257500|       3|     2.25|       1715|    6819|     2|         0|   0|        3|    7|      1715|            0|    1995|           0|  98003|47.3097|-122.327|         2238|      6819|\n",
      "|2008000270|20150115T000000|    291850|       3|      1.5|       1060|    9711|     1|         0|   0|        3|    7|      1060|            0|    1963|           0|  98198|47.4095|-122.315|         1650|      9711|\n",
      "|2414600126|20150415T000000|    229500|       3|      1.0|       1780|    7470|     1|         0|   0|        3|    7|      1050|          730|    1960|           0|  98146|47.5123|-122.337|         1780|      8113|\n",
      "|3793500160|20150312T000000|    323000|       3|      2.5|       1890|    6560|     2|         0|   0|        3|    7|      1890|            0|    2003|           0|  98038|47.3684|-122.031|         2390|      7570|\n",
      "|1736800520|20150403T000000|    662500|       3|      2.5|       3560|    9796|     1|         0|   0|        3|    8|      1860|         1700|    1965|           0|  98007|47.6007|-122.145|         2210|      8925|\n",
      "|9212900260|20140527T000000|    468000|       2|      1.0|       1160|    6000|     1|         0|   0|        4|    7|       860|          300|    1942|           0|  98115|  47.69|-122.292|         1330|      6000|\n",
      "|0114101516|20140528T000000|    310000|       3|      1.0|       1430|   19901|   1.5|         0|   0|        4|    7|      1430|            0|    1927|           0|  98028|47.7558|-122.229|         1780|     12697|\n",
      "|6054650070|20141007T000000|    400000|       3|     1.75|       1370|    9680|     1|         0|   0|        4|    7|      1370|            0|    1977|           0|  98074|47.6127|-122.045|         1370|     10208|\n",
      "|1175000570|20150312T000000|    530000|       5|      2.0|       1810|    4850|   1.5|         0|   0|        3|    7|      1810|            0|    1900|           0|  98107|  47.67|-122.394|         1360|      4850|\n",
      "|9297300055|20150124T000000|    650000|       4|      3.0|       2950|    5000|     2|         0|   3|        3|    9|      1980|          970|    1979|           0|  98126|47.5714|-122.375|         2140|      4000|\n",
      "|1875500060|20140731T000000|    395000|       3|      2.0|       1890|   14040|     2|         0|   0|        3|    7|      1890|            0|    1994|           0|  98019|47.7277|-121.962|         1890|     14018|\n",
      "|6865200140|20140529T000000|    485000|       4|      1.0|       1600|    4300|   1.5|         0|   0|        4|    7|      1600|            0|    1916|           0|  98103|47.6648|-122.343|         1610|      4300|\n",
      "|0016000397|20141205T000000|    189000|       2|      1.0|       1200|    9850|     1|         0|   0|        4|    7|      1200|            0|    1921|           0|  98002|47.3089| -122.21|         1060|      5095|\n",
      "|7983200060|20150424T000000|    230000|       3|      1.0|       1250|    9774|     1|         0|   0|        4|    7|      1250|            0|    1969|           0|  98003|47.3343|-122.306|         1280|      8850|\n",
      "+----------+---------------+----------+--------+---------+-----------+--------+------+----------+----+---------+-----+----------+-------------+--------+------------+-------+-------+--------+-------------+----------+\n",
      "only showing top 20 rows\n",
      "\n"
     ]
    }
   ],
   "source": [
    "# Cargar el conjunto de datos completo. Este paso no realiza ningún ajuste; simplemente lectura\n",
    "import findspark\n",
    "findspark.init('/usr/lib/python3.7/site-packages/pyspark')\n",
    "\n",
    "from pyspark.sql.types import (StringType, IntegerType, FloatType, \n",
    "                               DecimalType, StructField, StructType)\n",
    "\n",
    "from pyspark.sql import SparkSession\n",
    "\n",
    "spark = SparkSession \\\n",
    "    .builder \\\n",
    "    .appName(\"Basic JDBC pipeline\") \\\n",
    "    .config(\"spark.driver.extraClassPath\", \"postgresql-42.2.14.jar\") \\\n",
    "    .config(\"spark.executor.extraClassPath\", \"postgresql-42.2.14.jar\") \\\n",
    "    .getOrCreate()\n",
    "\n",
    "houses_df = spark \\\n",
    "    .read \\\n",
    "    .format(\"csv\") \\\n",
    "    .option(\"path\", \"kc_house_data.csv\") \\\n",
    "    .option(\"header\", True) \\\n",
    "    .schema(StructType([\n",
    "                StructField(\"id\", StringType()),\n",
    "                StructField(\"date\", StringType()),\n",
    "                StructField(\"price\", StringType()),\n",
    "                StructField(\"bedrooms\", IntegerType()),\n",
    "                StructField(\"bathrooms\", FloatType()),\n",
    "                StructField(\"sqft_living\", IntegerType()),\n",
    "                StructField(\"sqft_lot\", IntegerType()),\n",
    "                StructField(\"floors\", StringType()),\n",
    "                StructField(\"waterfront\", IntegerType()),\n",
    "                StructField(\"view\", IntegerType()),\n",
    "                StructField(\"condition\", IntegerType()),\n",
    "                StructField(\"grade\", IntegerType()),\n",
    "                StructField(\"sqft_above\", IntegerType()),\n",
    "                StructField(\"sqft_basement\", IntegerType()),\n",
    "                StructField(\"yr_built\", IntegerType()),\n",
    "                StructField(\"yr_renovated\", IntegerType()),\n",
    "                StructField(\"zipcode\", StringType()),\n",
    "                StructField(\"lat\", FloatType()),\n",
    "                StructField(\"long\", FloatType()),\n",
    "                StructField(\"sqft_living15\", IntegerType()),\n",
    "                StructField(\"sqft_lot15\", IntegerType())])) \\\n",
    "    .load()\n",
    "\n",
    "houses_df.printSchema()\n",
    "houses_df.show()"
   ]
  },
  {
   "cell_type": "code",
   "execution_count": 2,
   "metadata": {
    "colab": {},
    "colab_type": "code",
    "id": "TeCBV1AGTb3X",
    "outputId": "87a92ff5-f247-4a75-e470-8c6e7acf2ad1"
   },
   "outputs": [
    {
     "name": "stdout",
     "output_type": "stream",
     "text": [
      "+--------+---------+-----------+--------+------+---------+--------+----------+\n",
      "|bedrooms|bathrooms|sqft_living|sqft_lot|floors|condition|yr_built|     price|\n",
      "+--------+---------+-----------+--------+------+---------+--------+----------+\n",
      "|       3|      1.0|       1180|    5650|     1|        3|    1955|    221900|\n",
      "|       3|     2.25|       2570|    7242|     2|        3|    1951|    538000|\n",
      "|       2|      1.0|        770|   10000|     1|        3|    1933|    180000|\n",
      "|       4|      3.0|       1960|    5000|     1|        5|    1965|    604000|\n",
      "|       3|      2.0|       1680|    8080|     1|        3|    1987|    510000|\n",
      "|       4|      4.5|       5420|  101930|     1|        3|    2001|1.225e+006|\n",
      "|       3|     2.25|       1715|    6819|     2|        3|    1995|    257500|\n",
      "|       3|      1.5|       1060|    9711|     1|        3|    1963|    291850|\n",
      "|       3|      1.0|       1780|    7470|     1|        3|    1960|    229500|\n",
      "|       3|      2.5|       1890|    6560|     2|        3|    2003|    323000|\n",
      "|       3|      2.5|       3560|    9796|     1|        3|    1965|    662500|\n",
      "|       2|      1.0|       1160|    6000|     1|        4|    1942|    468000|\n",
      "|       3|      1.0|       1430|   19901|   1.5|        4|    1927|    310000|\n",
      "|       3|     1.75|       1370|    9680|     1|        4|    1977|    400000|\n",
      "|       5|      2.0|       1810|    4850|   1.5|        3|    1900|    530000|\n",
      "|       4|      3.0|       2950|    5000|     2|        3|    1979|    650000|\n",
      "|       3|      2.0|       1890|   14040|     2|        3|    1994|    395000|\n",
      "|       4|      1.0|       1600|    4300|   1.5|        4|    1916|    485000|\n",
      "|       2|      1.0|       1200|    9850|     1|        4|    1921|    189000|\n",
      "|       3|      1.0|       1250|    9774|     1|        4|    1969|    230000|\n",
      "+--------+---------+-----------+--------+------+---------+--------+----------+\n",
      "only showing top 20 rows\n",
      "\n"
     ]
    }
   ],
   "source": [
    "# Seleccionar un subconjunto de las columnas de interés y el objectivo que es el precio\n",
    "columns_kept = ['bedrooms', 'bathrooms', 'sqft_living', 'sqft_lot',\n",
    "                'floors', 'condition', 'yr_built', 'price']\n",
    "selected_columns_df = houses_df.select(columns_kept)\n",
    "\n",
    "selected_columns_df.show()"
   ]
  },
  {
   "cell_type": "code",
   "execution_count": 3,
   "metadata": {
    "colab": {},
    "colab_type": "code",
    "id": "nrI9A9WcTb3a",
    "outputId": "16ccba9f-a52b-45da-908a-68aee8a0e5c5"
   },
   "outputs": [
    {
     "name": "stdout",
     "output_type": "stream",
     "text": [
      "+--------+---------+-----------+--------+------+---------+--------+-------+\n",
      "|bedrooms|bathrooms|sqft_living|sqft_lot|floors|condition|yr_built|  price|\n",
      "+--------+---------+-----------+--------+------+---------+--------+-------+\n",
      "|       3|      1.0|       1180|    5650|   1.0|        3|    1955| 221900|\n",
      "|       3|     2.25|       2570|    7242|   2.0|        3|    1951| 538000|\n",
      "|       2|      1.0|        770|   10000|   1.0|        3|    1933| 180000|\n",
      "|       4|      3.0|       1960|    5000|   1.0|        5|    1965| 604000|\n",
      "|       3|      2.0|       1680|    8080|   1.0|        3|    1987| 510000|\n",
      "|       4|      4.5|       5420|  101930|   1.0|        3|    2001|1225000|\n",
      "|       3|     2.25|       1715|    6819|   2.0|        3|    1995| 257500|\n",
      "|       3|      1.5|       1060|    9711|   1.0|        3|    1963| 291850|\n",
      "|       3|      1.0|       1780|    7470|   1.0|        3|    1960| 229500|\n",
      "|       3|      2.5|       1890|    6560|   2.0|        3|    2003| 323000|\n",
      "|       3|      2.5|       3560|    9796|   1.0|        3|    1965| 662500|\n",
      "|       2|      1.0|       1160|    6000|   1.0|        4|    1942| 468000|\n",
      "|       3|      1.0|       1430|   19901|   1.5|        4|    1927| 310000|\n",
      "|       3|     1.75|       1370|    9680|   1.0|        4|    1977| 400000|\n",
      "|       5|      2.0|       1810|    4850|   1.5|        3|    1900| 530000|\n",
      "|       4|      3.0|       2950|    5000|   2.0|        3|    1979| 650000|\n",
      "|       3|      2.0|       1890|   14040|   2.0|        3|    1994| 395000|\n",
      "|       4|      1.0|       1600|    4300|   1.5|        4|    1916| 485000|\n",
      "|       2|      1.0|       1200|    9850|   1.0|        4|    1921| 189000|\n",
      "|       3|      1.0|       1250|    9774|   1.0|        4|    1969| 230000|\n",
      "+--------+---------+-----------+--------+------+---------+--------+-------+\n",
      "only showing top 20 rows\n",
      "\n"
     ]
    }
   ],
   "source": [
    "# La cantidad de pisos y el precio fueron cargados como string. Deben ajustarse.\n",
    "correct_types_df = selected_columns_df \\\n",
    "    .withColumn('floors', selected_columns_df['floors'].cast(FloatType())) \\\n",
    "    .withColumn('price', selected_columns_df['price'].cast(DecimalType()))\n",
    "\n",
    "\n",
    "correct_types_df.show()"
   ]
  },
  {
   "cell_type": "code",
   "execution_count": 4,
   "metadata": {
    "colab": {},
    "colab_type": "code",
    "id": "-LtTt2AyTb3d"
   },
   "outputs": [],
   "source": [
    "# Almacenar el conjunto de datos limpio en la base de datos\n",
    "correct_types_df \\\n",
    "    .write \\\n",
    "    .format(\"jdbc\") \\\n",
    "    .mode('overwrite') \\\n",
    "    .option(\"url\", \"jdbc:postgresql://host.docker.internal:5433/postgres\") \\\n",
    "    .option(\"user\", \"postgres\") \\\n",
    "    .option(\"password\", \"testPassword\") \\\n",
    "    .option(\"dbtable\", \"houses\") \\\n",
    "    .save()"
   ]
  },
  {
   "cell_type": "markdown",
   "metadata": {
    "colab_type": "text",
    "id": "93Fc2KNTTb3f"
   },
   "source": [
    "# Inspección de datos\n",
    "Previo a entrenar el modelo es común que se realice algún tipo de descripción de los datos, para tener una idea del tipo de problema con el que nos enfrentamos. A continuación, algunas operacions útiles que podemos usar.\n"
   ]
  },
  {
   "cell_type": "code",
   "execution_count": 5,
   "metadata": {
    "colab": {},
    "colab_type": "code",
    "id": "5II3C8K8Tb3g",
    "outputId": "6b22d1ec-2fd8-45e3-b4fb-b590ddedbc39",
    "scrolled": false
   },
   "outputs": [
    {
     "name": "stdout",
     "output_type": "stream",
     "text": [
      "+--------+---------+-----------+--------+------+---------+--------+-------+\n",
      "|bedrooms|bathrooms|sqft_living|sqft_lot|floors|condition|yr_built|  price|\n",
      "+--------+---------+-----------+--------+------+---------+--------+-------+\n",
      "|       3|      1.0|       1180|    5650|   1.0|        3|    1955| 221900|\n",
      "|       3|     2.25|       2570|    7242|   2.0|        3|    1951| 538000|\n",
      "|       2|      1.0|        770|   10000|   1.0|        3|    1933| 180000|\n",
      "|       4|      3.0|       1960|    5000|   1.0|        5|    1965| 604000|\n",
      "|       3|      2.0|       1680|    8080|   1.0|        3|    1987| 510000|\n",
      "|       4|      4.5|       5420|  101930|   1.0|        3|    2001|1225000|\n",
      "|       3|     2.25|       1715|    6819|   2.0|        3|    1995| 257500|\n",
      "|       3|      1.5|       1060|    9711|   1.0|        3|    1963| 291850|\n",
      "|       3|      1.0|       1780|    7470|   1.0|        3|    1960| 229500|\n",
      "|       3|      2.5|       1890|    6560|   2.0|        3|    2003| 323000|\n",
      "|       3|      2.5|       3560|    9796|   1.0|        3|    1965| 662500|\n",
      "|       2|      1.0|       1160|    6000|   1.0|        4|    1942| 468000|\n",
      "|       3|      1.0|       1430|   19901|   1.5|        4|    1927| 310000|\n",
      "|       3|     1.75|       1370|    9680|   1.0|        4|    1977| 400000|\n",
      "|       5|      2.0|       1810|    4850|   1.5|        3|    1900| 530000|\n",
      "|       4|      3.0|       2950|    5000|   2.0|        3|    1979| 650000|\n",
      "|       3|      2.0|       1890|   14040|   2.0|        3|    1994| 395000|\n",
      "|       4|      1.0|       1600|    4300|   1.5|        4|    1916| 485000|\n",
      "|       2|      1.0|       1200|    9850|   1.0|        4|    1921| 189000|\n",
      "|       3|      1.0|       1250|    9774|   1.0|        4|    1969| 230000|\n",
      "+--------+---------+-----------+--------+------+---------+--------+-------+\n",
      "only showing top 20 rows\n",
      "\n"
     ]
    }
   ],
   "source": [
    "# Cargar el conjunto de datos. Esta vez desde la base de datos\n",
    "\n",
    "# Reading single DataFrame in Spark by retrieving all rows from a DB table.\n",
    "df = spark \\\n",
    "    .read \\\n",
    "    .format(\"jdbc\") \\\n",
    "    .option(\"url\", \"jdbc:postgresql://host.docker.internal:5433/postgres\") \\\n",
    "    .option(\"user\", \"postgres\") \\\n",
    "    .option(\"password\", \"testPassword\") \\\n",
    "    .option(\"dbtable\", \"houses\") \\\n",
    "    .load()\n",
    "\n",
    "df.show()"
   ]
  },
  {
   "cell_type": "code",
   "execution_count": 6,
   "metadata": {
    "colab": {},
    "colab_type": "code",
    "id": "AE0l-XQrTb3i",
    "outputId": "0c6d6e23-0fcf-4f32-843a-c2bea0c43490"
   },
   "outputs": [
    {
     "name": "stdout",
     "output_type": "stream",
     "text": [
      "+-------+-----------------+------------------+------------------+\n",
      "|summary|         bedrooms|            floors|          yr_built|\n",
      "+-------+-----------------+------------------+------------------+\n",
      "|  count|            21613|             21613|             21613|\n",
      "|   mean| 3.37084162309721|1.4943089807060566|1971.0051357978994|\n",
      "| stddev|0.930061831147451|0.5399888951423489|29.373410802386243|\n",
      "|    min|                0|               1.0|              1900|\n",
      "|    max|               33|               3.5|              2015|\n",
      "+-------+-----------------+------------------+------------------+\n",
      "\n"
     ]
    }
   ],
   "source": [
    "# Información descriptiva del dataframe.\n",
    "df.describe(['bedrooms', 'floors', 'yr_built']).show()"
   ]
  },
  {
   "cell_type": "code",
   "execution_count": 7,
   "metadata": {
    "colab": {},
    "colab_type": "code",
    "id": "mf87eHm0Tb3l",
    "outputId": "2f2f9241-8a13-4e29-dbda-2634ec36431b",
    "scrolled": true
   },
   "outputs": [
    {
     "name": "stdout",
     "output_type": "stream",
     "text": [
      "+--------------------+-------+\n",
      "|            features|  price|\n",
      "+--------------------+-------+\n",
      "|[3.0,1.0,1180.0,5...| 221900|\n",
      "|[3.0,2.25,2570.0,...| 538000|\n",
      "|[2.0,1.0,770.0,10...| 180000|\n",
      "|[4.0,3.0,1960.0,5...| 604000|\n",
      "|[3.0,2.0,1680.0,8...| 510000|\n",
      "|[4.0,4.5,5420.0,1...|1225000|\n",
      "|[3.0,2.25,1715.0,...| 257500|\n",
      "|[3.0,1.5,1060.0,9...| 291850|\n",
      "|[3.0,1.0,1780.0,7...| 229500|\n",
      "|[3.0,2.5,1890.0,6...| 323000|\n",
      "|[3.0,2.5,3560.0,9...| 662500|\n",
      "|[2.0,1.0,1160.0,6...| 468000|\n",
      "|[3.0,1.0,1430.0,1...| 310000|\n",
      "|[3.0,1.75,1370.0,...| 400000|\n",
      "|[5.0,2.0,1810.0,4...| 530000|\n",
      "|[4.0,3.0,2950.0,5...| 650000|\n",
      "|[3.0,2.0,1890.0,1...| 395000|\n",
      "|[4.0,1.0,1600.0,4...| 485000|\n",
      "|[2.0,1.0,1200.0,9...| 189000|\n",
      "|[3.0,1.0,1250.0,9...| 230000|\n",
      "+--------------------+-------+\n",
      "only showing top 20 rows\n",
      "\n"
     ]
    }
   ],
   "source": [
    "# Para realizar operaciones más detalladas es necesario expresar las filas originales en vectores\n",
    "from pyspark.ml.feature import VectorAssembler\n",
    "\n",
    "assembler = VectorAssembler(\n",
    "    inputCols=['bedrooms', 'bathrooms', 'sqft_living', 'sqft_lot',\n",
    "               'floors', 'condition', 'yr_built'],\n",
    "    outputCol='features')\n",
    "\n",
    "vector_df = assembler.transform(df)\n",
    "vector_df = vector_df.select(['features', 'price'])\n",
    "vector_df.show()\n"
   ]
  },
  {
   "cell_type": "code",
   "execution_count": 8,
   "metadata": {
    "colab": {},
    "colab_type": "code",
    "id": "RbaZdhT3Tb3n",
    "outputId": "98906a43-fafb-4761-b434-9b99c186ee96"
   },
   "outputs": [
    {
     "name": "stderr",
     "output_type": "stream",
     "text": [
      "24/07/03 02:01:21 WARN InstanceBuilder: Failed to load implementation from:dev.ludovic.netlib.blas.JNIBLAS\n",
      "                                                                                \r"
     ]
    },
    {
     "data": {
      "text/plain": [
       "<AxesSubplot:>"
      ]
     },
     "execution_count": 8,
     "metadata": {},
     "output_type": "execute_result"
    },
    {
     "data": {
      "image/png": "[encoded data removed]",
      "text/plain": [
       "<Figure size 640x480 with 2 Axes>"
      ]
     },
     "metadata": {},
     "output_type": "display_data"
    }
   ],
   "source": [
    "# Con la representación de vectores podemos calcular correlaciones\n",
    "from pyspark.ml.stat import Correlation\n",
    "import seaborn as sns\n",
    "import matplotlib.pyplot as plt\n",
    "\n",
    "pearson_matrix = Correlation.corr(vector_df, 'features').collect()[0][0]\n",
    "\n",
    "sns.heatmap(pearson_matrix.toArray(), annot=True, fmt=\".2f\", cmap='viridis')"
   ]
  },
  {
   "cell_type": "markdown",
   "metadata": {
    "colab_type": "text",
    "id": "2yFnobBFTb3q"
   },
   "source": [
    "# Estandarización\n",
    "Como recordamos de los módulos anteriores es deseable que los datos se encuentren estandarizados o normalizados, para evitar que la magnitud de ciertos atributos dominen el proceso de entrenamiento. El módulo `pyspark.ml.feature` tiene varias alternativas. A continuación se presenta una."
   ]
  },
  {
   "cell_type": "code",
   "execution_count": 9,
   "metadata": {
    "colab": {},
    "colab_type": "code",
    "id": "d-15zk2zTb3r",
    "outputId": "2691dd1d-b936-4e4e-c786-b858c0e087e2"
   },
   "outputs": [
    {
     "name": "stdout",
     "output_type": "stream",
     "text": [
      "+--------------------+-------+--------------------+\n",
      "|            features|  price|              scaled|\n",
      "+--------------------+-------+--------------------+\n",
      "|[3.0,1.0,1180.0,5...| 221900|[3.22559199779093...|\n",
      "|[3.0,2.25,2570.0,...| 538000|[3.22559199779093...|\n",
      "|[2.0,1.0,770.0,10...| 180000|[2.15039466519395...|\n",
      "|[4.0,3.0,1960.0,5...| 604000|[4.30078933038790...|\n",
      "|[3.0,2.0,1680.0,8...| 510000|[3.22559199779093...|\n",
      "|[4.0,4.5,5420.0,1...|1225000|[4.30078933038790...|\n",
      "|[3.0,2.25,1715.0,...| 257500|[3.22559199779093...|\n",
      "|[3.0,1.5,1060.0,9...| 291850|[3.22559199779093...|\n",
      "|[3.0,1.0,1780.0,7...| 229500|[3.22559199779093...|\n",
      "|[3.0,2.5,1890.0,6...| 323000|[3.22559199779093...|\n",
      "|[3.0,2.5,3560.0,9...| 662500|[3.22559199779093...|\n",
      "|[2.0,1.0,1160.0,6...| 468000|[2.15039466519395...|\n",
      "|[3.0,1.0,1430.0,1...| 310000|[3.22559199779093...|\n",
      "|[3.0,1.75,1370.0,...| 400000|[3.22559199779093...|\n",
      "|[5.0,2.0,1810.0,4...| 530000|[5.37598666298488...|\n",
      "|[4.0,3.0,2950.0,5...| 650000|[4.30078933038790...|\n",
      "|[3.0,2.0,1890.0,1...| 395000|[3.22559199779093...|\n",
      "|[4.0,1.0,1600.0,4...| 485000|[4.30078933038790...|\n",
      "|[2.0,1.0,1200.0,9...| 189000|[2.15039466519395...|\n",
      "|[3.0,1.0,1250.0,9...| 230000|[3.22559199779093...|\n",
      "+--------------------+-------+--------------------+\n",
      "only showing top 20 rows\n",
      "\n"
     ]
    }
   ],
   "source": [
    "from pyspark.ml.feature import StandardScaler\n",
    "\n",
    "standard_scaler = StandardScaler(inputCol='features', outputCol='scaled')\n",
    "scale_model = standard_scaler.fit(vector_df)\n",
    "\n",
    "scaled_df = scale_model.transform(vector_df)\n",
    "scaled_df.show()"
   ]
  },
  {
   "cell_type": "markdown",
   "metadata": {
    "colab_type": "text",
    "id": "bv62COlLTb3t"
   },
   "source": [
    "# Regresión lineal\n",
    "Como ejemplo de un tipo de modelo a entrenar usaremos una regresión lineal básica para tratar de predecir el precio. Para ellos utilizaremos los datos estandarizados."
   ]
  },
  {
   "cell_type": "code",
   "execution_count": 10,
   "metadata": {
    "colab": {},
    "colab_type": "code",
    "id": "o1DW64l8Tb3u",
    "outputId": "3c5aa274-e910-43a5-9c65-fab83a0b7853"
   },
   "outputs": [
    {
     "name": "stderr",
     "output_type": "stream",
     "text": [
      "24/07/03 02:01:22 WARN Instrumentation: [d631c6c8] regParam is zero, which might cause numerical instability and overfitting.\n",
      "24/07/03 02:01:22 WARN InstanceBuilder: Failed to load implementation from:dev.ludovic.netlib.lapack.JNILAPACK\n"
     ]
    },
    {
     "name": "stdout",
     "output_type": "stream",
     "text": [
      "Pesos: [-64395.4731868764,50862.92091861813,278511.1119748758,-12339.081074521953,30946.977799688568,11683.836709724566,-94825.53343750733]\n",
      " b: 6223698.139208457\n",
      "RMSE: 244323.5319029395 r2: 0.5570878698871073\n",
      "+-------+------------------+\n",
      "|summary|             price|\n",
      "+-------+------------------+\n",
      "|  count|             21613|\n",
      "|   mean|       540088.1418|\n",
      "| stddev|367127.19648270035|\n",
      "|    min|             75000|\n",
      "|    max|           7700000|\n",
      "+-------+------------------+\n",
      "\n"
     ]
    }
   ],
   "source": [
    "# Nótese que no se hace partición de datos de entrenamiento (ejercicio posterior).\n",
    "from pyspark.ml.regression import LinearRegression\n",
    "\n",
    "regression = LinearRegression(featuresCol='scaled', labelCol='price')\n",
    "regression_model = regression.fit(scaled_df)\n",
    "\n",
    "print('Pesos: {}\\n b: {}'.format(regression_model.coefficients, regression_model.intercept))\n",
    "\n",
    "print('RMSE: {} r2: {}'.format(\n",
    "    regression_model.summary.rootMeanSquaredError,\n",
    "    regression_model.summary.r2))\n",
    "\n",
    "scaled_df.describe().show()\n",
    "\n",
    "# Si se quiere hacer predicciones nada más se requiere llamar a regression_model.transform(df)\n",
    "# Esto regresa el dataset con una columna nueva"
   ]
  },
  {
   "cell_type": "markdown",
   "metadata": {
    "colab_type": "text",
    "id": "c51g7LCKTb3x"
   },
   "source": [
    "# Ejercicio\n",
    "- Dividir los datos leídos desde la base de datos en dos conjuntos utilizando las funcionalidades de muestreo de Spark.\n",
    "- Entrene el modelo en uno y evalúe en otro. Escriba los resultados evaluados en una tabla en Postgresql.\n",
    "- Implementar un esquema de k-fold cross validation. Evalúe los resultados según RMSE y r2.\n",
    "- Pruebe diferentes parámetros a la regresión.\n",
    "- Pruebe diferentes tipos de regresión."
   ]
  },
  {
   "cell_type": "code",
   "execution_count": 11,
   "metadata": {},
   "outputs": [
    {
     "name": "stdout",
     "output_type": "stream",
     "text": [
      "Train dataset:\n",
      "+--------------------+-------+--------------------+\n",
      "|            features|  price|              scaled|\n",
      "+--------------------+-------+--------------------+\n",
      "|[0.0,0.0,290.0,20...| 142000|[0.0,0.0,0.315752...|\n",
      "|[0.0,0.0,844.0,42...| 139950|[0.0,0.0,0.918948...|\n",
      "|[0.0,0.0,1470.0,9...| 380000|[0.0,0.0,1.600538...|\n",
      "|[0.0,0.0,1470.0,4...| 235000|[0.0,0.0,1.600538...|\n",
      "|[0.0,0.0,2460.0,8...| 355000|[0.0,0.0,2.678452...|\n",
      "|[0.0,0.0,3064.0,4...|1095000|[0.0,0.0,3.336088...|\n",
      "|[0.0,0.75,384.0,2...| 265000|[0.0,0.9738196289...|\n",
      "|[0.0,1.0,390.0,59...| 228000|[0.0,1.2984261719...|\n",
      "|[0.0,1.5,1430.0,1...| 288000|[0.0,1.9476392579...|\n",
      "|[0.0,2.5,1490.0,7...| 320000|[0.0,3.2460654298...|\n",
      "|[0.0,2.5,1810.0,5...| 240000|[0.0,3.2460654298...|\n",
      "|[0.0,2.5,2290.0,8...| 339950|[0.0,3.2460654298...|\n",
      "|[1.0,0.0,600.0,24...| 280000|[1.07519733259697...|\n",
      "|[1.0,0.0,670.0,43...|  75000|[1.07519733259697...|\n",
      "|[1.0,0.0,690.0,23...| 484000|[1.07519733259697...|\n",
      "|[1.0,0.5,880.0,16...| 255000|[1.07519733259697...|\n",
      "|[1.0,0.75,370.0,1...| 276000|[1.07519733259697...|\n",
      "|[1.0,0.75,380.0,1...| 245000|[1.07519733259697...|\n",
      "|[1.0,0.75,410.0,8...| 325000|[1.07519733259697...|\n",
      "|[1.0,0.75,420.0,6...| 280000|[1.07519733259697...|\n",
      "+--------------------+-------+--------------------+\n",
      "only showing top 20 rows\n",
      "\n",
      "Test dataset:\n",
      "+--------------------+-------+--------------------+\n",
      "|            features|  price|              scaled|\n",
      "+--------------------+-------+--------------------+\n",
      "|[0.0,0.0,4810.0,2...|1295650|[0.0,0.0,5.237136...|\n",
      "|[1.0,0.75,520.0,2...| 310000|[1.07519733259697...|\n",
      "|[1.0,0.75,520.0,1...| 262000|[1.07519733259697...|\n",
      "|[1.0,0.75,680.0,9...| 200000|[1.07519733259697...|\n",
      "|[1.0,0.75,840.0,7...| 124000|[1.07519733259697...|\n",
      "|[1.0,1.0,470.0,63...| 192500|[1.07519733259697...|\n",
      "|[1.0,1.0,520.0,48...| 275000|[1.07519733259697...|\n",
      "|[1.0,1.0,610.0,60...| 314200|[1.07519733259697...|\n",
      "|[1.0,1.0,700.0,25...| 415000|[1.07519733259697...|\n",
      "|[1.0,1.0,700.0,56...| 403500|[1.07519733259697...|\n",
      "|[1.0,1.0,710.0,60...| 385195|[1.07519733259697...|\n",
      "|[1.0,1.0,730.0,30...| 395000|[1.07519733259697...|\n",
      "|[1.0,1.0,750.0,40...| 250000|[1.07519733259697...|\n",
      "|[1.0,1.0,780.0,40...|  90000|[1.07519733259697...|\n",
      "|[1.0,1.0,790.0,30...| 395000|[1.07519733259697...|\n",
      "|[1.0,1.0,790.0,12...| 248000|[1.07519733259697...|\n",
      "|[1.0,1.0,800.0,24...| 267000|[1.07519733259697...|\n",
      "|[1.0,1.0,810.0,24...| 235000|[1.07519733259697...|\n",
      "|[1.0,1.0,830.0,32...| 525000|[1.07519733259697...|\n",
      "|[1.0,1.0,850.0,80...| 165000|[1.07519733259697...|\n",
      "+--------------------+-------+--------------------+\n",
      "only showing top 20 rows\n",
      "\n"
     ]
    }
   ],
   "source": [
    "from pyspark.ml.evaluation import RegressionEvaluator\n",
    "from pyspark.ml.regression import LinearRegression\n",
    "from pyspark.ml.tuning import ParamGridBuilder, TrainValidationSplit\n",
    "\n",
    "# Dataframe: scaled_df\n",
    "train_df, test_df = scaled_df.randomSplit([0.8, 0.2], seed=12345)\n",
    "\n",
    "print('Train dataset:')\n",
    "train_df.show()\n",
    "print('Test dataset:')\n",
    "test_df.show()"
   ]
  },
  {
   "cell_type": "code",
   "execution_count": 12,
   "metadata": {},
   "outputs": [],
   "source": [
    "regression_2 = LinearRegression(featuresCol='scaled', labelCol='price', maxIter=10)\n",
    "\n",
    "# We use a ParamGridBuilder to construct a grid of parameters to search over.\n",
    "# TrainValidationSplit will try all combinations of values and determine best model using\n",
    "# the evaluator.\n",
    "paramGrid = ParamGridBuilder()\\\n",
    "    .addGrid(regression_2.regParam, [0.1, 0.01]) \\\n",
    "    .addGrid(regression_2.fitIntercept, [False, True])\\\n",
    "    .addGrid(regression_2.elasticNetParam, [0.0, 0.5, 1.0])\\\n",
    "    .build()"
   ]
  },
  {
   "cell_type": "code",
   "execution_count": 13,
   "metadata": {},
   "outputs": [],
   "source": [
    "# In this case the estimator is simply the linear regression.\n",
    "# A TrainValidationSplit requires an Estimator, a set of Estimator ParamMaps, and an Evaluator.\n",
    "tvs = TrainValidationSplit(estimator=regression_2,\n",
    "                           estimatorParamMaps=paramGrid,\n",
    "                           evaluator=RegressionEvaluator(),\n",
    "                           # 80% of the data will be used for training, 20% for validation.\n",
    "                           trainRatio=0.8)"
   ]
  },
  {
   "cell_type": "code",
   "execution_count": 14,
   "metadata": {},
   "outputs": [
    {
     "name": "stderr",
     "output_type": "stream",
     "text": [
      "24/07/03 02:01:22 WARN Instrumentation: [9716472a] regParam is zero, which might cause numerical instability and overfitting.\n"
     ]
    }
   ],
   "source": [
    "# Run TrainValidationSplit, and choose the best set of parameters.\n",
    "regression_model_2 = regression_2.fit(train_df)"
   ]
  },
  {
   "cell_type": "code",
   "execution_count": 15,
   "metadata": {
    "scrolled": true
   },
   "outputs": [
    {
     "name": "stdout",
     "output_type": "stream",
     "text": [
      "+--------------------+-------+--------------------+------------------+\n",
      "|              scaled|  price|            features|        prediction|\n",
      "+--------------------+-------+--------------------+------------------+\n",
      "|[0.0,0.0,5.237136...|1295650|[0.0,0.0,4810.0,2...|1414914.5782275032|\n",
      "|[1.07519733259697...| 310000|[1.0,0.75,520.0,2...|203148.81266585272|\n",
      "|[1.07519733259697...| 262000|[1.0,0.75,520.0,1...|307446.63236617856|\n",
      "|[1.07519733259697...| 200000|[1.0,0.75,680.0,9...|229848.39303534664|\n",
      "|[1.07519733259697...| 124000|[1.0,0.75,840.0,7...|301676.59160624165|\n",
      "|[1.07519733259697...| 192500|[1.0,1.0,470.0,63...| 282559.6463800566|\n",
      "|[1.07519733259697...| 275000|[1.0,1.0,520.0,48...|254204.24542678334|\n",
      "|[1.07519733259697...| 314200|[1.0,1.0,610.0,60...| 339811.8676569676|\n",
      "|[1.07519733259697...| 415000|[1.0,1.0,700.0,25...| 231996.3713818211|\n",
      "|[1.07519733259697...| 403500|[1.0,1.0,700.0,56...|280162.61327372957|\n",
      "|[1.07519733259697...| 385195|[1.0,1.0,710.0,60...|  66647.5839935299|\n",
      "|[1.07519733259697...| 395000|[1.0,1.0,730.0,30...| 379556.1034024842|\n",
      "|[1.07519733259697...| 250000|[1.0,1.0,750.0,40...|362787.09128511697|\n",
      "|[1.07519733259697...|  90000|[1.0,1.0,780.0,40...| 413776.6910303626|\n",
      "|[1.07519733259697...| 395000|[1.0,1.0,790.0,30...| 262369.6186737381|\n",
      "|[1.07519733259697...| 248000|[1.0,1.0,790.0,12...|372763.27030162234|\n",
      "|[1.07519733259697...| 267000|[1.0,1.0,800.0,24...| 395104.0462359004|\n",
      "|[1.07519733259697...| 235000|[1.0,1.0,810.0,24...|347217.48705091607|\n",
      "|[1.07519733259697...| 525000|[1.0,1.0,830.0,32...|367904.10250992514|\n",
      "|[1.07519733259697...| 165000|[1.0,1.0,850.0,80...| 410696.6970832739|\n",
      "+--------------------+-------+--------------------+------------------+\n",
      "only showing top 20 rows\n",
      "\n"
     ]
    }
   ],
   "source": [
    "# Make predictions on test data. model is the model with combination of parameters\n",
    "# that performed best.\n",
    "df_predicted = regression_model_2.transform(test_df).select('scaled', 'price', 'features', 'prediction')\n",
    "df_predicted.show()\n"
   ]
  },
  {
   "cell_type": "code",
   "execution_count": 16,
   "metadata": {},
   "outputs": [],
   "source": [
    "df_predicted = df_predicted.withColumnRenamed('price','label')\n",
    "rmse_evaluator = RegressionEvaluator(labelCol=\"label\", predictionCol=\"prediction\", metricName=\"rmse\")\n",
    "r2_evaluator = RegressionEvaluator(labelCol=\"label\", predictionCol=\"prediction\", metricName=\"r2\")"
   ]
  },
  {
   "cell_type": "code",
   "execution_count": 17,
   "metadata": {},
   "outputs": [
    {
     "name": "stdout",
     "output_type": "stream",
     "text": [
      "Root Mean Squared Error = 232691.4778411597\n"
     ]
    }
   ],
   "source": [
    "rmse_result = rmse_evaluator.evaluate(df_predicted)\n",
    "print(f'Root Mean Squared Error = {rmse_result}')"
   ]
  },
  {
   "cell_type": "code",
   "execution_count": 18,
   "metadata": {},
   "outputs": [
    {
     "name": "stdout",
     "output_type": "stream",
     "text": [
      "R2 = 0.568398351280582\n"
     ]
    }
   ],
   "source": [
    "r2_result = r2_evaluator.evaluate(df_predicted)\n",
    "print(f'R2 = {r2_result}')"
   ]
  },
  {
   "cell_type": "code",
   "execution_count": 19,
   "metadata": {},
   "outputs": [
    {
     "name": "stdout",
     "output_type": "stream",
     "text": [
      "+--------------------+---------+--------------------+----------+\n",
      "|              scaled|    label|            features|prediction|\n",
      "+--------------------+---------+--------------------+----------+\n",
      "|[0.0,0.0,5.237136...|1295650.0|[0.0,0.0,4810.0,2...| 1414914.6|\n",
      "|[1.07519733259697...| 310000.0|[1.0,0.75,520.0,2...| 203148.81|\n",
      "|[1.07519733259697...| 262000.0|[1.0,0.75,520.0,1...| 307446.62|\n",
      "|[1.07519733259697...| 200000.0|[1.0,0.75,680.0,9...| 229848.39|\n",
      "|[1.07519733259697...| 124000.0|[1.0,0.75,840.0,7...|  301676.6|\n",
      "|[1.07519733259697...| 192500.0|[1.0,1.0,470.0,63...| 282559.66|\n",
      "|[1.07519733259697...| 275000.0|[1.0,1.0,520.0,48...| 254204.25|\n",
      "|[1.07519733259697...| 314200.0|[1.0,1.0,610.0,60...| 339811.88|\n",
      "|[1.07519733259697...| 415000.0|[1.0,1.0,700.0,25...| 231996.38|\n",
      "|[1.07519733259697...| 403500.0|[1.0,1.0,700.0,56...| 280162.62|\n",
      "|[1.07519733259697...| 385195.0|[1.0,1.0,710.0,60...| 66647.586|\n",
      "|[1.07519733259697...| 395000.0|[1.0,1.0,730.0,30...|  379556.1|\n",
      "|[1.07519733259697...| 250000.0|[1.0,1.0,750.0,40...|  362787.1|\n",
      "|[1.07519733259697...|  90000.0|[1.0,1.0,780.0,40...|  413776.7|\n",
      "|[1.07519733259697...| 395000.0|[1.0,1.0,790.0,30...| 262369.62|\n",
      "|[1.07519733259697...| 248000.0|[1.0,1.0,790.0,12...| 372763.28|\n",
      "|[1.07519733259697...| 267000.0|[1.0,1.0,800.0,24...| 395104.03|\n",
      "|[1.07519733259697...| 235000.0|[1.0,1.0,810.0,24...|  347217.5|\n",
      "|[1.07519733259697...| 525000.0|[1.0,1.0,830.0,32...|  367904.1|\n",
      "|[1.07519733259697...| 165000.0|[1.0,1.0,850.0,80...|  410696.7|\n",
      "+--------------------+---------+--------------------+----------+\n",
      "only showing top 20 rows\n",
      "\n"
     ]
    }
   ],
   "source": [
    "# La cantidad de pisos y el precio fueron cargados como string. Deben ajustarse.\n",
    "df_predicted_corrected = df_predicted \\\n",
    "    .withColumn('label', df_predicted['label'].cast(FloatType())) \\\n",
    "    .withColumn('prediction', df_predicted['prediction'].cast(FloatType()))\n",
    "\n",
    "\n",
    "df_predicted_corrected.show()"
   ]
  },
  {
   "cell_type": "code",
   "execution_count": 20,
   "metadata": {},
   "outputs": [
    {
     "name": "stdout",
     "output_type": "stream",
     "text": [
      "+---------+----------+\n",
      "|    label|prediction|\n",
      "+---------+----------+\n",
      "|1295650.0| 1414914.6|\n",
      "| 310000.0| 203148.81|\n",
      "| 262000.0| 307446.62|\n",
      "| 200000.0| 229848.39|\n",
      "| 124000.0|  301676.6|\n",
      "| 192500.0| 282559.66|\n",
      "| 275000.0| 254204.25|\n",
      "| 314200.0| 339811.88|\n",
      "| 415000.0| 231996.38|\n",
      "| 403500.0| 280162.62|\n",
      "| 385195.0| 66647.586|\n",
      "| 395000.0|  379556.1|\n",
      "| 250000.0|  362787.1|\n",
      "|  90000.0|  413776.7|\n",
      "| 395000.0| 262369.62|\n",
      "| 248000.0| 372763.28|\n",
      "| 267000.0| 395104.03|\n",
      "| 235000.0|  347217.5|\n",
      "| 525000.0|  367904.1|\n",
      "| 165000.0|  410696.7|\n",
      "+---------+----------+\n",
      "only showing top 20 rows\n",
      "\n",
      "root\n",
      " |-- label: float (nullable = true)\n",
      " |-- prediction: float (nullable = false)\n",
      "\n"
     ]
    }
   ],
   "source": [
    "from pyspark.sql.functions import col\n",
    "\n",
    "df_predicted_selected = df_predicted_corrected.select(\n",
    "            col('label'),\n",
    "            col('prediction'))\n",
    "\n",
    "df_predicted_selected.show()\n",
    "df_predicted_selected.printSchema()"
   ]
  },
  {
   "cell_type": "code",
   "execution_count": 21,
   "metadata": {},
   "outputs": [],
   "source": [
    "# Almacenar los resultados en una base de datos\n",
    "df_predicted_selected \\\n",
    "    .write \\\n",
    "    .format(\"jdbc\") \\\n",
    "    .mode('overwrite') \\\n",
    "    .option(\"url\", \"jdbc:postgresql://host.docker.internal:5433/postgres\") \\\n",
    "    .option(\"user\", \"postgres\") \\\n",
    "    .option(\"password\", \"testPassword\") \\\n",
    "    .option(\"dbtable\", \"predicciones\") \\\n",
    "    .save()"
   ]
  },
  {
   "cell_type": "markdown",
   "metadata": {},
   "source": [
    "Siguiente: \n",
    "* Implementar un esquema de k-fold cross validation. Evalúe los resultados según RMSE y r2.\n",
    "* Pruebe diferentes parámetros a la regresión.\n",
    "* Pruebe diferentes tipos de regresión."
   ]
  },
  {
   "cell_type": "code",
   "execution_count": 22,
   "metadata": {},
   "outputs": [
    {
     "ename": "IllegalArgumentException",
     "evalue": "requirement failed: Column prediction already exists.",
     "output_type": "error",
     "traceback": [
      "\u001b[0;31m---------------------------------------------------------------------------\u001b[0m",
      "\u001b[0;31mIllegalArgumentException\u001b[0m                  Traceback (most recent call last)",
      "\u001b[0;32m/tmp/ipykernel_2692/20266622.py\u001b[0m in \u001b[0;36m<module>\u001b[0;34m\u001b[0m\n\u001b[1;32m     22\u001b[0m \u001b[0;34m\u001b[0m\u001b[0m\n\u001b[1;32m     23\u001b[0m \u001b[0;31m# Run cross-validation, and choose the best set of parameters.\u001b[0m\u001b[0;34m\u001b[0m\u001b[0;34m\u001b[0m\u001b[0;34m\u001b[0m\u001b[0m\n\u001b[0;32m---> 24\u001b[0;31m \u001b[0mcvModel\u001b[0m \u001b[0;34m=\u001b[0m \u001b[0mcrossval\u001b[0m\u001b[0;34m.\u001b[0m\u001b[0mfit\u001b[0m\u001b[0;34m(\u001b[0m\u001b[0mtrain_df_renamed\u001b[0m\u001b[0;34m)\u001b[0m\u001b[0;34m\u001b[0m\u001b[0;34m\u001b[0m\u001b[0m\n\u001b[0m",
      "\u001b[0;32m/usr/lib/python3.7/site-packages/pyspark/ml/base.py\u001b[0m in \u001b[0;36mfit\u001b[0;34m(self, dataset, params)\u001b[0m\n\u001b[1;32m    203\u001b[0m                 \u001b[0;32mreturn\u001b[0m \u001b[0mself\u001b[0m\u001b[0;34m.\u001b[0m\u001b[0mcopy\u001b[0m\u001b[0;34m(\u001b[0m\u001b[0mparams\u001b[0m\u001b[0;34m)\u001b[0m\u001b[0;34m.\u001b[0m\u001b[0m_fit\u001b[0m\u001b[0;34m(\u001b[0m\u001b[0mdataset\u001b[0m\u001b[0;34m)\u001b[0m\u001b[0;34m\u001b[0m\u001b[0;34m\u001b[0m\u001b[0m\n\u001b[1;32m    204\u001b[0m             \u001b[0;32melse\u001b[0m\u001b[0;34m:\u001b[0m\u001b[0;34m\u001b[0m\u001b[0;34m\u001b[0m\u001b[0m\n\u001b[0;32m--> 205\u001b[0;31m                 \u001b[0;32mreturn\u001b[0m \u001b[0mself\u001b[0m\u001b[0;34m.\u001b[0m\u001b[0m_fit\u001b[0m\u001b[0;34m(\u001b[0m\u001b[0mdataset\u001b[0m\u001b[0;34m)\u001b[0m\u001b[0;34m\u001b[0m\u001b[0;34m\u001b[0m\u001b[0m\n\u001b[0m\u001b[1;32m    206\u001b[0m         \u001b[0;32melse\u001b[0m\u001b[0;34m:\u001b[0m\u001b[0;34m\u001b[0m\u001b[0;34m\u001b[0m\u001b[0m\n\u001b[1;32m    207\u001b[0m             raise TypeError(\n",
      "\u001b[0;32m/usr/lib/python3.7/site-packages/pyspark/ml/tuning.py\u001b[0m in \u001b[0;36m_fit\u001b[0;34m(self, dataset)\u001b[0m\n\u001b[1;32m    845\u001b[0m                 \u001b[0m_parallelFitTasks\u001b[0m\u001b[0;34m(\u001b[0m\u001b[0mest\u001b[0m\u001b[0;34m,\u001b[0m \u001b[0mtrain\u001b[0m\u001b[0;34m,\u001b[0m \u001b[0meva\u001b[0m\u001b[0;34m,\u001b[0m \u001b[0mvalidation\u001b[0m\u001b[0;34m,\u001b[0m \u001b[0mepm\u001b[0m\u001b[0;34m,\u001b[0m \u001b[0mcollectSubModelsParam\u001b[0m\u001b[0;34m)\u001b[0m\u001b[0;34m,\u001b[0m\u001b[0;34m\u001b[0m\u001b[0;34m\u001b[0m\u001b[0m\n\u001b[1;32m    846\u001b[0m             )\n\u001b[0;32m--> 847\u001b[0;31m             \u001b[0;32mfor\u001b[0m \u001b[0mj\u001b[0m\u001b[0;34m,\u001b[0m \u001b[0mmetric\u001b[0m\u001b[0;34m,\u001b[0m \u001b[0msubModel\u001b[0m \u001b[0;32min\u001b[0m \u001b[0mpool\u001b[0m\u001b[0;34m.\u001b[0m\u001b[0mimap_unordered\u001b[0m\u001b[0;34m(\u001b[0m\u001b[0;32mlambda\u001b[0m \u001b[0mf\u001b[0m\u001b[0;34m:\u001b[0m \u001b[0mf\u001b[0m\u001b[0;34m(\u001b[0m\u001b[0;34m)\u001b[0m\u001b[0;34m,\u001b[0m \u001b[0mtasks\u001b[0m\u001b[0;34m)\u001b[0m\u001b[0;34m:\u001b[0m\u001b[0;34m\u001b[0m\u001b[0;34m\u001b[0m\u001b[0m\n\u001b[0m\u001b[1;32m    848\u001b[0m                 \u001b[0mmetrics_all\u001b[0m\u001b[0;34m[\u001b[0m\u001b[0mi\u001b[0m\u001b[0;34m]\u001b[0m\u001b[0;34m[\u001b[0m\u001b[0mj\u001b[0m\u001b[0;34m]\u001b[0m \u001b[0;34m=\u001b[0m \u001b[0mmetric\u001b[0m\u001b[0;34m\u001b[0m\u001b[0;34m\u001b[0m\u001b[0m\n\u001b[1;32m    849\u001b[0m                 \u001b[0;32mif\u001b[0m \u001b[0mcollectSubModelsParam\u001b[0m\u001b[0;34m:\u001b[0m\u001b[0;34m\u001b[0m\u001b[0;34m\u001b[0m\u001b[0m\n",
      "\u001b[0;32m/usr/lib/python3.7/multiprocessing/pool.py\u001b[0m in \u001b[0;36mnext\u001b[0;34m(self, timeout)\u001b[0m\n\u001b[1;32m    746\u001b[0m         \u001b[0;32mif\u001b[0m \u001b[0msuccess\u001b[0m\u001b[0;34m:\u001b[0m\u001b[0;34m\u001b[0m\u001b[0;34m\u001b[0m\u001b[0m\n\u001b[1;32m    747\u001b[0m             \u001b[0;32mreturn\u001b[0m \u001b[0mvalue\u001b[0m\u001b[0;34m\u001b[0m\u001b[0;34m\u001b[0m\u001b[0m\n\u001b[0;32m--> 748\u001b[0;31m         \u001b[0;32mraise\u001b[0m \u001b[0mvalue\u001b[0m\u001b[0;34m\u001b[0m\u001b[0;34m\u001b[0m\u001b[0m\n\u001b[0m\u001b[1;32m    749\u001b[0m \u001b[0;34m\u001b[0m\u001b[0m\n\u001b[1;32m    750\u001b[0m     \u001b[0m__next__\u001b[0m \u001b[0;34m=\u001b[0m \u001b[0mnext\u001b[0m                    \u001b[0;31m# XXX\u001b[0m\u001b[0;34m\u001b[0m\u001b[0;34m\u001b[0m\u001b[0m\n",
      "\u001b[0;32m/usr/lib/python3.7/multiprocessing/pool.py\u001b[0m in \u001b[0;36mworker\u001b[0;34m(inqueue, outqueue, initializer, initargs, maxtasks, wrap_exception)\u001b[0m\n\u001b[1;32m    119\u001b[0m         \u001b[0mjob\u001b[0m\u001b[0;34m,\u001b[0m \u001b[0mi\u001b[0m\u001b[0;34m,\u001b[0m \u001b[0mfunc\u001b[0m\u001b[0;34m,\u001b[0m \u001b[0margs\u001b[0m\u001b[0;34m,\u001b[0m \u001b[0mkwds\u001b[0m \u001b[0;34m=\u001b[0m \u001b[0mtask\u001b[0m\u001b[0;34m\u001b[0m\u001b[0;34m\u001b[0m\u001b[0m\n\u001b[1;32m    120\u001b[0m         \u001b[0;32mtry\u001b[0m\u001b[0;34m:\u001b[0m\u001b[0;34m\u001b[0m\u001b[0;34m\u001b[0m\u001b[0m\n\u001b[0;32m--> 121\u001b[0;31m             \u001b[0mresult\u001b[0m \u001b[0;34m=\u001b[0m \u001b[0;34m(\u001b[0m\u001b[0;32mTrue\u001b[0m\u001b[0;34m,\u001b[0m \u001b[0mfunc\u001b[0m\u001b[0;34m(\u001b[0m\u001b[0;34m*\u001b[0m\u001b[0margs\u001b[0m\u001b[0;34m,\u001b[0m \u001b[0;34m**\u001b[0m\u001b[0mkwds\u001b[0m\u001b[0;34m)\u001b[0m\u001b[0;34m)\u001b[0m\u001b[0;34m\u001b[0m\u001b[0;34m\u001b[0m\u001b[0m\n\u001b[0m\u001b[1;32m    122\u001b[0m         \u001b[0;32mexcept\u001b[0m \u001b[0mException\u001b[0m \u001b[0;32mas\u001b[0m \u001b[0me\u001b[0m\u001b[0;34m:\u001b[0m\u001b[0;34m\u001b[0m\u001b[0;34m\u001b[0m\u001b[0m\n\u001b[1;32m    123\u001b[0m             \u001b[0;32mif\u001b[0m \u001b[0mwrap_exception\u001b[0m \u001b[0;32mand\u001b[0m \u001b[0mfunc\u001b[0m \u001b[0;32mis\u001b[0m \u001b[0;32mnot\u001b[0m \u001b[0m_helper_reraises_exception\u001b[0m\u001b[0;34m:\u001b[0m\u001b[0;34m\u001b[0m\u001b[0;34m\u001b[0m\u001b[0m\n",
      "\u001b[0;32m/usr/lib/python3.7/site-packages/pyspark/ml/tuning.py\u001b[0m in \u001b[0;36m<lambda>\u001b[0;34m(f)\u001b[0m\n\u001b[1;32m    845\u001b[0m                 \u001b[0m_parallelFitTasks\u001b[0m\u001b[0;34m(\u001b[0m\u001b[0mest\u001b[0m\u001b[0;34m,\u001b[0m \u001b[0mtrain\u001b[0m\u001b[0;34m,\u001b[0m \u001b[0meva\u001b[0m\u001b[0;34m,\u001b[0m \u001b[0mvalidation\u001b[0m\u001b[0;34m,\u001b[0m \u001b[0mepm\u001b[0m\u001b[0;34m,\u001b[0m \u001b[0mcollectSubModelsParam\u001b[0m\u001b[0;34m)\u001b[0m\u001b[0;34m,\u001b[0m\u001b[0;34m\u001b[0m\u001b[0;34m\u001b[0m\u001b[0m\n\u001b[1;32m    846\u001b[0m             )\n\u001b[0;32m--> 847\u001b[0;31m             \u001b[0;32mfor\u001b[0m \u001b[0mj\u001b[0m\u001b[0;34m,\u001b[0m \u001b[0mmetric\u001b[0m\u001b[0;34m,\u001b[0m \u001b[0msubModel\u001b[0m \u001b[0;32min\u001b[0m \u001b[0mpool\u001b[0m\u001b[0;34m.\u001b[0m\u001b[0mimap_unordered\u001b[0m\u001b[0;34m(\u001b[0m\u001b[0;32mlambda\u001b[0m \u001b[0mf\u001b[0m\u001b[0;34m:\u001b[0m \u001b[0mf\u001b[0m\u001b[0;34m(\u001b[0m\u001b[0;34m)\u001b[0m\u001b[0;34m,\u001b[0m \u001b[0mtasks\u001b[0m\u001b[0;34m)\u001b[0m\u001b[0;34m:\u001b[0m\u001b[0;34m\u001b[0m\u001b[0;34m\u001b[0m\u001b[0m\n\u001b[0m\u001b[1;32m    848\u001b[0m                 \u001b[0mmetrics_all\u001b[0m\u001b[0;34m[\u001b[0m\u001b[0mi\u001b[0m\u001b[0;34m]\u001b[0m\u001b[0;34m[\u001b[0m\u001b[0mj\u001b[0m\u001b[0;34m]\u001b[0m \u001b[0;34m=\u001b[0m \u001b[0mmetric\u001b[0m\u001b[0;34m\u001b[0m\u001b[0;34m\u001b[0m\u001b[0m\n\u001b[1;32m    849\u001b[0m                 \u001b[0;32mif\u001b[0m \u001b[0mcollectSubModelsParam\u001b[0m\u001b[0;34m:\u001b[0m\u001b[0;34m\u001b[0m\u001b[0;34m\u001b[0m\u001b[0m\n",
      "\u001b[0;32m/usr/lib/python3.7/site-packages/pyspark/util.py\u001b[0m in \u001b[0;36mwrapped\u001b[0;34m(*args, **kwargs)\u001b[0m\n\u001b[1;32m    335\u001b[0m             \u001b[0;32massert\u001b[0m \u001b[0mSparkContext\u001b[0m\u001b[0;34m.\u001b[0m\u001b[0m_active_spark_context\u001b[0m \u001b[0;32mis\u001b[0m \u001b[0;32mnot\u001b[0m \u001b[0;32mNone\u001b[0m\u001b[0;34m\u001b[0m\u001b[0;34m\u001b[0m\u001b[0m\n\u001b[1;32m    336\u001b[0m             \u001b[0mSparkContext\u001b[0m\u001b[0;34m.\u001b[0m\u001b[0m_active_spark_context\u001b[0m\u001b[0;34m.\u001b[0m\u001b[0m_jsc\u001b[0m\u001b[0;34m.\u001b[0m\u001b[0msc\u001b[0m\u001b[0;34m(\u001b[0m\u001b[0;34m)\u001b[0m\u001b[0;34m.\u001b[0m\u001b[0msetLocalProperties\u001b[0m\u001b[0;34m(\u001b[0m\u001b[0mproperties\u001b[0m\u001b[0;34m)\u001b[0m\u001b[0;34m\u001b[0m\u001b[0;34m\u001b[0m\u001b[0m\n\u001b[0;32m--> 337\u001b[0;31m             \u001b[0;32mreturn\u001b[0m \u001b[0mf\u001b[0m\u001b[0;34m(\u001b[0m\u001b[0;34m*\u001b[0m\u001b[0margs\u001b[0m\u001b[0;34m,\u001b[0m \u001b[0;34m**\u001b[0m\u001b[0mkwargs\u001b[0m\u001b[0;34m)\u001b[0m\u001b[0;34m\u001b[0m\u001b[0;34m\u001b[0m\u001b[0m\n\u001b[0m\u001b[1;32m    338\u001b[0m \u001b[0;34m\u001b[0m\u001b[0m\n\u001b[1;32m    339\u001b[0m         \u001b[0;32mreturn\u001b[0m \u001b[0mwrapped\u001b[0m\u001b[0;34m\u001b[0m\u001b[0;34m\u001b[0m\u001b[0m\n",
      "\u001b[0;32m/usr/lib/python3.7/site-packages/pyspark/ml/tuning.py\u001b[0m in \u001b[0;36msingleTask\u001b[0;34m()\u001b[0m\n\u001b[1;32m    111\u001b[0m \u001b[0;34m\u001b[0m\u001b[0m\n\u001b[1;32m    112\u001b[0m     \u001b[0;32mdef\u001b[0m \u001b[0msingleTask\u001b[0m\u001b[0;34m(\u001b[0m\u001b[0;34m)\u001b[0m \u001b[0;34m->\u001b[0m \u001b[0mTuple\u001b[0m\u001b[0;34m[\u001b[0m\u001b[0mint\u001b[0m\u001b[0;34m,\u001b[0m \u001b[0mfloat\u001b[0m\u001b[0;34m,\u001b[0m \u001b[0mTransformer\u001b[0m\u001b[0;34m]\u001b[0m\u001b[0;34m:\u001b[0m\u001b[0;34m\u001b[0m\u001b[0;34m\u001b[0m\u001b[0m\n\u001b[0;32m--> 113\u001b[0;31m         \u001b[0mindex\u001b[0m\u001b[0;34m,\u001b[0m \u001b[0mmodel\u001b[0m \u001b[0;34m=\u001b[0m \u001b[0mnext\u001b[0m\u001b[0;34m(\u001b[0m\u001b[0mmodelIter\u001b[0m\u001b[0;34m)\u001b[0m\u001b[0;34m\u001b[0m\u001b[0;34m\u001b[0m\u001b[0m\n\u001b[0m\u001b[1;32m    114\u001b[0m         \u001b[0;31m# TODO: duplicate evaluator to take extra params from input\u001b[0m\u001b[0;34m\u001b[0m\u001b[0;34m\u001b[0m\u001b[0;34m\u001b[0m\u001b[0m\n\u001b[1;32m    115\u001b[0m         \u001b[0;31m#  Note: Supporting tuning params in evaluator need update method\u001b[0m\u001b[0;34m\u001b[0m\u001b[0;34m\u001b[0m\u001b[0;34m\u001b[0m\u001b[0m\n",
      "\u001b[0;32m/usr/lib/python3.7/site-packages/pyspark/ml/base.py\u001b[0m in \u001b[0;36m__next__\u001b[0;34m(self)\u001b[0m\n\u001b[1;32m     96\u001b[0m                 \u001b[0;32mraise\u001b[0m \u001b[0mStopIteration\u001b[0m\u001b[0;34m(\u001b[0m\u001b[0;34m\"No models remaining.\"\u001b[0m\u001b[0;34m)\u001b[0m\u001b[0;34m\u001b[0m\u001b[0;34m\u001b[0m\u001b[0m\n\u001b[1;32m     97\u001b[0m             \u001b[0mself\u001b[0m\u001b[0;34m.\u001b[0m\u001b[0mcounter\u001b[0m \u001b[0;34m+=\u001b[0m \u001b[0;36m1\u001b[0m\u001b[0;34m\u001b[0m\u001b[0;34m\u001b[0m\u001b[0m\n\u001b[0;32m---> 98\u001b[0;31m         \u001b[0;32mreturn\u001b[0m \u001b[0mindex\u001b[0m\u001b[0;34m,\u001b[0m \u001b[0mself\u001b[0m\u001b[0;34m.\u001b[0m\u001b[0mfitSingleModel\u001b[0m\u001b[0;34m(\u001b[0m\u001b[0mindex\u001b[0m\u001b[0;34m)\u001b[0m\u001b[0;34m\u001b[0m\u001b[0;34m\u001b[0m\u001b[0m\n\u001b[0m\u001b[1;32m     99\u001b[0m \u001b[0;34m\u001b[0m\u001b[0m\n\u001b[1;32m    100\u001b[0m     \u001b[0;32mdef\u001b[0m \u001b[0mnext\u001b[0m\u001b[0;34m(\u001b[0m\u001b[0mself\u001b[0m\u001b[0;34m)\u001b[0m \u001b[0;34m->\u001b[0m \u001b[0mTuple\u001b[0m\u001b[0;34m[\u001b[0m\u001b[0mint\u001b[0m\u001b[0;34m,\u001b[0m \u001b[0mM\u001b[0m\u001b[0;34m]\u001b[0m\u001b[0;34m:\u001b[0m\u001b[0;34m\u001b[0m\u001b[0;34m\u001b[0m\u001b[0m\n",
      "\u001b[0;32m/usr/lib/python3.7/site-packages/pyspark/ml/base.py\u001b[0m in \u001b[0;36mfitSingleModel\u001b[0;34m(index)\u001b[0m\n\u001b[1;32m    154\u001b[0m \u001b[0;34m\u001b[0m\u001b[0m\n\u001b[1;32m    155\u001b[0m         \u001b[0;32mdef\u001b[0m \u001b[0mfitSingleModel\u001b[0m\u001b[0;34m(\u001b[0m\u001b[0mindex\u001b[0m\u001b[0;34m:\u001b[0m \u001b[0mint\u001b[0m\u001b[0;34m)\u001b[0m \u001b[0;34m->\u001b[0m \u001b[0mM\u001b[0m\u001b[0;34m:\u001b[0m\u001b[0;34m\u001b[0m\u001b[0;34m\u001b[0m\u001b[0m\n\u001b[0;32m--> 156\u001b[0;31m             \u001b[0;32mreturn\u001b[0m \u001b[0mestimator\u001b[0m\u001b[0;34m.\u001b[0m\u001b[0mfit\u001b[0m\u001b[0;34m(\u001b[0m\u001b[0mdataset\u001b[0m\u001b[0;34m,\u001b[0m \u001b[0mparamMaps\u001b[0m\u001b[0;34m[\u001b[0m\u001b[0mindex\u001b[0m\u001b[0;34m]\u001b[0m\u001b[0;34m)\u001b[0m\u001b[0;34m\u001b[0m\u001b[0;34m\u001b[0m\u001b[0m\n\u001b[0m\u001b[1;32m    157\u001b[0m \u001b[0;34m\u001b[0m\u001b[0m\n\u001b[1;32m    158\u001b[0m         \u001b[0;32mreturn\u001b[0m \u001b[0m_FitMultipleIterator\u001b[0m\u001b[0;34m(\u001b[0m\u001b[0mfitSingleModel\u001b[0m\u001b[0;34m,\u001b[0m \u001b[0mlen\u001b[0m\u001b[0;34m(\u001b[0m\u001b[0mparamMaps\u001b[0m\u001b[0;34m)\u001b[0m\u001b[0;34m)\u001b[0m\u001b[0;34m\u001b[0m\u001b[0;34m\u001b[0m\u001b[0m\n",
      "\u001b[0;32m/usr/lib/python3.7/site-packages/pyspark/ml/base.py\u001b[0m in \u001b[0;36mfit\u001b[0;34m(self, dataset, params)\u001b[0m\n\u001b[1;32m    201\u001b[0m         \u001b[0;32melif\u001b[0m \u001b[0misinstance\u001b[0m\u001b[0;34m(\u001b[0m\u001b[0mparams\u001b[0m\u001b[0;34m,\u001b[0m \u001b[0mdict\u001b[0m\u001b[0;34m)\u001b[0m\u001b[0;34m:\u001b[0m\u001b[0;34m\u001b[0m\u001b[0;34m\u001b[0m\u001b[0m\n\u001b[1;32m    202\u001b[0m             \u001b[0;32mif\u001b[0m \u001b[0mparams\u001b[0m\u001b[0;34m:\u001b[0m\u001b[0;34m\u001b[0m\u001b[0;34m\u001b[0m\u001b[0m\n\u001b[0;32m--> 203\u001b[0;31m                 \u001b[0;32mreturn\u001b[0m \u001b[0mself\u001b[0m\u001b[0;34m.\u001b[0m\u001b[0mcopy\u001b[0m\u001b[0;34m(\u001b[0m\u001b[0mparams\u001b[0m\u001b[0;34m)\u001b[0m\u001b[0;34m.\u001b[0m\u001b[0m_fit\u001b[0m\u001b[0;34m(\u001b[0m\u001b[0mdataset\u001b[0m\u001b[0;34m)\u001b[0m\u001b[0;34m\u001b[0m\u001b[0;34m\u001b[0m\u001b[0m\n\u001b[0m\u001b[1;32m    204\u001b[0m             \u001b[0;32melse\u001b[0m\u001b[0;34m:\u001b[0m\u001b[0;34m\u001b[0m\u001b[0;34m\u001b[0m\u001b[0m\n\u001b[1;32m    205\u001b[0m                 \u001b[0;32mreturn\u001b[0m \u001b[0mself\u001b[0m\u001b[0;34m.\u001b[0m\u001b[0m_fit\u001b[0m\u001b[0;34m(\u001b[0m\u001b[0mdataset\u001b[0m\u001b[0;34m)\u001b[0m\u001b[0;34m\u001b[0m\u001b[0;34m\u001b[0m\u001b[0m\n",
      "\u001b[0;32m/usr/lib/python3.7/site-packages/pyspark/ml/wrapper.py\u001b[0m in \u001b[0;36m_fit\u001b[0;34m(self, dataset)\u001b[0m\n\u001b[1;32m    379\u001b[0m \u001b[0;34m\u001b[0m\u001b[0m\n\u001b[1;32m    380\u001b[0m     \u001b[0;32mdef\u001b[0m \u001b[0m_fit\u001b[0m\u001b[0;34m(\u001b[0m\u001b[0mself\u001b[0m\u001b[0;34m,\u001b[0m \u001b[0mdataset\u001b[0m\u001b[0;34m:\u001b[0m \u001b[0mDataFrame\u001b[0m\u001b[0;34m)\u001b[0m \u001b[0;34m->\u001b[0m \u001b[0mJM\u001b[0m\u001b[0;34m:\u001b[0m\u001b[0;34m\u001b[0m\u001b[0;34m\u001b[0m\u001b[0m\n\u001b[0;32m--> 381\u001b[0;31m         \u001b[0mjava_model\u001b[0m \u001b[0;34m=\u001b[0m \u001b[0mself\u001b[0m\u001b[0;34m.\u001b[0m\u001b[0m_fit_java\u001b[0m\u001b[0;34m(\u001b[0m\u001b[0mdataset\u001b[0m\u001b[0;34m)\u001b[0m\u001b[0;34m\u001b[0m\u001b[0;34m\u001b[0m\u001b[0m\n\u001b[0m\u001b[1;32m    382\u001b[0m         \u001b[0mmodel\u001b[0m \u001b[0;34m=\u001b[0m \u001b[0mself\u001b[0m\u001b[0;34m.\u001b[0m\u001b[0m_create_model\u001b[0m\u001b[0;34m(\u001b[0m\u001b[0mjava_model\u001b[0m\u001b[0;34m)\u001b[0m\u001b[0;34m\u001b[0m\u001b[0;34m\u001b[0m\u001b[0m\n\u001b[1;32m    383\u001b[0m         \u001b[0;32mreturn\u001b[0m \u001b[0mself\u001b[0m\u001b[0;34m.\u001b[0m\u001b[0m_copyValues\u001b[0m\u001b[0;34m(\u001b[0m\u001b[0mmodel\u001b[0m\u001b[0;34m)\u001b[0m\u001b[0;34m\u001b[0m\u001b[0;34m\u001b[0m\u001b[0m\n",
      "\u001b[0;32m/usr/lib/python3.7/site-packages/pyspark/ml/wrapper.py\u001b[0m in \u001b[0;36m_fit_java\u001b[0;34m(self, dataset)\u001b[0m\n\u001b[1;32m    376\u001b[0m \u001b[0;34m\u001b[0m\u001b[0m\n\u001b[1;32m    377\u001b[0m         \u001b[0mself\u001b[0m\u001b[0;34m.\u001b[0m\u001b[0m_transfer_params_to_java\u001b[0m\u001b[0;34m(\u001b[0m\u001b[0;34m)\u001b[0m\u001b[0;34m\u001b[0m\u001b[0;34m\u001b[0m\u001b[0m\n\u001b[0;32m--> 378\u001b[0;31m         \u001b[0;32mreturn\u001b[0m \u001b[0mself\u001b[0m\u001b[0;34m.\u001b[0m\u001b[0m_java_obj\u001b[0m\u001b[0;34m.\u001b[0m\u001b[0mfit\u001b[0m\u001b[0;34m(\u001b[0m\u001b[0mdataset\u001b[0m\u001b[0;34m.\u001b[0m\u001b[0m_jdf\u001b[0m\u001b[0;34m)\u001b[0m\u001b[0;34m\u001b[0m\u001b[0;34m\u001b[0m\u001b[0m\n\u001b[0m\u001b[1;32m    379\u001b[0m \u001b[0;34m\u001b[0m\u001b[0m\n\u001b[1;32m    380\u001b[0m     \u001b[0;32mdef\u001b[0m \u001b[0m_fit\u001b[0m\u001b[0;34m(\u001b[0m\u001b[0mself\u001b[0m\u001b[0;34m,\u001b[0m \u001b[0mdataset\u001b[0m\u001b[0;34m:\u001b[0m \u001b[0mDataFrame\u001b[0m\u001b[0;34m)\u001b[0m \u001b[0;34m->\u001b[0m \u001b[0mJM\u001b[0m\u001b[0;34m:\u001b[0m\u001b[0;34m\u001b[0m\u001b[0;34m\u001b[0m\u001b[0m\n",
      "\u001b[0;32m/usr/lib/python3.7/site-packages/pyspark/python/lib/py4j-0.10.9.7-src.zip/py4j/java_gateway.py\u001b[0m in \u001b[0;36m__call__\u001b[0;34m(self, *args)\u001b[0m\n\u001b[1;32m   1321\u001b[0m         \u001b[0manswer\u001b[0m \u001b[0;34m=\u001b[0m \u001b[0mself\u001b[0m\u001b[0;34m.\u001b[0m\u001b[0mgateway_client\u001b[0m\u001b[0;34m.\u001b[0m\u001b[0msend_command\u001b[0m\u001b[0;34m(\u001b[0m\u001b[0mcommand\u001b[0m\u001b[0;34m)\u001b[0m\u001b[0;34m\u001b[0m\u001b[0;34m\u001b[0m\u001b[0m\n\u001b[1;32m   1322\u001b[0m         return_value = get_return_value(\n\u001b[0;32m-> 1323\u001b[0;31m             answer, self.gateway_client, self.target_id, self.name)\n\u001b[0m\u001b[1;32m   1324\u001b[0m \u001b[0;34m\u001b[0m\u001b[0m\n\u001b[1;32m   1325\u001b[0m         \u001b[0;32mfor\u001b[0m \u001b[0mtemp_arg\u001b[0m \u001b[0;32min\u001b[0m \u001b[0mtemp_args\u001b[0m\u001b[0;34m:\u001b[0m\u001b[0;34m\u001b[0m\u001b[0;34m\u001b[0m\u001b[0m\n",
      "\u001b[0;32m/usr/lib/python3.7/site-packages/pyspark/errors/exceptions/captured.py\u001b[0m in \u001b[0;36mdeco\u001b[0;34m(*a, **kw)\u001b[0m\n\u001b[1;32m    173\u001b[0m                 \u001b[0;31m# Hide where the exception came from that shows a non-Pythonic\u001b[0m\u001b[0;34m\u001b[0m\u001b[0;34m\u001b[0m\u001b[0;34m\u001b[0m\u001b[0m\n\u001b[1;32m    174\u001b[0m                 \u001b[0;31m# JVM exception message.\u001b[0m\u001b[0;34m\u001b[0m\u001b[0;34m\u001b[0m\u001b[0;34m\u001b[0m\u001b[0m\n\u001b[0;32m--> 175\u001b[0;31m                 \u001b[0;32mraise\u001b[0m \u001b[0mconverted\u001b[0m \u001b[0;32mfrom\u001b[0m \u001b[0;32mNone\u001b[0m\u001b[0;34m\u001b[0m\u001b[0;34m\u001b[0m\u001b[0m\n\u001b[0m\u001b[1;32m    176\u001b[0m             \u001b[0;32melse\u001b[0m\u001b[0;34m:\u001b[0m\u001b[0;34m\u001b[0m\u001b[0;34m\u001b[0m\u001b[0m\n\u001b[1;32m    177\u001b[0m                 \u001b[0;32mraise\u001b[0m\u001b[0;34m\u001b[0m\u001b[0;34m\u001b[0m\u001b[0m\n",
      "\u001b[0;31mIllegalArgumentException\u001b[0m: requirement failed: Column prediction already exists."
     ]
    }
   ],
   "source": [
    "from pyspark.ml.tuning import CrossValidator, ParamGridBuilder\n",
    "\n",
    "train_df_renamed = df_predicted.withColumnRenamed('price','label')\n",
    "regression_3 = LinearRegression(featuresCol='scaled', labelCol='label', maxIter=10)\n",
    "\n",
    "# We now treat the Pipeline as an Estimator, wrapping it in a CrossValidator instance.\n",
    "# This will allow us to jointly choose parameters for all Pipeline stages.\n",
    "# A CrossValidator requires an Estimator, a set of Estimator ParamMaps, and an Evaluator.\n",
    "# We use a ParamGridBuilder to construct a grid of parameters to search over.\n",
    "# With 3 values for hashingTF.numFeatures and 2 values for lr.regParam,\n",
    "# this grid will have 3 x 2 = 6 parameter settings for CrossValidator to choose from.\n",
    "paramGrid = ParamGridBuilder()\\\n",
    "    .addGrid(regression_3.regParam, [0.1, 0.01]) \\\n",
    "    .addGrid(regression_3.fitIntercept, [False, True])\\\n",
    "    .addGrid(regression_3.elasticNetParam, [0.0, 0.5, 1.0])\\\n",
    "    .build()\n",
    "\n",
    "crossval = CrossValidator(estimator=regression_3,\n",
    "                          estimatorParamMaps=paramGrid,\n",
    "                          evaluator=rmse_evaluator,\n",
    "                          numFolds=10)  # use 3+ folds in practice\n",
    "\n",
    "# Run cross-validation, and choose the best set of parameters.\n",
    "cvModel = crossval.fit(train_df_renamed)"
   ]
  },
  {
   "cell_type": "code",
   "execution_count": null,
   "metadata": {},
   "outputs": [],
   "source": []
  }
 ],
 "metadata": {
  "celltoolbar": "Edit Metadata",
  "colab": {
   "name": "BigData-Leccion5.ipynb",
   "provenance": []
  },
  "kernelspec": {
   "display_name": "Python 3 (ipykernel)",
   "language": "python",
   "name": "python3"
  },
  "language_info": {
   "codemirror_mode": {
    "name": "ipython",
    "version": 3
   },
   "file_extension": ".py",
   "mimetype": "text/x-python",
   "name": "python",
   "nbconvert_exporter": "python",
   "pygments_lexer": "ipython3",
   "version": "3.7.10"
  }
 },
 "nbformat": 4,
 "nbformat_minor": 1
}
