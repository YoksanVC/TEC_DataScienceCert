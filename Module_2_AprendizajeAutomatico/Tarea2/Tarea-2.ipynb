{
 "cells": [
  {
   "cell_type": "markdown",
   "metadata": {},
   "source": [
    "# Aprendizaje Automático\n",
    "# Tarea 2 - Modelado\n",
    "\n",
    "Profesor: Felipe Meza\n",
    "\n",
    "Tecnológico de Costa Rica, \n",
    "\n",
    "Programa Ciencia de Datos\n",
    "\n",
    "---\n",
    "\n",
    "Estudiantes:\n",
    "\n",
    "1. Sophia Contreras\n",
    "2. Yoksan Varela\n",
    "3. Mauro Víquez"
   ]
  },
  {
   "cell_type": "markdown",
   "metadata": {},
   "source": [
    "Lista de las librerias por ser usadas:"
   ]
  },
  {
   "cell_type": "code",
   "execution_count": 1,
   "metadata": {},
   "outputs": [],
   "source": [
    "%matplotlib inline\n",
    "import pandas as pd\n",
    "import numpy as np\n",
    "import seaborn as sns\n",
    "from random import randrange\n",
    "import matplotlib.pyplot as plt\n",
    "from sklearn.preprocessing import StandardScaler\n",
    "from sklearn.neighbors import KNeighborsClassifier\n",
    "from sklearn.model_selection import train_test_split\n",
    "from matplotlib import style\n",
    "style.use('ggplot')"
   ]
  },
  {
   "cell_type": "markdown",
   "metadata": {},
   "source": [
    "## Problema por resolver\n",
    "Modelar la calidad del vino de tinto del norte de Portugal, solamente basandose en resultados de las pruebas fisico quimicas de los mismos. El dataset original se encuentra en el siguiente enlance: https://archive.ics.uci.edu/dataset/186/wine+quality"
   ]
  },
  {
   "cell_type": "markdown",
   "metadata": {},
   "source": [
    "### Primera Parte: Analisis exploratorio y pre-procesado de set de datos\n",
    "\n",
    "Inicialmente, se importa el set de datos con las informacion de los vinos tintos del estudio (el .csv en uso se va a importar desde una copia local en GitHub)"
   ]
  },
  {
   "cell_type": "code",
   "execution_count": 2,
   "metadata": {},
   "outputs": [
    {
     "data": {
      "text/html": [
       "<div>\n",
       "<style scoped>\n",
       "    .dataframe tbody tr th:only-of-type {\n",
       "        vertical-align: middle;\n",
       "    }\n",
       "\n",
       "    .dataframe tbody tr th {\n",
       "        vertical-align: top;\n",
       "    }\n",
       "\n",
       "    .dataframe thead th {\n",
       "        text-align: right;\n",
       "    }\n",
       "</style>\n",
       "<table border=\"1\" class=\"dataframe\">\n",
       "  <thead>\n",
       "    <tr style=\"text-align: right;\">\n",
       "      <th></th>\n",
       "      <th>fixed acidity</th>\n",
       "      <th>volatile acidity</th>\n",
       "      <th>citric acid</th>\n",
       "      <th>residual sugar</th>\n",
       "      <th>chlorides</th>\n",
       "      <th>free sulfur dioxide</th>\n",
       "      <th>total sulfur dioxide</th>\n",
       "      <th>density</th>\n",
       "      <th>pH</th>\n",
       "      <th>sulphates</th>\n",
       "      <th>alcohol</th>\n",
       "      <th>quality</th>\n",
       "    </tr>\n",
       "  </thead>\n",
       "  <tbody>\n",
       "    <tr>\n",
       "      <th>0</th>\n",
       "      <td>7.4</td>\n",
       "      <td>0.70</td>\n",
       "      <td>0.00</td>\n",
       "      <td>1.9</td>\n",
       "      <td>0.076</td>\n",
       "      <td>11.0</td>\n",
       "      <td>34.0</td>\n",
       "      <td>0.9978</td>\n",
       "      <td>3.51</td>\n",
       "      <td>0.56</td>\n",
       "      <td>9.4</td>\n",
       "      <td>5</td>\n",
       "    </tr>\n",
       "    <tr>\n",
       "      <th>1</th>\n",
       "      <td>7.8</td>\n",
       "      <td>0.88</td>\n",
       "      <td>0.00</td>\n",
       "      <td>2.6</td>\n",
       "      <td>0.098</td>\n",
       "      <td>25.0</td>\n",
       "      <td>67.0</td>\n",
       "      <td>0.9968</td>\n",
       "      <td>3.20</td>\n",
       "      <td>0.68</td>\n",
       "      <td>9.8</td>\n",
       "      <td>5</td>\n",
       "    </tr>\n",
       "    <tr>\n",
       "      <th>2</th>\n",
       "      <td>7.8</td>\n",
       "      <td>0.76</td>\n",
       "      <td>0.04</td>\n",
       "      <td>2.3</td>\n",
       "      <td>0.092</td>\n",
       "      <td>15.0</td>\n",
       "      <td>54.0</td>\n",
       "      <td>0.9970</td>\n",
       "      <td>3.26</td>\n",
       "      <td>0.65</td>\n",
       "      <td>9.8</td>\n",
       "      <td>5</td>\n",
       "    </tr>\n",
       "    <tr>\n",
       "      <th>3</th>\n",
       "      <td>11.2</td>\n",
       "      <td>0.28</td>\n",
       "      <td>0.56</td>\n",
       "      <td>1.9</td>\n",
       "      <td>0.075</td>\n",
       "      <td>17.0</td>\n",
       "      <td>60.0</td>\n",
       "      <td>0.9980</td>\n",
       "      <td>3.16</td>\n",
       "      <td>0.58</td>\n",
       "      <td>9.8</td>\n",
       "      <td>6</td>\n",
       "    </tr>\n",
       "    <tr>\n",
       "      <th>4</th>\n",
       "      <td>7.4</td>\n",
       "      <td>0.70</td>\n",
       "      <td>0.00</td>\n",
       "      <td>1.9</td>\n",
       "      <td>0.076</td>\n",
       "      <td>11.0</td>\n",
       "      <td>34.0</td>\n",
       "      <td>0.9978</td>\n",
       "      <td>3.51</td>\n",
       "      <td>0.56</td>\n",
       "      <td>9.4</td>\n",
       "      <td>5</td>\n",
       "    </tr>\n",
       "  </tbody>\n",
       "</table>\n",
       "</div>"
      ],
      "text/plain": [
       "   fixed acidity  volatile acidity  citric acid  residual sugar  chlorides  \\\n",
       "0            7.4              0.70         0.00             1.9      0.076   \n",
       "1            7.8              0.88         0.00             2.6      0.098   \n",
       "2            7.8              0.76         0.04             2.3      0.092   \n",
       "3           11.2              0.28         0.56             1.9      0.075   \n",
       "4            7.4              0.70         0.00             1.9      0.076   \n",
       "\n",
       "   free sulfur dioxide  total sulfur dioxide  density    pH  sulphates  \\\n",
       "0                 11.0                  34.0   0.9978  3.51       0.56   \n",
       "1                 25.0                  67.0   0.9968  3.20       0.68   \n",
       "2                 15.0                  54.0   0.9970  3.26       0.65   \n",
       "3                 17.0                  60.0   0.9980  3.16       0.58   \n",
       "4                 11.0                  34.0   0.9978  3.51       0.56   \n",
       "\n",
       "   alcohol  quality  \n",
       "0      9.4        5  \n",
       "1      9.8        5  \n",
       "2      9.8        5  \n",
       "3      9.8        6  \n",
       "4      9.4        5  "
      ]
     },
     "execution_count": 2,
     "metadata": {},
     "output_type": "execute_result"
    }
   ],
   "source": [
    "redWine_dataset = pd.read_csv(\"https://raw.githubusercontent.com/YoksanVC/TEC_DataScienceCert/main/Module_2_AprendizajeAutomatico/Tarea2/Datasets/winequality-red.csv\", header=0, delimiter=';')\n",
    "redWine_dataset.head()"
   ]
  },
  {
   "cell_type": "markdown",
   "metadata": {},
   "source": [
    "Analizando la forma del set de datos con el que vamos a trabajar:"
   ]
  },
  {
   "cell_type": "code",
   "execution_count": 3,
   "metadata": {},
   "outputs": [
    {
     "data": {
      "text/plain": [
       "(1599, 12)"
      ]
     },
     "execution_count": 3,
     "metadata": {},
     "output_type": "execute_result"
    }
   ],
   "source": [
    "redWine_dataset.shape"
   ]
  },
  {
   "cell_type": "markdown",
   "metadata": {},
   "source": [
    "Se cuenta con 1599 instancias y 12 atributos. Verificando que no hayan valores nulos en el set de datos antes de continuar con el analisis exploratorio:"
   ]
  },
  {
   "cell_type": "code",
   "execution_count": 4,
   "metadata": {},
   "outputs": [
    {
     "data": {
      "text/plain": [
       "fixed acidity           0\n",
       "volatile acidity        0\n",
       "citric acid             0\n",
       "residual sugar          0\n",
       "chlorides               0\n",
       "free sulfur dioxide     0\n",
       "total sulfur dioxide    0\n",
       "density                 0\n",
       "pH                      0\n",
       "sulphates               0\n",
       "alcohol                 0\n",
       "quality                 0\n",
       "dtype: int64"
      ]
     },
     "execution_count": 4,
     "metadata": {},
     "output_type": "execute_result"
    }
   ],
   "source": [
    "redWine_dataset.isnull().sum()"
   ]
  },
  {
   "cell_type": "markdown",
   "metadata": {},
   "source": [
    "Se confirma que no tenemos valores Nulos que tengamos que trabajar. Ahora, verifiquemos que todas la instancias en un formato numerico intepretable por los modelos."
   ]
  },
  {
   "cell_type": "code",
   "execution_count": 5,
   "metadata": {},
   "outputs": [
    {
     "name": "stdout",
     "output_type": "stream",
     "text": [
      "El tipo del atributo fixed acidity es float64\n",
      "El tipo del atributo volatile acidity es float64\n",
      "El tipo del atributo citric acid es float64\n",
      "El tipo del atributo residual sugar es float64\n",
      "El tipo del atributo chlorides es float64\n",
      "El tipo del atributo free sulfur dioxide es float64\n",
      "El tipo del atributo total sulfur dioxide es float64\n",
      "El tipo del atributo density es float64\n",
      "El tipo del atributo pH es float64\n",
      "El tipo del atributo sulphates es float64\n",
      "El tipo del atributo alcohol es float64\n",
      "El tipo del atributo quality es int64\n"
     ]
    }
   ],
   "source": [
    "for instancia in redWine_dataset:\n",
    "    print(f\"El tipo del atributo {instancia} es {redWine_dataset[instancia].dtype}\")"
   ]
  },
  {
   "cell_type": "markdown",
   "metadata": {},
   "source": [
    "Todas la instancias son de tipo flotante o integer, por lo que no es necesario hacer un remapeo y no habra problema con los algoritmos. Como lo que interesa es modelar la calidad de los vinos, nuestras clases va a ser la columna \"quality\". Veamos su distribucion:"
   ]
  },
  {
   "cell_type": "code",
   "execution_count": 6,
   "metadata": {},
   "outputs": [
    {
     "data": {
      "text/plain": [
       "<seaborn.axisgrid.FacetGrid at 0x17c9667bad0>"
      ]
     },
     "execution_count": 6,
     "metadata": {},
     "output_type": "execute_result"
    },
    {
     "data": {
      "image/png": "[encoded data removed]",
      "text/plain": [
       "<Figure size 500x500 with 1 Axes>"
      ]
     },
     "metadata": {},
     "output_type": "display_data"
    }
   ],
   "source": [
    "sns.displot(redWine_dataset, x=\"quality\")"
   ]
  },
  {
   "cell_type": "markdown",
   "metadata": {},
   "source": [
    "Con esta distribucion se nota un problema: hay un desbalance entre la calidad de los vinos, ya que se tienen muchos datos de calidad entre 5 y 6 pero pocos de los demas. Se procede a balancear los datos para tener una distribucion mas balanceada entre la calidad; pero antes de empezar con esta parte, se procede a Normalizar (dado que hay una variacion considerable entre los atributos) y Estandarizar (para centrarlos) los datos."
   ]
  },
  {
   "cell_type": "code",
   "execution_count": 7,
   "metadata": {},
   "outputs": [
    {
     "data": {
      "text/html": [
       "<div>\n",
       "<style scoped>\n",
       "    .dataframe tbody tr th:only-of-type {\n",
       "        vertical-align: middle;\n",
       "    }\n",
       "\n",
       "    .dataframe tbody tr th {\n",
       "        vertical-align: top;\n",
       "    }\n",
       "\n",
       "    .dataframe thead th {\n",
       "        text-align: right;\n",
       "    }\n",
       "</style>\n",
       "<table border=\"1\" class=\"dataframe\">\n",
       "  <thead>\n",
       "    <tr style=\"text-align: right;\">\n",
       "      <th></th>\n",
       "      <th>fixed acidity</th>\n",
       "      <th>volatile acidity</th>\n",
       "      <th>citric acid</th>\n",
       "      <th>residual sugar</th>\n",
       "      <th>chlorides</th>\n",
       "      <th>free sulfur dioxide</th>\n",
       "      <th>total sulfur dioxide</th>\n",
       "      <th>density</th>\n",
       "      <th>pH</th>\n",
       "      <th>sulphates</th>\n",
       "      <th>alcohol</th>\n",
       "      <th>quality</th>\n",
       "    </tr>\n",
       "  </thead>\n",
       "  <tbody>\n",
       "    <tr>\n",
       "      <th>0</th>\n",
       "      <td>-0.528357</td>\n",
       "      <td>0.961875</td>\n",
       "      <td>-1.391472</td>\n",
       "      <td>-0.453220</td>\n",
       "      <td>-0.243703</td>\n",
       "      <td>-0.466194</td>\n",
       "      <td>-0.379132</td>\n",
       "      <td>0.558277</td>\n",
       "      <td>1.288642</td>\n",
       "      <td>-0.579203</td>\n",
       "      <td>-0.960247</td>\n",
       "      <td>5</td>\n",
       "    </tr>\n",
       "    <tr>\n",
       "      <th>1</th>\n",
       "      <td>-0.298546</td>\n",
       "      <td>1.967443</td>\n",
       "      <td>-1.391472</td>\n",
       "      <td>0.043413</td>\n",
       "      <td>0.223880</td>\n",
       "      <td>0.872636</td>\n",
       "      <td>0.624366</td>\n",
       "      <td>0.028259</td>\n",
       "      <td>-0.719932</td>\n",
       "      <td>0.128951</td>\n",
       "      <td>-0.584775</td>\n",
       "      <td>5</td>\n",
       "    </tr>\n",
       "    <tr>\n",
       "      <th>2</th>\n",
       "      <td>-0.298546</td>\n",
       "      <td>1.297064</td>\n",
       "      <td>-1.186070</td>\n",
       "      <td>-0.169431</td>\n",
       "      <td>0.096354</td>\n",
       "      <td>-0.083671</td>\n",
       "      <td>0.229044</td>\n",
       "      <td>0.134267</td>\n",
       "      <td>-0.331176</td>\n",
       "      <td>-0.048087</td>\n",
       "      <td>-0.584775</td>\n",
       "      <td>5</td>\n",
       "    </tr>\n",
       "    <tr>\n",
       "      <th>3</th>\n",
       "      <td>1.654857</td>\n",
       "      <td>-1.384444</td>\n",
       "      <td>1.484154</td>\n",
       "      <td>-0.453220</td>\n",
       "      <td>-0.264964</td>\n",
       "      <td>0.107590</td>\n",
       "      <td>0.411503</td>\n",
       "      <td>0.664277</td>\n",
       "      <td>-0.979103</td>\n",
       "      <td>-0.461177</td>\n",
       "      <td>-0.584775</td>\n",
       "      <td>6</td>\n",
       "    </tr>\n",
       "    <tr>\n",
       "      <th>4</th>\n",
       "      <td>-0.528357</td>\n",
       "      <td>0.961875</td>\n",
       "      <td>-1.391472</td>\n",
       "      <td>-0.453220</td>\n",
       "      <td>-0.243703</td>\n",
       "      <td>-0.466194</td>\n",
       "      <td>-0.379132</td>\n",
       "      <td>0.558277</td>\n",
       "      <td>1.288642</td>\n",
       "      <td>-0.579203</td>\n",
       "      <td>-0.960247</td>\n",
       "      <td>5</td>\n",
       "    </tr>\n",
       "  </tbody>\n",
       "</table>\n",
       "</div>"
      ],
      "text/plain": [
       "   fixed acidity  volatile acidity  citric acid  residual sugar  chlorides  \\\n",
       "0      -0.528357          0.961875    -1.391472       -0.453220  -0.243703   \n",
       "1      -0.298546          1.967443    -1.391472        0.043413   0.223880   \n",
       "2      -0.298546          1.297064    -1.186070       -0.169431   0.096354   \n",
       "3       1.654857         -1.384444     1.484154       -0.453220  -0.264964   \n",
       "4      -0.528357          0.961875    -1.391472       -0.453220  -0.243703   \n",
       "\n",
       "   free sulfur dioxide  total sulfur dioxide   density        pH  sulphates  \\\n",
       "0            -0.466194             -0.379132  0.558277  1.288642  -0.579203   \n",
       "1             0.872636              0.624366  0.028259 -0.719932   0.128951   \n",
       "2            -0.083671              0.229044  0.134267 -0.331176  -0.048087   \n",
       "3             0.107590              0.411503  0.664277 -0.979103  -0.461177   \n",
       "4            -0.466194             -0.379132  0.558277  1.288642  -0.579203   \n",
       "\n",
       "    alcohol  quality  \n",
       "0 -0.960247        5  \n",
       "1 -0.584775        5  \n",
       "2 -0.584775        5  \n",
       "3 -0.584775        6  \n",
       "4 -0.960247        5  "
      ]
     },
     "execution_count": 7,
     "metadata": {},
     "output_type": "execute_result"
    }
   ],
   "source": [
    "# Guarda la última columna\n",
    "last_column = redWine_dataset.iloc[:, -1]\n",
    "\n",
    "# Elimina la última columna antes de la normalización y estandarización\n",
    "redWine_dataset = redWine_dataset.iloc[:, :-1]\n",
    "\n",
    "# Normalización, limitando a 6 decimales\n",
    "for instancia in redWine_dataset:\n",
    "    minValue = redWine_dataset[instancia].min()\n",
    "    maxValue = redWine_dataset[instancia].max()\n",
    "    redWine_dataset[instancia] = (((redWine_dataset[instancia] - minValue) / (maxValue - minValue))).round(6)\n",
    "\n",
    "# Estandarización, limitando a 6 decimales\n",
    "for instancia in redWine_dataset:\n",
    "    mean = np.mean(redWine_dataset[instancia])\n",
    "    std = np.std(redWine_dataset[instancia])\n",
    "    redWine_dataset[instancia] = ((redWine_dataset[instancia] - mean) / (std)).round(6)\n",
    "\n",
    "# Vuelve a agregar la última columna\n",
    "redWine_dataset = pd.concat([redWine_dataset, last_column], axis=1)\n",
    "\n",
    "redWine_dataset.head()"
   ]
  },
  {
   "cell_type": "markdown",
   "metadata": {},
   "source": [
    "Veamos cual es la cuenta exacta por valor en la columna de calidad:"
   ]
  },
  {
   "cell_type": "code",
   "execution_count": 8,
   "metadata": {},
   "outputs": [
    {
     "name": "stdout",
     "output_type": "stream",
     "text": [
      "quality\n",
      "5    681\n",
      "6    638\n",
      "7    199\n",
      "4     53\n",
      "8     18\n",
      "3     10\n",
      "Name: count, dtype: int64\n"
     ]
    }
   ],
   "source": [
    "print(redWine_dataset['quality'].value_counts())"
   ]
  },
  {
   "cell_type": "markdown",
   "metadata": {},
   "source": [
    "Hay 3 calidades que tienen muchos datos: 5, 6 y 7. Se procede a crear una funcion que recibe como parametros: un dataframe (obligatorio), el valor con el que se desea hacer el filtro (obligatorio) y la cantidad total de isntancias deseadas con el fin de realizar un sub-muestreo de esos valores (opcional con un valor por defecto de 100)."
   ]
  },
  {
   "cell_type": "code",
   "execution_count": 9,
   "metadata": {},
   "outputs": [],
   "source": [
    "def subsampling(dataframe_ori, filter, sampling_limit=100):\n",
    "    dataframe = dataframe_ori.copy()\n",
    "    limit_counter = 0\n",
    "    for i in range(dataframe.shape[0]):\n",
    "        if (dataframe['quality'][i] == filter):\n",
    "            if (limit_counter < sampling_limit):\n",
    "                randNumber = randrange(1,10)\n",
    "                if (dataframe.loc[i,'quality'] == filter and randNumber <= 4): # Probabilidad de un 40% de mantenerse\n",
    "                    limit_counter += 1\n",
    "                else:\n",
    "                    dataframe.loc[i,'quality'] = pd.NA\n",
    "            else:\n",
    "                dataframe.loc[i,'quality'] = pd.NA\n",
    "    return dataframe\n"
   ]
  },
  {
   "cell_type": "markdown",
   "metadata": {},
   "source": [
    "Creando una copia del set datos para conservar los datos originales:"
   ]
  },
  {
   "cell_type": "code",
   "execution_count": 10,
   "metadata": {},
   "outputs": [
    {
     "data": {
      "text/plain": [
       "(1599, 12)"
      ]
     },
     "execution_count": 10,
     "metadata": {},
     "output_type": "execute_result"
    }
   ],
   "source": [
    "redWine_dataset_trimmed = redWine_dataset.copy()\n",
    "redWine_dataset_trimmed.shape"
   ]
  },
  {
   "cell_type": "markdown",
   "metadata": {},
   "source": [
    "Se realiza el sub-muestreo con la funcion subsampling y verificamos la cantidad de datos final:"
   ]
  },
  {
   "cell_type": "code",
   "execution_count": 11,
   "metadata": {},
   "outputs": [
    {
     "data": {
      "text/plain": [
       "(361, 12)"
      ]
     },
     "execution_count": 11,
     "metadata": {},
     "output_type": "execute_result"
    }
   ],
   "source": [
    "# Sub-muestreo usando la fincion de subsampling\n",
    "redWine_dataset_trimmed = subsampling(redWine_dataset_trimmed,5,100)\n",
    "redWine_dataset_trimmed = subsampling(redWine_dataset_trimmed,6,100)\n",
    "redWine_dataset_trimmed = subsampling(redWine_dataset_trimmed,7,80)\n",
    "\n",
    "# Removiendo todos los NaN\n",
    "redWine_dataset_trimmed.dropna(inplace=True)\n",
    "\n",
    "redWine_dataset_trimmed.shape"
   ]
  },
  {
   "cell_type": "markdown",
   "metadata": {},
   "source": [
    "Ahora, hacemos histograma para confirmar que se alcanzado un mejor balance; aunque cabe la pena rescatar que pasamos de mas de 1000 instancias a 368, lo cual podria provocar un problema de under-fitting."
   ]
  },
  {
   "cell_type": "code",
   "execution_count": 12,
   "metadata": {},
   "outputs": [
    {
     "data": {
      "text/plain": [
       "<seaborn.axisgrid.FacetGrid at 0x17c9bc5d2b0>"
      ]
     },
     "execution_count": 12,
     "metadata": {},
     "output_type": "execute_result"
    },
    {
     "data": {
      "image/png": "[encoded data removed]",
      "text/plain": [
       "<Figure size 500x500 with 1 Axes>"
      ]
     },
     "metadata": {},
     "output_type": "display_data"
    }
   ],
   "source": [
    "sns.displot(redWine_dataset_trimmed, x=\"quality\")"
   ]
  },
  {
   "cell_type": "markdown",
   "metadata": {},
   "source": [
    "Se confirma que se tiene un mejor balance. Ya con esto completo, vamos a hacer una revision de los atributos. Hay 12 atributos por analizar, por lo que deberiamos hacer un descarte de algunos para simplificar el modelo. Vamos a crear 3 nuevos data sets, con 4 atributos cada uno, para luego analizar las densidades de cada grupo (lo hacemos con densidades para no hacer una comparacion de datos directa dado que las cantidades son distintas):"
   ]
  },
  {
   "cell_type": "code",
   "execution_count": 13,
   "metadata": {},
   "outputs": [],
   "source": [
    "df_grupo1 = redWine_dataset_trimmed[['fixed acidity', 'volatile acidity', 'citric acid', 'residual sugar']]\n",
    "df_grupo2 = redWine_dataset_trimmed[['chlorides', 'free sulfur dioxide','total sulfur dioxide', 'density']]\n",
    "df_grupo3 = redWine_dataset_trimmed[['pH', 'sulphates','alcohol']]"
   ]
  },
  {
   "cell_type": "code",
   "execution_count": 14,
   "metadata": {},
   "outputs": [
    {
     "data": {
      "text/plain": [
       "<seaborn.axisgrid.PairGrid at 0x17c9c9cb140>"
      ]
     },
     "execution_count": 14,
     "metadata": {},
     "output_type": "execute_result"
    },
    {
     "data": {
      "image/png": "[encoded data removed]",
      "text/plain": [
       "<Figure size 1000x1000 with 20 Axes>"
      ]
     },
     "metadata": {},
     "output_type": "display_data"
    }
   ],
   "source": [
    "g = sns.PairGrid(df_grupo1)\n",
    "g.map_upper(sns.histplot)\n",
    "g.map_lower(sns.kdeplot, fill=True)\n",
    "g.map_diag(sns.histplot, kde=True)"
   ]
  },
  {
   "cell_type": "code",
   "execution_count": 15,
   "metadata": {},
   "outputs": [
    {
     "data": {
      "text/plain": [
       "<seaborn.axisgrid.PairGrid at 0x17c9e2c0aa0>"
      ]
     },
     "execution_count": 15,
     "metadata": {},
     "output_type": "execute_result"
    },
    {
     "data": {
      "image/png": "[encoded data removed]",
      "text/plain": [
       "<Figure size 1000x1000 with 20 Axes>"
      ]
     },
     "metadata": {},
     "output_type": "display_data"
    }
   ],
   "source": [
    "g = sns.PairGrid(df_grupo2)\n",
    "g.map_upper(sns.histplot)\n",
    "g.map_lower(sns.kdeplot, fill=True)\n",
    "g.map_diag(sns.histplot, kde=True)"
   ]
  },
  {
   "cell_type": "code",
   "execution_count": 16,
   "metadata": {},
   "outputs": [
    {
     "data": {
      "text/plain": [
       "<seaborn.axisgrid.PairGrid at 0x17c9b49ec00>"
      ]
     },
     "execution_count": 16,
     "metadata": {},
     "output_type": "execute_result"
    },
    {
     "data": {
      "image/png": "[encoded data removed]",
      "text/plain": [
       "<Figure size 750x750 with 12 Axes>"
      ]
     },
     "metadata": {},
     "output_type": "display_data"
    }
   ],
   "source": [
    "g = sns.PairGrid(df_grupo3)\n",
    "g.map_upper(sns.histplot)\n",
    "g.map_lower(sns.kdeplot, fill=True)\n",
    "g.map_diag(sns.histplot, kde=True)"
   ]
  },
  {
   "cell_type": "markdown",
   "metadata": {},
   "source": [
    "Despues de analizar cada grupo, podemos llegar a las siguientes conclusiones:\n",
    "- El set de datos fue sometido a un sub-muestredo de la calidad, la cual sigue una distribucion normal. Algunos de los atributos no siguen una distribucion normal, tienen skewness muy pronunciados hacia la derecha, lo cual sugiere que esos atributos no podrian ser afectar mucho la calidad del vino.\n",
    "- Otros atributos si muestran una distribucion bastante normal, lo que los convierte en candidatos para poder usados en el modelo de regresion.\n",
    "\n",
    "Por lo tanto, los atributos seleccionados para crear el modelo son: *fixed acidity, volatile acidity, density, pH y alcohol*"
   ]
  },
  {
   "cell_type": "markdown",
   "metadata": {},
   "source": [
    "### Segunda Parte: Modelado y medicion de rendimiento del modelo\n",
    "\n",
    "Lo primero es crear el set de datos con los atributos seleccionados:"
   ]
  },
  {
   "cell_type": "code",
   "execution_count": 17,
   "metadata": {},
   "outputs": [
    {
     "data": {
      "text/plain": [
       "(361, 6)"
      ]
     },
     "execution_count": 17,
     "metadata": {},
     "output_type": "execute_result"
    }
   ],
   "source": [
    "redWine_dataset_toModel = redWine_dataset_trimmed[['fixed acidity', 'volatile acidity','density','pH','alcohol','quality']]\n",
    "redWine_dataset_toModel.shape"
   ]
  },
  {
   "cell_type": "code",
   "execution_count": 18,
   "metadata": {},
   "outputs": [
    {
     "data": {
      "text/html": [
       "<div>\n",
       "<style scoped>\n",
       "    .dataframe tbody tr th:only-of-type {\n",
       "        vertical-align: middle;\n",
       "    }\n",
       "\n",
       "    .dataframe tbody tr th {\n",
       "        vertical-align: top;\n",
       "    }\n",
       "\n",
       "    .dataframe thead th {\n",
       "        text-align: right;\n",
       "    }\n",
       "</style>\n",
       "<table border=\"1\" class=\"dataframe\">\n",
       "  <thead>\n",
       "    <tr style=\"text-align: right;\">\n",
       "      <th></th>\n",
       "      <th>fixed acidity</th>\n",
       "      <th>volatile acidity</th>\n",
       "      <th>density</th>\n",
       "      <th>pH</th>\n",
       "      <th>alcohol</th>\n",
       "      <th>quality</th>\n",
       "    </tr>\n",
       "  </thead>\n",
       "  <tbody>\n",
       "    <tr>\n",
       "      <th>1</th>\n",
       "      <td>-0.298546</td>\n",
       "      <td>1.967443</td>\n",
       "      <td>0.028259</td>\n",
       "      <td>-0.719932</td>\n",
       "      <td>-0.584775</td>\n",
       "      <td>5.0</td>\n",
       "    </tr>\n",
       "    <tr>\n",
       "      <th>2</th>\n",
       "      <td>-0.298546</td>\n",
       "      <td>1.297064</td>\n",
       "      <td>0.134267</td>\n",
       "      <td>-0.331176</td>\n",
       "      <td>-0.584775</td>\n",
       "      <td>5.0</td>\n",
       "    </tr>\n",
       "    <tr>\n",
       "      <th>4</th>\n",
       "      <td>-0.528357</td>\n",
       "      <td>0.961875</td>\n",
       "      <td>0.558277</td>\n",
       "      <td>1.288642</td>\n",
       "      <td>-0.960247</td>\n",
       "      <td>5.0</td>\n",
       "    </tr>\n",
       "    <tr>\n",
       "      <th>6</th>\n",
       "      <td>-0.241097</td>\n",
       "      <td>0.403228</td>\n",
       "      <td>-0.183743</td>\n",
       "      <td>-0.072005</td>\n",
       "      <td>-0.960247</td>\n",
       "      <td>5.0</td>\n",
       "    </tr>\n",
       "    <tr>\n",
       "      <th>7</th>\n",
       "      <td>-0.585813</td>\n",
       "      <td>0.682555</td>\n",
       "      <td>-1.137770</td>\n",
       "      <td>0.511129</td>\n",
       "      <td>-0.397042</td>\n",
       "      <td>7.0</td>\n",
       "    </tr>\n",
       "    <tr>\n",
       "      <th>8</th>\n",
       "      <td>-0.298546</td>\n",
       "      <td>0.291495</td>\n",
       "      <td>0.028259</td>\n",
       "      <td>0.316751</td>\n",
       "      <td>-0.866378</td>\n",
       "      <td>7.0</td>\n",
       "    </tr>\n",
       "    <tr>\n",
       "      <th>10</th>\n",
       "      <td>-0.930529</td>\n",
       "      <td>0.291495</td>\n",
       "      <td>-0.448751</td>\n",
       "      <td>-0.201591</td>\n",
       "      <td>-1.147981</td>\n",
       "      <td>5.0</td>\n",
       "    </tr>\n",
       "    <tr>\n",
       "      <th>11</th>\n",
       "      <td>-0.470907</td>\n",
       "      <td>-0.155418</td>\n",
       "      <td>0.558277</td>\n",
       "      <td>0.251958</td>\n",
       "      <td>0.072294</td>\n",
       "      <td>5.0</td>\n",
       "    </tr>\n",
       "    <tr>\n",
       "      <th>12</th>\n",
       "      <td>-1.562511</td>\n",
       "      <td>0.487025</td>\n",
       "      <td>-1.296771</td>\n",
       "      <td>1.742191</td>\n",
       "      <td>-0.490911</td>\n",
       "      <td>5.0</td>\n",
       "    </tr>\n",
       "    <tr>\n",
       "      <th>18</th>\n",
       "      <td>-0.528357</td>\n",
       "      <td>0.347366</td>\n",
       "      <td>0.346268</td>\n",
       "      <td>0.446337</td>\n",
       "      <td>-1.335714</td>\n",
       "      <td>4.0</td>\n",
       "    </tr>\n",
       "  </tbody>\n",
       "</table>\n",
       "</div>"
      ],
      "text/plain": [
       "    fixed acidity  volatile acidity   density        pH   alcohol  quality\n",
       "1       -0.298546          1.967443  0.028259 -0.719932 -0.584775      5.0\n",
       "2       -0.298546          1.297064  0.134267 -0.331176 -0.584775      5.0\n",
       "4       -0.528357          0.961875  0.558277  1.288642 -0.960247      5.0\n",
       "6       -0.241097          0.403228 -0.183743 -0.072005 -0.960247      5.0\n",
       "7       -0.585813          0.682555 -1.137770  0.511129 -0.397042      7.0\n",
       "8       -0.298546          0.291495  0.028259  0.316751 -0.866378      7.0\n",
       "10      -0.930529          0.291495 -0.448751 -0.201591 -1.147981      5.0\n",
       "11      -0.470907         -0.155418  0.558277  0.251958  0.072294      5.0\n",
       "12      -1.562511          0.487025 -1.296771  1.742191 -0.490911      5.0\n",
       "18      -0.528357          0.347366  0.346268  0.446337 -1.335714      4.0"
      ]
     },
     "execution_count": 18,
     "metadata": {},
     "output_type": "execute_result"
    }
   ],
   "source": [
    "redWine_dataset_toModel.head(10)"
   ]
  },
  {
   "cell_type": "markdown",
   "metadata": {},
   "source": [
    "Separemos los atributos y la clase:"
   ]
  },
  {
   "cell_type": "code",
   "execution_count": 19,
   "metadata": {},
   "outputs": [],
   "source": [
    "atributos = redWine_dataset_toModel[['fixed acidity', 'volatile acidity','density','pH','alcohol']]\n",
    "clase = redWine_dataset_toModel['quality']"
   ]
  },
  {
   "cell_type": "code",
   "execution_count": 20,
   "metadata": {},
   "outputs": [
    {
     "data": {
      "text/html": [
       "<div>\n",
       "<style scoped>\n",
       "    .dataframe tbody tr th:only-of-type {\n",
       "        vertical-align: middle;\n",
       "    }\n",
       "\n",
       "    .dataframe tbody tr th {\n",
       "        vertical-align: top;\n",
       "    }\n",
       "\n",
       "    .dataframe thead th {\n",
       "        text-align: right;\n",
       "    }\n",
       "</style>\n",
       "<table border=\"1\" class=\"dataframe\">\n",
       "  <thead>\n",
       "    <tr style=\"text-align: right;\">\n",
       "      <th></th>\n",
       "      <th>fixed acidity</th>\n",
       "      <th>volatile acidity</th>\n",
       "      <th>density</th>\n",
       "      <th>pH</th>\n",
       "      <th>alcohol</th>\n",
       "    </tr>\n",
       "  </thead>\n",
       "  <tbody>\n",
       "    <tr>\n",
       "      <th>1</th>\n",
       "      <td>-0.298546</td>\n",
       "      <td>1.967443</td>\n",
       "      <td>0.028259</td>\n",
       "      <td>-0.719932</td>\n",
       "      <td>-0.584775</td>\n",
       "    </tr>\n",
       "    <tr>\n",
       "      <th>2</th>\n",
       "      <td>-0.298546</td>\n",
       "      <td>1.297064</td>\n",
       "      <td>0.134267</td>\n",
       "      <td>-0.331176</td>\n",
       "      <td>-0.584775</td>\n",
       "    </tr>\n",
       "    <tr>\n",
       "      <th>4</th>\n",
       "      <td>-0.528357</td>\n",
       "      <td>0.961875</td>\n",
       "      <td>0.558277</td>\n",
       "      <td>1.288642</td>\n",
       "      <td>-0.960247</td>\n",
       "    </tr>\n",
       "    <tr>\n",
       "      <th>6</th>\n",
       "      <td>-0.241097</td>\n",
       "      <td>0.403228</td>\n",
       "      <td>-0.183743</td>\n",
       "      <td>-0.072005</td>\n",
       "      <td>-0.960247</td>\n",
       "    </tr>\n",
       "    <tr>\n",
       "      <th>7</th>\n",
       "      <td>-0.585813</td>\n",
       "      <td>0.682555</td>\n",
       "      <td>-1.137770</td>\n",
       "      <td>0.511129</td>\n",
       "      <td>-0.397042</td>\n",
       "    </tr>\n",
       "  </tbody>\n",
       "</table>\n",
       "</div>"
      ],
      "text/plain": [
       "   fixed acidity  volatile acidity   density        pH   alcohol\n",
       "1      -0.298546          1.967443  0.028259 -0.719932 -0.584775\n",
       "2      -0.298546          1.297064  0.134267 -0.331176 -0.584775\n",
       "4      -0.528357          0.961875  0.558277  1.288642 -0.960247\n",
       "6      -0.241097          0.403228 -0.183743 -0.072005 -0.960247\n",
       "7      -0.585813          0.682555 -1.137770  0.511129 -0.397042"
      ]
     },
     "execution_count": 20,
     "metadata": {},
     "output_type": "execute_result"
    }
   ],
   "source": [
    "atributos.head()"
   ]
  },
  {
   "cell_type": "code",
   "execution_count": 21,
   "metadata": {},
   "outputs": [
    {
     "data": {
      "text/plain": [
       "1    5.0\n",
       "2    5.0\n",
       "4    5.0\n",
       "6    5.0\n",
       "7    7.0\n",
       "Name: quality, dtype: float64"
      ]
     },
     "execution_count": 21,
     "metadata": {},
     "output_type": "execute_result"
    }
   ],
   "source": [
    "clase.head()"
   ]
  },
  {
   "cell_type": "markdown",
   "metadata": {},
   "source": [
    "Ahora se separan los datos para entrenamiento y prueba. Para esto usamos la funcion split de sklearn y verificamos las dimensiones para confirmar que todo este divido correctamente:"
   ]
  },
  {
   "cell_type": "code",
   "execution_count": 22,
   "metadata": {},
   "outputs": [
    {
     "name": "stdout",
     "output_type": "stream",
     "text": [
      "Size of Train Data: 288\n",
      "Size of Test Data: 73\n"
     ]
    }
   ],
   "source": [
    "from sklearn.model_selection import train_test_split\n",
    "#se procede a dividir los datos en una proporción de 80/20\n",
    "X_train, X_test, y_train, y_test = train_test_split(atributos,clase, test_size=0.20)\n",
    "print('Size of Train Data: ' + str(len(X_train)))\n",
    "print('Size of Test Data: ' + str(len(X_test)))"
   ]
  },
  {
   "cell_type": "markdown",
   "metadata": {},
   "source": [
    "#### Primero Modelo de Regression: GaussianProcessClassifier (GPC)\n",
    "El primer modelo a probar es GPC, el cual es proceso de calificacion basado en la aproximacion de Laplace. Este algoritmo tiene como hyperparametro el kernel, el cual especifica la funcion de covarianza usada por el Proceso Gausiano. El valor por defecto del Kernel es \"1.0*RBF(1.0)\", y los hyperparametros del kernel se van optimizando automaticamente durante el entrenamiento.\n",
    "\n",
    "Para mas informacion detallada de este modelo visitar el siguiente enlace: "
   ]
  },
  {
   "cell_type": "code",
   "execution_count": 23,
   "metadata": {},
   "outputs": [
    {
     "data": {
      "text/html": [
       "<style>#sk-container-id-1 {\n",
       "  /* Definition of color scheme common for light and dark mode */\n",
       "  --sklearn-color-text: black;\n",
       "  --sklearn-color-line: gray;\n",
       "  /* Definition of color scheme for unfitted estimators */\n",
       "  --sklearn-color-unfitted-level-0: #fff5e6;\n",
       "  --sklearn-color-unfitted-level-1: #f6e4d2;\n",
       "  --sklearn-color-unfitted-level-2: #ffe0b3;\n",
       "  --sklearn-color-unfitted-level-3: chocolate;\n",
       "  /* Definition of color scheme for fitted estimators */\n",
       "  --sklearn-color-fitted-level-0: #f0f8ff;\n",
       "  --sklearn-color-fitted-level-1: #d4ebff;\n",
       "  --sklearn-color-fitted-level-2: #b3dbfd;\n",
       "  --sklearn-color-fitted-level-3: cornflowerblue;\n",
       "\n",
       "  /* Specific color for light theme */\n",
       "  --sklearn-color-text-on-default-background: var(--sg-text-color, var(--theme-code-foreground, var(--jp-content-font-color1, black)));\n",
       "  --sklearn-color-background: var(--sg-background-color, var(--theme-background, var(--jp-layout-color0, white)));\n",
       "  --sklearn-color-border-box: var(--sg-text-color, var(--theme-code-foreground, var(--jp-content-font-color1, black)));\n",
       "  --sklearn-color-icon: #696969;\n",
       "\n",
       "  @media (prefers-color-scheme: dark) {\n",
       "    /* Redefinition of color scheme for dark theme */\n",
       "    --sklearn-color-text-on-default-background: var(--sg-text-color, var(--theme-code-foreground, var(--jp-content-font-color1, white)));\n",
       "    --sklearn-color-background: var(--sg-background-color, var(--theme-background, var(--jp-layout-color0, #111)));\n",
       "    --sklearn-color-border-box: var(--sg-text-color, var(--theme-code-foreground, var(--jp-content-font-color1, white)));\n",
       "    --sklearn-color-icon: #878787;\n",
       "  }\n",
       "}\n",
       "\n",
       "#sk-container-id-1 {\n",
       "  color: var(--sklearn-color-text);\n",
       "}\n",
       "\n",
       "#sk-container-id-1 pre {\n",
       "  padding: 0;\n",
       "}\n",
       "\n",
       "#sk-container-id-1 input.sk-hidden--visually {\n",
       "  border: 0;\n",
       "  clip: rect(1px 1px 1px 1px);\n",
       "  clip: rect(1px, 1px, 1px, 1px);\n",
       "  height: 1px;\n",
       "  margin: -1px;\n",
       "  overflow: hidden;\n",
       "  padding: 0;\n",
       "  position: absolute;\n",
       "  width: 1px;\n",
       "}\n",
       "\n",
       "#sk-container-id-1 div.sk-dashed-wrapped {\n",
       "  border: 1px dashed var(--sklearn-color-line);\n",
       "  margin: 0 0.4em 0.5em 0.4em;\n",
       "  box-sizing: border-box;\n",
       "  padding-bottom: 0.4em;\n",
       "  background-color: var(--sklearn-color-background);\n",
       "}\n",
       "\n",
       "#sk-container-id-1 div.sk-container {\n",
       "  /* jupyter's `normalize.less` sets `[hidden] { display: none; }`\n",
       "     but bootstrap.min.css set `[hidden] { display: none !important; }`\n",
       "     so we also need the `!important` here to be able to override the\n",
       "     default hidden behavior on the sphinx rendered scikit-learn.org.\n",
       "     See: https://github.com/scikit-learn/scikit-learn/issues/21755 */\n",
       "  display: inline-block !important;\n",
       "  position: relative;\n",
       "}\n",
       "\n",
       "#sk-container-id-1 div.sk-text-repr-fallback {\n",
       "  display: none;\n",
       "}\n",
       "\n",
       "div.sk-parallel-item,\n",
       "div.sk-serial,\n",
       "div.sk-item {\n",
       "  /* draw centered vertical line to link estimators */\n",
       "  background-image: linear-gradient(var(--sklearn-color-text-on-default-background), var(--sklearn-color-text-on-default-background));\n",
       "  background-size: 2px 100%;\n",
       "  background-repeat: no-repeat;\n",
       "  background-position: center center;\n",
       "}\n",
       "\n",
       "/* Parallel-specific style estimator block */\n",
       "\n",
       "#sk-container-id-1 div.sk-parallel-item::after {\n",
       "  content: \"\";\n",
       "  width: 100%;\n",
       "  border-bottom: 2px solid var(--sklearn-color-text-on-default-background);\n",
       "  flex-grow: 1;\n",
       "}\n",
       "\n",
       "#sk-container-id-1 div.sk-parallel {\n",
       "  display: flex;\n",
       "  align-items: stretch;\n",
       "  justify-content: center;\n",
       "  background-color: var(--sklearn-color-background);\n",
       "  position: relative;\n",
       "}\n",
       "\n",
       "#sk-container-id-1 div.sk-parallel-item {\n",
       "  display: flex;\n",
       "  flex-direction: column;\n",
       "}\n",
       "\n",
       "#sk-container-id-1 div.sk-parallel-item:first-child::after {\n",
       "  align-self: flex-end;\n",
       "  width: 50%;\n",
       "}\n",
       "\n",
       "#sk-container-id-1 div.sk-parallel-item:last-child::after {\n",
       "  align-self: flex-start;\n",
       "  width: 50%;\n",
       "}\n",
       "\n",
       "#sk-container-id-1 div.sk-parallel-item:only-child::after {\n",
       "  width: 0;\n",
       "}\n",
       "\n",
       "/* Serial-specific style estimator block */\n",
       "\n",
       "#sk-container-id-1 div.sk-serial {\n",
       "  display: flex;\n",
       "  flex-direction: column;\n",
       "  align-items: center;\n",
       "  background-color: var(--sklearn-color-background);\n",
       "  padding-right: 1em;\n",
       "  padding-left: 1em;\n",
       "}\n",
       "\n",
       "\n",
       "/* Toggleable style: style used for estimator/Pipeline/ColumnTransformer box that is\n",
       "clickable and can be expanded/collapsed.\n",
       "- Pipeline and ColumnTransformer use this feature and define the default style\n",
       "- Estimators will overwrite some part of the style using the `sk-estimator` class\n",
       "*/\n",
       "\n",
       "/* Pipeline and ColumnTransformer style (default) */\n",
       "\n",
       "#sk-container-id-1 div.sk-toggleable {\n",
       "  /* Default theme specific background. It is overwritten whether we have a\n",
       "  specific estimator or a Pipeline/ColumnTransformer */\n",
       "  background-color: var(--sklearn-color-background);\n",
       "}\n",
       "\n",
       "/* Toggleable label */\n",
       "#sk-container-id-1 label.sk-toggleable__label {\n",
       "  cursor: pointer;\n",
       "  display: block;\n",
       "  width: 100%;\n",
       "  margin-bottom: 0;\n",
       "  padding: 0.5em;\n",
       "  box-sizing: border-box;\n",
       "  text-align: center;\n",
       "}\n",
       "\n",
       "#sk-container-id-1 label.sk-toggleable__label-arrow:before {\n",
       "  /* Arrow on the left of the label */\n",
       "  content: \"▸\";\n",
       "  float: left;\n",
       "  margin-right: 0.25em;\n",
       "  color: var(--sklearn-color-icon);\n",
       "}\n",
       "\n",
       "#sk-container-id-1 label.sk-toggleable__label-arrow:hover:before {\n",
       "  color: var(--sklearn-color-text);\n",
       "}\n",
       "\n",
       "/* Toggleable content - dropdown */\n",
       "\n",
       "#sk-container-id-1 div.sk-toggleable__content {\n",
       "  max-height: 0;\n",
       "  max-width: 0;\n",
       "  overflow: hidden;\n",
       "  text-align: left;\n",
       "  /* unfitted */\n",
       "  background-color: var(--sklearn-color-unfitted-level-0);\n",
       "}\n",
       "\n",
       "#sk-container-id-1 div.sk-toggleable__content.fitted {\n",
       "  /* fitted */\n",
       "  background-color: var(--sklearn-color-fitted-level-0);\n",
       "}\n",
       "\n",
       "#sk-container-id-1 div.sk-toggleable__content pre {\n",
       "  margin: 0.2em;\n",
       "  border-radius: 0.25em;\n",
       "  color: var(--sklearn-color-text);\n",
       "  /* unfitted */\n",
       "  background-color: var(--sklearn-color-unfitted-level-0);\n",
       "}\n",
       "\n",
       "#sk-container-id-1 div.sk-toggleable__content.fitted pre {\n",
       "  /* unfitted */\n",
       "  background-color: var(--sklearn-color-fitted-level-0);\n",
       "}\n",
       "\n",
       "#sk-container-id-1 input.sk-toggleable__control:checked~div.sk-toggleable__content {\n",
       "  /* Expand drop-down */\n",
       "  max-height: 200px;\n",
       "  max-width: 100%;\n",
       "  overflow: auto;\n",
       "}\n",
       "\n",
       "#sk-container-id-1 input.sk-toggleable__control:checked~label.sk-toggleable__label-arrow:before {\n",
       "  content: \"▾\";\n",
       "}\n",
       "\n",
       "/* Pipeline/ColumnTransformer-specific style */\n",
       "\n",
       "#sk-container-id-1 div.sk-label input.sk-toggleable__control:checked~label.sk-toggleable__label {\n",
       "  color: var(--sklearn-color-text);\n",
       "  background-color: var(--sklearn-color-unfitted-level-2);\n",
       "}\n",
       "\n",
       "#sk-container-id-1 div.sk-label.fitted input.sk-toggleable__control:checked~label.sk-toggleable__label {\n",
       "  background-color: var(--sklearn-color-fitted-level-2);\n",
       "}\n",
       "\n",
       "/* Estimator-specific style */\n",
       "\n",
       "/* Colorize estimator box */\n",
       "#sk-container-id-1 div.sk-estimator input.sk-toggleable__control:checked~label.sk-toggleable__label {\n",
       "  /* unfitted */\n",
       "  background-color: var(--sklearn-color-unfitted-level-2);\n",
       "}\n",
       "\n",
       "#sk-container-id-1 div.sk-estimator.fitted input.sk-toggleable__control:checked~label.sk-toggleable__label {\n",
       "  /* fitted */\n",
       "  background-color: var(--sklearn-color-fitted-level-2);\n",
       "}\n",
       "\n",
       "#sk-container-id-1 div.sk-label label.sk-toggleable__label,\n",
       "#sk-container-id-1 div.sk-label label {\n",
       "  /* The background is the default theme color */\n",
       "  color: var(--sklearn-color-text-on-default-background);\n",
       "}\n",
       "\n",
       "/* On hover, darken the color of the background */\n",
       "#sk-container-id-1 div.sk-label:hover label.sk-toggleable__label {\n",
       "  color: var(--sklearn-color-text);\n",
       "  background-color: var(--sklearn-color-unfitted-level-2);\n",
       "}\n",
       "\n",
       "/* Label box, darken color on hover, fitted */\n",
       "#sk-container-id-1 div.sk-label.fitted:hover label.sk-toggleable__label.fitted {\n",
       "  color: var(--sklearn-color-text);\n",
       "  background-color: var(--sklearn-color-fitted-level-2);\n",
       "}\n",
       "\n",
       "/* Estimator label */\n",
       "\n",
       "#sk-container-id-1 div.sk-label label {\n",
       "  font-family: monospace;\n",
       "  font-weight: bold;\n",
       "  display: inline-block;\n",
       "  line-height: 1.2em;\n",
       "}\n",
       "\n",
       "#sk-container-id-1 div.sk-label-container {\n",
       "  text-align: center;\n",
       "}\n",
       "\n",
       "/* Estimator-specific */\n",
       "#sk-container-id-1 div.sk-estimator {\n",
       "  font-family: monospace;\n",
       "  border: 1px dotted var(--sklearn-color-border-box);\n",
       "  border-radius: 0.25em;\n",
       "  box-sizing: border-box;\n",
       "  margin-bottom: 0.5em;\n",
       "  /* unfitted */\n",
       "  background-color: var(--sklearn-color-unfitted-level-0);\n",
       "}\n",
       "\n",
       "#sk-container-id-1 div.sk-estimator.fitted {\n",
       "  /* fitted */\n",
       "  background-color: var(--sklearn-color-fitted-level-0);\n",
       "}\n",
       "\n",
       "/* on hover */\n",
       "#sk-container-id-1 div.sk-estimator:hover {\n",
       "  /* unfitted */\n",
       "  background-color: var(--sklearn-color-unfitted-level-2);\n",
       "}\n",
       "\n",
       "#sk-container-id-1 div.sk-estimator.fitted:hover {\n",
       "  /* fitted */\n",
       "  background-color: var(--sklearn-color-fitted-level-2);\n",
       "}\n",
       "\n",
       "/* Specification for estimator info (e.g. \"i\" and \"?\") */\n",
       "\n",
       "/* Common style for \"i\" and \"?\" */\n",
       "\n",
       ".sk-estimator-doc-link,\n",
       "a:link.sk-estimator-doc-link,\n",
       "a:visited.sk-estimator-doc-link {\n",
       "  float: right;\n",
       "  font-size: smaller;\n",
       "  line-height: 1em;\n",
       "  font-family: monospace;\n",
       "  background-color: var(--sklearn-color-background);\n",
       "  border-radius: 1em;\n",
       "  height: 1em;\n",
       "  width: 1em;\n",
       "  text-decoration: none !important;\n",
       "  margin-left: 1ex;\n",
       "  /* unfitted */\n",
       "  border: var(--sklearn-color-unfitted-level-1) 1pt solid;\n",
       "  color: var(--sklearn-color-unfitted-level-1);\n",
       "}\n",
       "\n",
       ".sk-estimator-doc-link.fitted,\n",
       "a:link.sk-estimator-doc-link.fitted,\n",
       "a:visited.sk-estimator-doc-link.fitted {\n",
       "  /* fitted */\n",
       "  border: var(--sklearn-color-fitted-level-1) 1pt solid;\n",
       "  color: var(--sklearn-color-fitted-level-1);\n",
       "}\n",
       "\n",
       "/* On hover */\n",
       "div.sk-estimator:hover .sk-estimator-doc-link:hover,\n",
       ".sk-estimator-doc-link:hover,\n",
       "div.sk-label-container:hover .sk-estimator-doc-link:hover,\n",
       ".sk-estimator-doc-link:hover {\n",
       "  /* unfitted */\n",
       "  background-color: var(--sklearn-color-unfitted-level-3);\n",
       "  color: var(--sklearn-color-background);\n",
       "  text-decoration: none;\n",
       "}\n",
       "\n",
       "div.sk-estimator.fitted:hover .sk-estimator-doc-link.fitted:hover,\n",
       ".sk-estimator-doc-link.fitted:hover,\n",
       "div.sk-label-container:hover .sk-estimator-doc-link.fitted:hover,\n",
       ".sk-estimator-doc-link.fitted:hover {\n",
       "  /* fitted */\n",
       "  background-color: var(--sklearn-color-fitted-level-3);\n",
       "  color: var(--sklearn-color-background);\n",
       "  text-decoration: none;\n",
       "}\n",
       "\n",
       "/* Span, style for the box shown on hovering the info icon */\n",
       ".sk-estimator-doc-link span {\n",
       "  display: none;\n",
       "  z-index: 9999;\n",
       "  position: relative;\n",
       "  font-weight: normal;\n",
       "  right: .2ex;\n",
       "  padding: .5ex;\n",
       "  margin: .5ex;\n",
       "  width: min-content;\n",
       "  min-width: 20ex;\n",
       "  max-width: 50ex;\n",
       "  color: var(--sklearn-color-text);\n",
       "  box-shadow: 2pt 2pt 4pt #999;\n",
       "  /* unfitted */\n",
       "  background: var(--sklearn-color-unfitted-level-0);\n",
       "  border: .5pt solid var(--sklearn-color-unfitted-level-3);\n",
       "}\n",
       "\n",
       ".sk-estimator-doc-link.fitted span {\n",
       "  /* fitted */\n",
       "  background: var(--sklearn-color-fitted-level-0);\n",
       "  border: var(--sklearn-color-fitted-level-3);\n",
       "}\n",
       "\n",
       ".sk-estimator-doc-link:hover span {\n",
       "  display: block;\n",
       "}\n",
       "\n",
       "/* \"?\"-specific style due to the `<a>` HTML tag */\n",
       "\n",
       "#sk-container-id-1 a.estimator_doc_link {\n",
       "  float: right;\n",
       "  font-size: 1rem;\n",
       "  line-height: 1em;\n",
       "  font-family: monospace;\n",
       "  background-color: var(--sklearn-color-background);\n",
       "  border-radius: 1rem;\n",
       "  height: 1rem;\n",
       "  width: 1rem;\n",
       "  text-decoration: none;\n",
       "  /* unfitted */\n",
       "  color: var(--sklearn-color-unfitted-level-1);\n",
       "  border: var(--sklearn-color-unfitted-level-1) 1pt solid;\n",
       "}\n",
       "\n",
       "#sk-container-id-1 a.estimator_doc_link.fitted {\n",
       "  /* fitted */\n",
       "  border: var(--sklearn-color-fitted-level-1) 1pt solid;\n",
       "  color: var(--sklearn-color-fitted-level-1);\n",
       "}\n",
       "\n",
       "/* On hover */\n",
       "#sk-container-id-1 a.estimator_doc_link:hover {\n",
       "  /* unfitted */\n",
       "  background-color: var(--sklearn-color-unfitted-level-3);\n",
       "  color: var(--sklearn-color-background);\n",
       "  text-decoration: none;\n",
       "}\n",
       "\n",
       "#sk-container-id-1 a.estimator_doc_link.fitted:hover {\n",
       "  /* fitted */\n",
       "  background-color: var(--sklearn-color-fitted-level-3);\n",
       "}\n",
       "</style><div id=\"sk-container-id-1\" class=\"sk-top-container\"><div class=\"sk-text-repr-fallback\"><pre>GaussianProcessClassifier(kernel=1**2 * RBF(length_scale=1), random_state=0)</pre><b>In a Jupyter environment, please rerun this cell to show the HTML representation or trust the notebook. <br />On GitHub, the HTML representation is unable to render, please try loading this page with nbviewer.org.</b></div><div class=\"sk-container\" hidden><div class=\"sk-item\"><div class=\"sk-estimator fitted sk-toggleable\"><input class=\"sk-toggleable__control sk-hidden--visually\" id=\"sk-estimator-id-1\" type=\"checkbox\" checked><label for=\"sk-estimator-id-1\" class=\"sk-toggleable__label fitted sk-toggleable__label-arrow fitted\">&nbsp;&nbsp;GaussianProcessClassifier<a class=\"sk-estimator-doc-link fitted\" rel=\"noreferrer\" target=\"_blank\" href=\"https://scikit-learn.org/1.4/modules/generated/sklearn.gaussian_process.GaussianProcessClassifier.html\">?<span>Documentation for GaussianProcessClassifier</span></a><span class=\"sk-estimator-doc-link fitted\">i<span>Fitted</span></span></label><div class=\"sk-toggleable__content fitted\"><pre>GaussianProcessClassifier(kernel=1**2 * RBF(length_scale=1), random_state=0)</pre></div> </div></div></div></div>"
      ],
      "text/plain": [
       "GaussianProcessClassifier(kernel=1**2 * RBF(length_scale=1), random_state=0)"
      ]
     },
     "execution_count": 23,
     "metadata": {},
     "output_type": "execute_result"
    }
   ],
   "source": [
    "from sklearn.gaussian_process import GaussianProcessClassifier\n",
    "from sklearn.gaussian_process.kernels import RBF\n",
    "\n",
    "# Definiendo el Kernel\n",
    "kernel = 1.0 * RBF(1.0)\n",
    "\n",
    "# Usando los valores por defecto\n",
    "gpc_Model_1 = GaussianProcessClassifier(kernel=kernel,random_state=0)\n",
    "gpc_Model_1.fit(X_train, y_train)"
   ]
  },
  {
   "cell_type": "markdown",
   "metadata": {},
   "source": [
    "Ya con el modelo GCP creado y entrenado, se procede a calcular el Accuracy para determinar el rendimiento del mismo:"
   ]
  },
  {
   "cell_type": "code",
   "execution_count": 24,
   "metadata": {},
   "outputs": [
    {
     "name": "stdout",
     "output_type": "stream",
     "text": [
      "Certeza del GPC: 54.79%\n"
     ]
    }
   ],
   "source": [
    "from sklearn.metrics import accuracy_score\n",
    "\n",
    "y_prediction = gpc_Model_1.predict(X_test)\n",
    "gpc_Score = round(accuracy_score(y_test,y_prediction)*100,2)\n",
    "print(f\"Certeza del GPC: {gpc_Score}%\")\n"
   ]
  },
  {
   "cell_type": "markdown",
   "metadata": {},
   "source": [
    "Se grafican los valores de la prediccion contra los valores del test para tener una referencua visual del rendimiento del modelo:"
   ]
  },
  {
   "cell_type": "code",
   "execution_count": 30,
   "metadata": {},
   "outputs": [
    {
     "data": {
      "image/png": "[encoded data removed]",
      "text/plain": [
       "<Figure size 640x480 with 1 Axes>"
      ]
     },
     "metadata": {},
     "output_type": "display_data"
    }
   ],
   "source": [
    "plt.scatter(range(len(y_test)),y_test, label = 'Prueba', color=\"blue\")\n",
    "plt.scatter(range(len(y_prediction)),y_prediction, label = 'Prediccion', color=\"red\")\n",
    "plt.legend()\n",
    "plt.show()"
   ]
  },
  {
   "cell_type": "markdown",
   "metadata": {},
   "source": [
    "De este modelo se concluye lo siguiente:\n",
    "- Una certeza del 52.8% nos indica que este modelo NO es apto para la clase de problema de clasificacion que tenemos.\n",
    "- La prediccion esta muy concentrada entre los valores de calidad 7 y 5, lo cual podria indicar que: no se cuenta con los atributos correctos para determinar si hay vinos de muy buena calidad o de muy mala calidad dado que se seleccionaron los atributos que siguen una forma normal; o bien, lo que hace que un vino sea muy bueno o muy malo podrian ser condiciones extremas (outliers) de los otros atributos."
   ]
  },
  {
   "cell_type": "markdown",
   "metadata": {},
   "source": [
    "#### Segundo: Modelo KNN\n",
    "El modelo KNN funciona tomando como base los \"K\" vecinos más cercanos de un punto dado. Este modelo es efectivo si los datos no tiene un traslape alto o si hay regiones muy divididas y marcadas en la segmentación. Para ello comenzamos revisando la distribución de los datos gráficamente. "
   ]
  },
  {
   "cell_type": "code",
   "execution_count": null,
   "metadata": {},
   "outputs": [],
   "source": [
    "sns.pairplot(redWine_dataset_toModel, hue='quality', height=3.5)"
   ]
  },
  {
   "cell_type": "markdown",
   "metadata": {},
   "source": [
    "En situaciones no didacticas se recomendaría no utilizar este algoritmo debido a que los puntos están cerca el úno del otro en todas las distribuciones estándar y gráficos de dispersion por lo que los \"k\" terminos más cercanos pueden variar mucho por punto. Sin embargo para fines del ejercicio se procede a Intentar realizar la clasificación"
   ]
  },
  {
   "cell_type": "code",
   "execution_count": null,
   "metadata": {},
   "outputs": [],
   "source": [
    "# se importan las librerías para poder usar knn\n",
    "from sklearn.model_selection import cross_val_score\n",
    "from sklearn.metrics import accuracy_score"
   ]
  },
  {
   "cell_type": "markdown",
   "metadata": {},
   "source": [
    "Para obtener el valor de \"k\" optimo ya que es un hiperparámetro se necesita revisar el accuracy de modelo para cada valor de \"k\". El siguiente código saca el  valor optimo dando como salida el accuracy de los datos tanto de entrenamiento como de prueba"
   ]
  },
  {
   "cell_type": "code",
   "execution_count": null,
   "metadata": {},
   "outputs": [],
   "source": [
    "#definimos hasta cual valor de K se quiere probar\n",
    "k=50"
   ]
  },
  {
   "cell_type": "code",
   "execution_count": null,
   "metadata": {},
   "outputs": [],
   "source": [
    "accuracy_train =[]\n",
    "for num in range(1, k):\n",
    "  knn = KNeighborsClassifier(n_neighbors=num)\n",
    "  knn.fit(X_train, y_train)\n",
    "  prediction = knn.predict(X_train)\n",
    "  acc=round((accuracy_score(y_train, prediction) * 100), 2)\n",
    "  accuracy_train.append(acc)"
   ]
  },
  {
   "cell_type": "code",
   "execution_count": null,
   "metadata": {},
   "outputs": [],
   "source": [
    "accuracy_test =[]\n",
    "for num in range(1, k):\n",
    "  knn = KNeighborsClassifier(n_neighbors=num)\n",
    "  knn.fit(X_train, y_train)\n",
    "  prediction = knn.predict(X_test)\n",
    "  acc=round((accuracy_score(y_test, prediction) * 100), 2)\n",
    "  accuracy_test.append(acc)"
   ]
  },
  {
   "cell_type": "code",
   "execution_count": null,
   "metadata": {},
   "outputs": [],
   "source": [
    "plt.figure(figsize=(16, 8))\n",
    "plt.plot(range(1, k), accuracy_train, color='blue', marker='o', label='Train Accuracy')\n",
    "plt.plot(range(1, k), accuracy_test, color='red', marker='s', label='Test Accuracy')\n",
    "plt.ylabel(\"Accuracy (%)\")\n",
    "plt.xlabel(\"n_neighbors\")\n",
    "plt.legend()\n",
    "plt.show()"
   ]
  },
  {
   "cell_type": "markdown",
   "metadata": {},
   "source": [
    "Se calcula un valor de \"K\" para este ejercicio que sea el que tiene la mejor proporción de cercanía entre curvas con el mejor Accuracy posible para los datos de prueba."
   ]
  },
  {
   "cell_type": "code",
   "execution_count": null,
   "metadata": {},
   "outputs": [],
   "source": [
    "# Convertir a numpy\n",
    "np_accuracy_test = np.array(accuracy_test)\n",
    "np_accuracy_train= np.array(accuracy_train)\n",
    "\n",
    "\n",
    "data = {'accuracy_test': accuracy_test}\n",
    "df = pd.DataFrame(data)\n",
    "\n",
    "#Se busca el los datos que estén más cerca\n",
    "df['resultado_resta'] = np.abs(np_accuracy_train - np_accuracy_test)\n",
    "\n",
    "# Se tienen dos parámetros: 1-Accuracy alto, 2-Poca separación entre test y train\n",
    "#Para ello se crea una columna llamada score que divide accuracy (directamente proporcional) entre separación (inversamente proporcional)\n",
    "#El mayor valor de este score será el índice ideal para el algoritmo\n",
    "df['score'] = df['accuracy_test'] / df['resultado_resta']\n",
    "\n",
    "# Índice del valor máximo en la columna 'score'\n",
    "k = df['score'].idxmax()\n",
    "KNN = df.loc[k, 'accuracy_test']\n",
    "\n",
    "\n",
    "print(\"Para el set de datos, usando un k de: \", k, \" se obtiene un accuracy de: \", KNN, \"%\")"
   ]
  },
  {
   "cell_type": "code",
   "execution_count": null,
   "metadata": {},
   "outputs": [],
   "source": [
    "knn = KNeighborsClassifier(n_neighbors=k)\n",
    "knn.fit(X_train, y_train)\n",
    "prediction = knn.predict(X_test)\n",
    "from sklearn.metrics import accuracy_score\n",
    "knn_accuracy = round((accuracy_score(y_test, prediction) * 100), 2)\n",
    "print(str(knn_accuracy) + '%')"
   ]
  },
  {
   "cell_type": "markdown",
   "metadata": {},
   "source": [
    "En la distribución de datos se podía observar que realizar la segmentación por medio de KNN sería compplicadon debido a la multiplicidad de vecinos que se encuentran en el set de datos por lo que la clasificación se vuelve difusa para el algoritmo. "
   ]
  },
  {
   "cell_type": "markdown",
   "metadata": {},
   "source": [
    "#### Tercero: Modelo Random Forest\n",
    "El modelo random forest, al igual que el modelo de KNN cuanta con un hiperparámetro de cuantos random forest se utilizarn para el cálculo del modelo. Por lo que para este modelo se utiliza una metodología similar a la utilizada anteriormente. Sin embargo, en este caso no vale la pena comparar contra los datos de entrenamiento ya que por la naturaleza del algoritmo no existe posibilidad de variación en la curva. "
   ]
  },
  {
   "cell_type": "code",
   "execution_count": null,
   "metadata": {},
   "outputs": [],
   "source": [
    "from sklearn.ensemble import RandomForestClassifier\n",
    "rf=30\n",
    "\n",
    "\n",
    "accuracy_test =[]\n",
    "for num in range(1, rf):\n",
    "    model = RandomForestClassifier(n_estimators=rf)\n",
    "    model.fit(X_train, y_train)\n",
    "    prediction = model.predict(X_test)\n",
    "    randomForest_model_accuracy = round((accuracy_score(y_test, prediction) * 100), 2)\n",
    "    accuracy_test.append(randomForest_model_accuracy)\n",
    "\n",
    "plt.figure(figsize=(16, 8))\n",
    "plt.plot(range(1, rf), accuracy_test, color='red', marker='s', label='Test Accuracy')\n",
    "plt.ylabel(\"Accuracy (%)\")\n",
    "plt.xlabel(\"n_estimators\")\n",
    "plt.legend()\n",
    "plt.show()\n",
    "\n",
    "Random_forest = max(accuracy_test)\n",
    "print(\"Para el set de datos, usando un n_estimators de: \", rf, \" se obtiene un accuracy de: \", Random_forest, \"%\")"
   ]
  }
 ],
 "metadata": {
  "kernelspec": {
   "display_name": "Python 3 (ipykernel)",
   "language": "python",
   "name": "python3"
  },
  "language_info": {
   "codemirror_mode": {
    "name": "ipython",
    "version": 3
   },
   "file_extension": ".py",
   "mimetype": "text/x-python",
   "name": "python",
   "nbconvert_exporter": "python",
   "pygments_lexer": "ipython3",
   "version": "3.12.1"
  }
 },
 "nbformat": 4,
 "nbformat_minor": 4
}
