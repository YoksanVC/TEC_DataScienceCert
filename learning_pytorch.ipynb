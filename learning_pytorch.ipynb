{
 "cells": [
  {
   "cell_type": "markdown",
   "metadata": {},
   "source": [
    "# Learning PyTorch\n",
    "\n",
    "In this notebook you can find learning activities and generic codes to be used in different projects.\n",
    "\n",
    "Example in this code was taking from: https://pytorch.org/tutorials/beginner/basics/quickstart_tutorial.html"
   ]
  },
  {
   "cell_type": "markdown",
   "metadata": {},
   "source": [
    "## General Imports"
   ]
  },
  {
   "cell_type": "code",
   "execution_count": 1,
   "metadata": {},
   "outputs": [],
   "source": [
    "import torch\n",
    "from torch import nn\n",
    "from torch.utils.data import DataLoader\n",
    "from torchvision import datasets\n",
    "from torchvision.transforms import ToTensor"
   ]
  },
  {
   "cell_type": "markdown",
   "metadata": {},
   "source": [
    "Now getting the datasets to test and train:"
   ]
  },
  {
   "cell_type": "code",
   "execution_count": 2,
   "metadata": {},
   "outputs": [],
   "source": [
    "# Download training data from open datasets.\n",
    "training_data = datasets.FashionMNIST(\n",
    "    root=\"data\",\n",
    "    train=True,\n",
    "    download=True,\n",
    "    transform=ToTensor(),\n",
    ")\n",
    "\n",
    "# Download test data from open datasets.\n",
    "test_data = datasets.FashionMNIST(\n",
    "    root=\"data\",\n",
    "    train=False,\n",
    "    download=True,\n",
    "    transform=ToTensor(),\n",
    ")"
   ]
  },
  {
   "cell_type": "markdown",
   "metadata": {},
   "source": [
    "Now lets create a dataloader to create both train and test elements:"
   ]
  },
  {
   "cell_type": "code",
   "execution_count": 3,
   "metadata": {},
   "outputs": [
    {
     "name": "stdout",
     "output_type": "stream",
     "text": [
      "Shape of X [N, C, H, W]: torch.Size([64, 1, 28, 28])\n",
      "Shape of y: torch.Size([64]) torch.int64\n"
     ]
    }
   ],
   "source": [
    "batch_size = 64\n",
    "\n",
    "# Create data loaders.\n",
    "train_dataloader = DataLoader(training_data, batch_size=batch_size)\n",
    "test_dataloader = DataLoader(test_data, batch_size=batch_size)\n",
    "\n",
    "for X, y in test_dataloader:\n",
    "    print(f\"Shape of X [N, C, H, W]: {X.shape}\")\n",
    "    print(f\"Shape of y: {y.shape} {y.dtype}\")\n",
    "    break"
   ]
  },
  {
   "cell_type": "markdown",
   "metadata": {},
   "source": [
    "Now creating the NN model with PyTorch:"
   ]
  },
  {
   "cell_type": "code",
   "execution_count": 4,
   "metadata": {},
   "outputs": [
    {
     "name": "stdout",
     "output_type": "stream",
     "text": [
      "Using cuda device\n",
      "NeuralNetwork(\n",
      "  (flatten): Flatten(start_dim=1, end_dim=-1)\n",
      "  (linear_relu_stack): Sequential(\n",
      "    (0): Linear(in_features=784, out_features=512, bias=True)\n",
      "    (1): ReLU()\n",
      "    (2): Linear(in_features=512, out_features=512, bias=True)\n",
      "    (3): ReLU()\n",
      "    (4): Linear(in_features=512, out_features=10, bias=True)\n",
      "  )\n",
      ")\n"
     ]
    }
   ],
   "source": [
    "# Get cpu, gpu or mps device for training.\n",
    "device = (\n",
    "    \"cuda\"\n",
    "    if torch.cuda.is_available()\n",
    "    else \"mps\"\n",
    "    if torch.backends.mps.is_available()\n",
    "    else \"cpu\"\n",
    ")\n",
    "print(f\"Using {device} device\")\n",
    "\n",
    "# Define model\n",
    "class NeuralNetwork(nn.Module):\n",
    "    def __init__(self):\n",
    "        super().__init__()\n",
    "        self.flatten = nn.Flatten()\n",
    "        self.linear_relu_stack = nn.Sequential(\n",
    "            nn.Linear(28*28, 512),\n",
    "            nn.ReLU(),\n",
    "            nn.Linear(512, 512),\n",
    "            nn.ReLU(),\n",
    "            nn.Linear(512, 10)\n",
    "        )\n",
    "\n",
    "    def forward(self, x):\n",
    "        x = self.flatten(x)\n",
    "        logits = self.linear_relu_stack(x)\n",
    "        return logits\n",
    "\n",
    "model = NeuralNetwork().to(device)\n",
    "print(model)"
   ]
  },
  {
   "cell_type": "markdown",
   "metadata": {},
   "source": [
    "Now optimizing:"
   ]
  },
  {
   "cell_type": "code",
   "execution_count": 5,
   "metadata": {},
   "outputs": [],
   "source": [
    "loss_fn = nn.CrossEntropyLoss()\n",
    "optimizer = torch.optim.SGD(model.parameters(), lr=1e-3)"
   ]
  },
  {
   "cell_type": "markdown",
   "metadata": {},
   "source": [
    "Training and testing:"
   ]
  },
  {
   "cell_type": "code",
   "execution_count": 6,
   "metadata": {},
   "outputs": [],
   "source": [
    "def train(dataloader, model, loss_fn, optimizer):\n",
    "    size = len(dataloader.dataset)\n",
    "    model.train()\n",
    "    for batch, (X, y) in enumerate(dataloader):\n",
    "        X, y = X.to(device), y.to(device)\n",
    "\n",
    "        # Compute prediction error\n",
    "        pred = model(X)\n",
    "        loss = loss_fn(pred, y)\n",
    "\n",
    "        # Backpropagation\n",
    "        loss.backward()\n",
    "        optimizer.step()\n",
    "        optimizer.zero_grad()\n",
    "\n",
    "        if batch % 100 == 0:\n",
    "            loss, current = loss.item(), (batch + 1) * len(X)\n",
    "            print(f\"loss: {loss:>7f}  [{current:>5d}/{size:>5d}]\")"
   ]
  },
  {
   "cell_type": "code",
   "execution_count": 7,
   "metadata": {},
   "outputs": [],
   "source": [
    "def test(dataloader, model, loss_fn):\n",
    "    size = len(dataloader.dataset)\n",
    "    num_batches = len(dataloader)\n",
    "    model.eval()\n",
    "    test_loss, correct = 0, 0\n",
    "    with torch.no_grad():\n",
    "        for X, y in dataloader:\n",
    "            X, y = X.to(device), y.to(device)\n",
    "            pred = model(X)\n",
    "            test_loss += loss_fn(pred, y).item()\n",
    "            correct += (pred.argmax(1) == y).type(torch.float).sum().item()\n",
    "    test_loss /= num_batches\n",
    "    correct /= size\n",
    "    print(f\"Test Error: \\n Accuracy: {(100*correct):>0.1f}%, Avg loss: {test_loss:>8f} \\n\")"
   ]
  },
  {
   "cell_type": "markdown",
   "metadata": {},
   "source": [
    "Executing the function defined previously:"
   ]
  },
  {
   "cell_type": "code",
   "execution_count": 8,
   "metadata": {},
   "outputs": [
    {
     "name": "stdout",
     "output_type": "stream",
     "text": [
      "Epoch 1\n",
      "-------------------------------\n",
      "loss: 2.305211  [   64/60000]\n",
      "loss: 2.285762  [ 6464/60000]\n",
      "loss: 2.267321  [12864/60000]\n",
      "loss: 2.258483  [19264/60000]\n",
      "loss: 2.238156  [25664/60000]\n",
      "loss: 2.224585  [32064/60000]\n",
      "loss: 2.223604  [38464/60000]\n",
      "loss: 2.193052  [44864/60000]\n",
      "loss: 2.185035  [51264/60000]\n",
      "loss: 2.152887  [57664/60000]\n",
      "Test Error: \n",
      " Accuracy: 46.3%, Avg loss: 2.144505 \n",
      "\n",
      "Epoch 2\n",
      "-------------------------------\n",
      "loss: 2.154467  [   64/60000]\n",
      "loss: 2.140137  [ 6464/60000]\n",
      "loss: 2.076480  [12864/60000]\n",
      "loss: 2.096505  [19264/60000]\n",
      "loss: 2.052542  [25664/60000]\n",
      "loss: 1.987993  [32064/60000]\n",
      "loss: 2.018888  [38464/60000]\n",
      "loss: 1.932168  [44864/60000]\n",
      "loss: 1.940600  [51264/60000]\n",
      "loss: 1.868470  [57664/60000]\n",
      "Test Error: \n",
      " Accuracy: 57.1%, Avg loss: 1.865282 \n",
      "\n",
      "Epoch 3\n",
      "-------------------------------\n",
      "loss: 1.896375  [   64/60000]\n",
      "loss: 1.862023  [ 6464/60000]\n",
      "loss: 1.743010  [12864/60000]\n",
      "loss: 1.793043  [19264/60000]\n",
      "loss: 1.693010  [25664/60000]\n",
      "loss: 1.637318  [32064/60000]\n",
      "loss: 1.667726  [38464/60000]\n",
      "loss: 1.562075  [44864/60000]\n",
      "loss: 1.595694  [51264/60000]\n",
      "loss: 1.492629  [57664/60000]\n",
      "Test Error: \n",
      " Accuracy: 62.2%, Avg loss: 1.509846 \n",
      "\n",
      "Epoch 4\n",
      "-------------------------------\n",
      "loss: 1.573975  [   64/60000]\n",
      "loss: 1.537231  [ 6464/60000]\n",
      "loss: 1.393497  [12864/60000]\n",
      "loss: 1.468822  [19264/60000]\n",
      "loss: 1.358212  [25664/60000]\n",
      "loss: 1.349506  [32064/60000]\n",
      "loss: 1.365824  [38464/60000]\n",
      "loss: 1.286490  [44864/60000]\n",
      "loss: 1.327321  [51264/60000]\n",
      "loss: 1.226177  [57664/60000]\n",
      "Test Error: \n",
      " Accuracy: 63.4%, Avg loss: 1.252974 \n",
      "\n",
      "Epoch 5\n",
      "-------------------------------\n",
      "loss: 1.327356  [   64/60000]\n",
      "loss: 1.307718  [ 6464/60000]\n",
      "loss: 1.150336  [12864/60000]\n",
      "loss: 1.252537  [19264/60000]\n",
      "loss: 1.137397  [25664/60000]\n",
      "loss: 1.155240  [32064/60000]\n",
      "loss: 1.174406  [38464/60000]\n",
      "loss: 1.109031  [44864/60000]\n",
      "loss: 1.152721  [51264/60000]\n",
      "loss: 1.063240  [57664/60000]\n",
      "Test Error: \n",
      " Accuracy: 64.9%, Avg loss: 1.087915 \n",
      "\n",
      "Epoch 6\n",
      "-------------------------------\n",
      "loss: 1.154391  [   64/60000]\n",
      "loss: 1.156805  [ 6464/60000]\n",
      "loss: 0.984686  [12864/60000]\n",
      "loss: 1.111838  [19264/60000]\n",
      "loss: 0.999046  [25664/60000]\n",
      "loss: 1.020018  [32064/60000]\n",
      "loss: 1.051672  [38464/60000]\n",
      "loss: 0.992334  [44864/60000]\n",
      "loss: 1.035433  [51264/60000]\n",
      "loss: 0.957932  [57664/60000]\n",
      "Test Error: \n",
      " Accuracy: 66.3%, Avg loss: 0.978871 \n",
      "\n",
      "Epoch 7\n",
      "-------------------------------\n",
      "loss: 1.030638  [   64/60000]\n",
      "loss: 1.056268  [ 6464/60000]\n",
      "loss: 0.868681  [12864/60000]\n",
      "loss: 1.015928  [19264/60000]\n",
      "loss: 0.911148  [25664/60000]\n",
      "loss: 0.923500  [32064/60000]\n",
      "loss: 0.970301  [38464/60000]\n",
      "loss: 0.915273  [44864/60000]\n",
      "loss: 0.953486  [51264/60000]\n",
      "loss: 0.886935  [57664/60000]\n",
      "Test Error: \n",
      " Accuracy: 67.8%, Avg loss: 0.904177 \n",
      "\n",
      "Epoch 8\n",
      "-------------------------------\n",
      "loss: 0.939878  [   64/60000]\n",
      "loss: 0.986160  [ 6464/60000]\n",
      "loss: 0.785582  [12864/60000]\n",
      "loss: 0.948048  [19264/60000]\n",
      "loss: 0.852919  [25664/60000]\n",
      "loss: 0.853290  [32064/60000]\n",
      "loss: 0.913229  [38464/60000]\n",
      "loss: 0.863534  [44864/60000]\n",
      "loss: 0.894354  [51264/60000]\n",
      "loss: 0.836463  [57664/60000]\n",
      "Test Error: \n",
      " Accuracy: 69.0%, Avg loss: 0.850721 \n",
      "\n",
      "Epoch 9\n",
      "-------------------------------\n",
      "loss: 0.871048  [   64/60000]\n",
      "loss: 0.934239  [ 6464/60000]\n",
      "loss: 0.723831  [12864/60000]\n",
      "loss: 0.898009  [19264/60000]\n",
      "loss: 0.811657  [25664/60000]\n",
      "loss: 0.801169  [32064/60000]\n",
      "loss: 0.870713  [38464/60000]\n",
      "loss: 0.827684  [44864/60000]\n",
      "loss: 0.850353  [51264/60000]\n",
      "loss: 0.798547  [57664/60000]\n",
      "Test Error: \n",
      " Accuracy: 70.2%, Avg loss: 0.810739 \n",
      "\n",
      "Epoch 10\n",
      "-------------------------------\n",
      "loss: 0.816805  [   64/60000]\n",
      "loss: 0.893298  [ 6464/60000]\n",
      "loss: 0.676130  [12864/60000]\n",
      "loss: 0.859860  [19264/60000]\n",
      "loss: 0.780362  [25664/60000]\n",
      "loss: 0.761809  [32064/60000]\n",
      "loss: 0.837119  [38464/60000]\n",
      "loss: 0.801604  [44864/60000]\n",
      "loss: 0.816394  [51264/60000]\n",
      "loss: 0.768686  [57664/60000]\n",
      "Test Error: \n",
      " Accuracy: 71.5%, Avg loss: 0.779380 \n",
      "\n",
      "Epoch 11\n",
      "-------------------------------\n",
      "loss: 0.772401  [   64/60000]\n",
      "loss: 0.859472  [ 6464/60000]\n",
      "loss: 0.638019  [12864/60000]\n",
      "loss: 0.829889  [19264/60000]\n",
      "loss: 0.755273  [25664/60000]\n",
      "loss: 0.731390  [32064/60000]\n",
      "loss: 0.809219  [38464/60000]\n",
      "loss: 0.781292  [44864/60000]\n",
      "loss: 0.789174  [51264/60000]\n",
      "loss: 0.744105  [57664/60000]\n",
      "Test Error: \n",
      " Accuracy: 72.6%, Avg loss: 0.753656 \n",
      "\n",
      "Epoch 12\n",
      "-------------------------------\n",
      "loss: 0.734924  [   64/60000]\n",
      "loss: 0.830205  [ 6464/60000]\n",
      "loss: 0.606350  [12864/60000]\n",
      "loss: 0.805566  [19264/60000]\n",
      "loss: 0.734272  [25664/60000]\n",
      "loss: 0.707194  [32064/60000]\n",
      "loss: 0.784926  [38464/60000]\n",
      "loss: 0.764344  [44864/60000]\n",
      "loss: 0.766569  [51264/60000]\n",
      "loss: 0.723228  [57664/60000]\n",
      "Test Error: \n",
      " Accuracy: 73.7%, Avg loss: 0.731717 \n",
      "\n",
      "Epoch 13\n",
      "-------------------------------\n",
      "loss: 0.702451  [   64/60000]\n",
      "loss: 0.804165  [ 6464/60000]\n",
      "loss: 0.579589  [12864/60000]\n",
      "loss: 0.785126  [19264/60000]\n",
      "loss: 0.716203  [25664/60000]\n",
      "loss: 0.687323  [32064/60000]\n",
      "loss: 0.763052  [38464/60000]\n",
      "loss: 0.749606  [44864/60000]\n",
      "loss: 0.747200  [51264/60000]\n",
      "loss: 0.704870  [57664/60000]\n",
      "Test Error: \n",
      " Accuracy: 74.5%, Avg loss: 0.712410 \n",
      "\n",
      "Epoch 14\n",
      "-------------------------------\n",
      "loss: 0.673660  [   64/60000]\n",
      "loss: 0.780516  [ 6464/60000]\n",
      "loss: 0.556410  [12864/60000]\n",
      "loss: 0.767451  [19264/60000]\n",
      "loss: 0.700191  [25664/60000]\n",
      "loss: 0.670633  [32064/60000]\n",
      "loss: 0.742921  [38464/60000]\n",
      "loss: 0.736346  [44864/60000]\n",
      "loss: 0.730169  [51264/60000]\n",
      "loss: 0.688315  [57664/60000]\n",
      "Test Error: \n",
      " Accuracy: 75.3%, Avg loss: 0.695091 \n",
      "\n",
      "Epoch 15\n",
      "-------------------------------\n",
      "loss: 0.648039  [   64/60000]\n",
      "loss: 0.758987  [ 6464/60000]\n",
      "loss: 0.535999  [12864/60000]\n",
      "loss: 0.751783  [19264/60000]\n",
      "loss: 0.685903  [25664/60000]\n",
      "loss: 0.656191  [32064/60000]\n",
      "loss: 0.724280  [38464/60000]\n",
      "loss: 0.724230  [44864/60000]\n",
      "loss: 0.715155  [51264/60000]\n",
      "loss: 0.673272  [57664/60000]\n",
      "Test Error: \n",
      " Accuracy: 76.0%, Avg loss: 0.679321 \n",
      "\n",
      "Done!\n"
     ]
    }
   ],
   "source": [
    "epochs = 20\n",
    "for t in range(epochs):\n",
    "    print(f\"Epoch {t+1}\\n-------------------------------\")\n",
    "    train(train_dataloader, model, loss_fn, optimizer)\n",
    "    test(test_dataloader, model, loss_fn)\n",
    "print(\"Done!\")"
   ]
  },
  {
   "cell_type": "markdown",
   "metadata": {},
   "source": [
    "Saving Model:"
   ]
  },
  {
   "cell_type": "code",
   "execution_count": 9,
   "metadata": {},
   "outputs": [
    {
     "name": "stdout",
     "output_type": "stream",
     "text": [
      "Saved PyTorch Model State to model.pth\n"
     ]
    }
   ],
   "source": [
    "torch.save(model.state_dict(), \"model.pth\")\n",
    "print(\"Saved PyTorch Model State to model.pth\")"
   ]
  },
  {
   "cell_type": "markdown",
   "metadata": {},
   "source": [
    "Loading Model:"
   ]
  },
  {
   "cell_type": "code",
   "execution_count": 10,
   "metadata": {},
   "outputs": [
    {
     "data": {
      "text/plain": [
       "<All keys matched successfully>"
      ]
     },
     "execution_count": 10,
     "metadata": {},
     "output_type": "execute_result"
    }
   ],
   "source": [
    "model = NeuralNetwork().to(device)\n",
    "model.load_state_dict(torch.load(\"model.pth\"))"
   ]
  },
  {
   "cell_type": "markdown",
   "metadata": {},
   "source": [
    "Making some predictions:"
   ]
  },
  {
   "cell_type": "code",
   "execution_count": 11,
   "metadata": {},
   "outputs": [
    {
     "name": "stdout",
     "output_type": "stream",
     "text": [
      "Predicted: \"Ankle boot\", Actual: \"Ankle boot\"\n"
     ]
    }
   ],
   "source": [
    "classes = [\n",
    "    \"T-shirt/top\",\n",
    "    \"Trouser\",\n",
    "    \"Pullover\",\n",
    "    \"Dress\",\n",
    "    \"Coat\",\n",
    "    \"Sandal\",\n",
    "    \"Shirt\",\n",
    "    \"Sneaker\",\n",
    "    \"Bag\",\n",
    "    \"Ankle boot\",\n",
    "]\n",
    "\n",
    "model.eval()\n",
    "x, y = test_data[0][0], test_data[0][1]\n",
    "with torch.no_grad():\n",
    "    x = x.to(device)\n",
    "    pred = model(x)\n",
    "    predicted, actual = classes[pred[0].argmax(0)], classes[y]\n",
    "    print(f'Predicted: \"{predicted}\", Actual: \"{actual}\"')"
   ]
  }
 ],
 "metadata": {
  "kernelspec": {
   "display_name": "venv_pytorch",
   "language": "python",
   "name": "python3"
  },
  "language_info": {
   "codemirror_mode": {
    "name": "ipython",
    "version": 3
   },
   "file_extension": ".py",
   "mimetype": "text/x-python",
   "name": "python",
   "nbconvert_exporter": "python",
   "pygments_lexer": "ipython3",
   "version": "3.11.8"
  }
 },
 "nbformat": 4,
 "nbformat_minor": 2
}
