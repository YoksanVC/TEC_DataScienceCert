{
 "cells": [
  {
   "cell_type": "markdown",
   "metadata": {},
   "source": [
    "# Learning PyTorch\n",
    "\n",
    "In this notebook you can find learning activities and generic codes to be used in different projects.\n",
    "\n",
    "Example in this code was taking from: https://pytorch.org/tutorials/beginner/basics/quickstart_tutorial.html"
   ]
  },
  {
   "cell_type": "markdown",
   "metadata": {},
   "source": [
    "## General Imports"
   ]
  },
  {
   "cell_type": "code",
   "execution_count": 12,
   "metadata": {},
   "outputs": [],
   "source": [
    "import torch\n",
    "from torch import nn\n",
    "from torch.utils.data import DataLoader\n",
    "from torchvision import datasets\n",
    "from torchvision.transforms import ToTensor"
   ]
  },
  {
   "cell_type": "markdown",
   "metadata": {},
   "source": [
    "Now getting the datasets to test and train:"
   ]
  },
  {
   "cell_type": "code",
   "execution_count": 13,
   "metadata": {},
   "outputs": [],
   "source": [
    "# Download training data from open datasets.\n",
    "training_data = datasets.FashionMNIST(\n",
    "    root=\"data\",\n",
    "    train=True,\n",
    "    download=True,\n",
    "    transform=ToTensor(),\n",
    ")\n",
    "\n",
    "# Download test data from open datasets.\n",
    "test_data = datasets.FashionMNIST(\n",
    "    root=\"data\",\n",
    "    train=False,\n",
    "    download=True,\n",
    "    transform=ToTensor(),\n",
    ")"
   ]
  },
  {
   "cell_type": "markdown",
   "metadata": {},
   "source": [
    "Now lets create a dataloader to create both train and test elements:"
   ]
  },
  {
   "cell_type": "code",
   "execution_count": 14,
   "metadata": {},
   "outputs": [
    {
     "name": "stdout",
     "output_type": "stream",
     "text": [
      "Shape of X [N, C, H, W]: torch.Size([64, 1, 28, 28])\n",
      "Shape of y: torch.Size([64]) torch.int64\n"
     ]
    }
   ],
   "source": [
    "batch_size = 64\n",
    "\n",
    "# Create data loaders.\n",
    "train_dataloader = DataLoader(training_data, batch_size=batch_size)\n",
    "test_dataloader = DataLoader(test_data, batch_size=batch_size)\n",
    "\n",
    "for X, y in test_dataloader:\n",
    "    print(f\"Shape of X [N, C, H, W]: {X.shape}\")\n",
    "    print(f\"Shape of y: {y.shape} {y.dtype}\")\n",
    "    break"
   ]
  },
  {
   "cell_type": "markdown",
   "metadata": {},
   "source": [
    "Now creating the NN model with PyTorch:"
   ]
  },
  {
   "cell_type": "code",
   "execution_count": 15,
   "metadata": {},
   "outputs": [
    {
     "name": "stdout",
     "output_type": "stream",
     "text": [
      "Using cuda device\n",
      "NeuralNetwork(\n",
      "  (flatten): Flatten(start_dim=1, end_dim=-1)\n",
      "  (linear_relu_stack): Sequential(\n",
      "    (0): Linear(in_features=784, out_features=512, bias=True)\n",
      "    (1): ReLU()\n",
      "    (2): Linear(in_features=512, out_features=512, bias=True)\n",
      "    (3): ReLU()\n",
      "    (4): Linear(in_features=512, out_features=10, bias=True)\n",
      "  )\n",
      ")\n"
     ]
    }
   ],
   "source": [
    "# Get cpu, gpu or mps device for training.\n",
    "device = (\n",
    "    \"cuda\"\n",
    "    if torch.cuda.is_available()\n",
    "    else \"mps\"\n",
    "    if torch.backends.mps.is_available()\n",
    "    else \"cpu\"\n",
    ")\n",
    "print(f\"Using {device} device\")\n",
    "\n",
    "# Define model\n",
    "class NeuralNetwork(nn.Module):\n",
    "    def __init__(self):\n",
    "        super().__init__()\n",
    "        self.flatten = nn.Flatten()\n",
    "        self.linear_relu_stack = nn.Sequential(\n",
    "            nn.Linear(28*28, 512),\n",
    "            nn.ReLU(),\n",
    "            nn.Linear(512, 512),\n",
    "            nn.ReLU(),\n",
    "            nn.Linear(512, 10)\n",
    "        )\n",
    "\n",
    "    def forward(self, x):\n",
    "        x = self.flatten(x)\n",
    "        logits = self.linear_relu_stack(x)\n",
    "        return logits\n",
    "\n",
    "model = NeuralNetwork().to(device)\n",
    "print(model)"
   ]
  },
  {
   "cell_type": "markdown",
   "metadata": {},
   "source": [
    "Now optimizing:"
   ]
  },
  {
   "cell_type": "code",
   "execution_count": 16,
   "metadata": {},
   "outputs": [],
   "source": [
    "loss_fn = nn.CrossEntropyLoss()\n",
    "optimizer = torch.optim.SGD(model.parameters(), lr=1e-3)"
   ]
  },
  {
   "cell_type": "markdown",
   "metadata": {},
   "source": [
    "Training and testing:"
   ]
  },
  {
   "cell_type": "code",
   "execution_count": 17,
   "metadata": {},
   "outputs": [],
   "source": [
    "def train(dataloader, model, loss_fn, optimizer):\n",
    "    size = len(dataloader.dataset)\n",
    "    model.train()\n",
    "    for batch, (X, y) in enumerate(dataloader):\n",
    "        X, y = X.to(device), y.to(device)\n",
    "\n",
    "        # Compute prediction error\n",
    "        pred = model(X)\n",
    "        loss = loss_fn(pred, y)\n",
    "\n",
    "        # Backpropagation\n",
    "        loss.backward()\n",
    "        optimizer.step()\n",
    "        optimizer.zero_grad()\n",
    "\n",
    "        if batch % 100 == 0:\n",
    "            loss, current = loss.item(), (batch + 1) * len(X)\n",
    "            print(f\"loss: {loss:>7f}  [{current:>5d}/{size:>5d}]\")"
   ]
  },
  {
   "cell_type": "code",
   "execution_count": 18,
   "metadata": {},
   "outputs": [],
   "source": [
    "def test(dataloader, model, loss_fn):\n",
    "    size = len(dataloader.dataset)\n",
    "    num_batches = len(dataloader)\n",
    "    model.eval()\n",
    "    test_loss, correct = 0, 0\n",
    "    with torch.no_grad():\n",
    "        for X, y in dataloader:\n",
    "            X, y = X.to(device), y.to(device)\n",
    "            pred = model(X)\n",
    "            test_loss += loss_fn(pred, y).item()\n",
    "            correct += (pred.argmax(1) == y).type(torch.float).sum().item()\n",
    "    test_loss /= num_batches\n",
    "    correct /= size\n",
    "    print(f\"Test Error: \\n Accuracy: {(100*correct):>0.1f}%, Avg loss: {test_loss:>8f} \\n\")"
   ]
  },
  {
   "cell_type": "markdown",
   "metadata": {},
   "source": [
    "Executing the function defined previously:"
   ]
  },
  {
   "cell_type": "code",
   "execution_count": 19,
   "metadata": {},
   "outputs": [
    {
     "name": "stdout",
     "output_type": "stream",
     "text": [
      "Epoch 1\n",
      "-------------------------------\n",
      "loss: 2.306424  [   64/60000]\n",
      "loss: 2.295792  [ 6464/60000]\n",
      "loss: 2.271264  [12864/60000]\n",
      "loss: 2.263716  [19264/60000]\n",
      "loss: 2.253445  [25664/60000]\n",
      "loss: 2.208224  [32064/60000]\n",
      "loss: 2.227882  [38464/60000]\n",
      "loss: 2.181517  [44864/60000]\n",
      "loss: 2.181397  [51264/60000]\n",
      "loss: 2.151325  [57664/60000]\n",
      "Test Error: \n",
      " Accuracy: 44.7%, Avg loss: 2.143431 \n",
      "\n",
      "Epoch 2\n",
      "-------------------------------\n",
      "loss: 2.149260  [   64/60000]\n",
      "loss: 2.148996  [ 6464/60000]\n",
      "loss: 2.079398  [12864/60000]\n",
      "loss: 2.103405  [19264/60000]\n",
      "loss: 2.053740  [25664/60000]\n",
      "loss: 1.971343  [32064/60000]\n",
      "loss: 2.014979  [38464/60000]\n",
      "loss: 1.917112  [44864/60000]\n",
      "loss: 1.922390  [51264/60000]\n",
      "loss: 1.861529  [57664/60000]\n",
      "Test Error: \n",
      " Accuracy: 60.3%, Avg loss: 1.854070 \n",
      "\n",
      "Epoch 3\n",
      "-------------------------------\n",
      "loss: 1.880735  [   64/60000]\n",
      "loss: 1.863089  [ 6464/60000]\n",
      "loss: 1.729565  [12864/60000]\n",
      "loss: 1.784773  [19264/60000]\n",
      "loss: 1.673543  [25664/60000]\n",
      "loss: 1.609385  [32064/60000]\n",
      "loss: 1.647983  [38464/60000]\n",
      "loss: 1.536080  [44864/60000]\n",
      "loss: 1.560593  [51264/60000]\n",
      "loss: 1.465029  [57664/60000]\n",
      "Test Error: \n",
      " Accuracy: 61.2%, Avg loss: 1.479786 \n",
      "\n",
      "Epoch 4\n",
      "-------------------------------\n",
      "loss: 1.545273  [   64/60000]\n",
      "loss: 1.521596  [ 6464/60000]\n",
      "loss: 1.356070  [12864/60000]\n",
      "loss: 1.443888  [19264/60000]\n",
      "loss: 1.326813  [25664/60000]\n",
      "loss: 1.310543  [32064/60000]\n",
      "loss: 1.337215  [38464/60000]\n",
      "loss: 1.256121  [44864/60000]\n",
      "loss: 1.289078  [51264/60000]\n",
      "loss: 1.193764  [57664/60000]\n",
      "Test Error: \n",
      " Accuracy: 62.7%, Avg loss: 1.222334 \n",
      "\n",
      "Epoch 5\n",
      "-------------------------------\n",
      "loss: 1.300489  [   64/60000]\n",
      "loss: 1.291489  [ 6464/60000]\n",
      "loss: 1.112136  [12864/60000]\n",
      "loss: 1.230600  [19264/60000]\n",
      "loss: 1.113244  [25664/60000]\n",
      "loss: 1.124577  [32064/60000]\n",
      "loss: 1.154089  [38464/60000]\n",
      "loss: 1.089079  [44864/60000]\n",
      "loss: 1.123879  [51264/60000]\n",
      "loss: 1.041351  [57664/60000]\n",
      "Test Error: \n",
      " Accuracy: 64.3%, Avg loss: 1.067371 \n",
      "\n",
      "Epoch 6\n",
      "-------------------------------\n",
      "loss: 1.139323  [   64/60000]\n",
      "loss: 1.151304  [ 6464/60000]\n",
      "loss: 0.954651  [12864/60000]\n",
      "loss: 1.100182  [19264/60000]\n",
      "loss: 0.986170  [25664/60000]\n",
      "loss: 1.002370  [32064/60000]\n",
      "loss: 1.044243  [38464/60000]\n",
      "loss: 0.984926  [44864/60000]\n",
      "loss: 1.018016  [51264/60000]\n",
      "loss: 0.947625  [57664/60000]\n",
      "Test Error: \n",
      " Accuracy: 65.8%, Avg loss: 0.968847 \n",
      "\n",
      "Epoch 7\n",
      "-------------------------------\n",
      "loss: 1.028167  [   64/60000]\n",
      "loss: 1.061643  [ 6464/60000]\n",
      "loss: 0.848003  [12864/60000]\n",
      "loss: 1.013550  [19264/60000]\n",
      "loss: 0.907620  [25664/60000]\n",
      "loss: 0.916451  [32064/60000]\n",
      "loss: 0.973304  [38464/60000]\n",
      "loss: 0.916959  [44864/60000]\n",
      "loss: 0.944919  [51264/60000]\n",
      "loss: 0.884656  [57664/60000]\n",
      "Test Error: \n",
      " Accuracy: 67.2%, Avg loss: 0.901484 \n",
      "\n",
      "Epoch 8\n",
      "-------------------------------\n",
      "loss: 0.946062  [   64/60000]\n",
      "loss: 0.998724  [ 6464/60000]\n",
      "loss: 0.771667  [12864/60000]\n",
      "loss: 0.951533  [19264/60000]\n",
      "loss: 0.854528  [25664/60000]\n",
      "loss: 0.852846  [32064/60000]\n",
      "loss: 0.923181  [38464/60000]\n",
      "loss: 0.870853  [44864/60000]\n",
      "loss: 0.891654  [51264/60000]\n",
      "loss: 0.838817  [57664/60000]\n",
      "Test Error: \n",
      " Accuracy: 68.5%, Avg loss: 0.852509 \n",
      "\n",
      "Epoch 9\n",
      "-------------------------------\n",
      "loss: 0.882265  [   64/60000]\n",
      "loss: 0.950574  [ 6464/60000]\n",
      "loss: 0.714602  [12864/60000]\n",
      "loss: 0.904396  [19264/60000]\n",
      "loss: 0.816159  [25664/60000]\n",
      "loss: 0.804336  [32064/60000]\n",
      "loss: 0.884715  [38464/60000]\n",
      "loss: 0.838364  [44864/60000]\n",
      "loss: 0.851308  [51264/60000]\n",
      "loss: 0.803268  [57664/60000]\n",
      "Test Error: \n",
      " Accuracy: 69.7%, Avg loss: 0.814986 \n",
      "\n",
      "Epoch 10\n",
      "-------------------------------\n",
      "loss: 0.830801  [   64/60000]\n",
      "loss: 0.911120  [ 6464/60000]\n",
      "loss: 0.670202  [12864/60000]\n",
      "loss: 0.867062  [19264/60000]\n",
      "loss: 0.786511  [25664/60000]\n",
      "loss: 0.766496  [32064/60000]\n",
      "loss: 0.853067  [38464/60000]\n",
      "loss: 0.814305  [44864/60000]\n",
      "loss: 0.819789  [51264/60000]\n",
      "loss: 0.774333  [57664/60000]\n",
      "Test Error: \n",
      " Accuracy: 70.9%, Avg loss: 0.784846 \n",
      "\n",
      "Epoch 11\n",
      "-------------------------------\n",
      "loss: 0.788114  [   64/60000]\n",
      "loss: 0.877078  [ 6464/60000]\n",
      "loss: 0.634431  [12864/60000]\n",
      "loss: 0.836579  [19264/60000]\n",
      "loss: 0.762285  [25664/60000]\n",
      "loss: 0.736470  [32064/60000]\n",
      "loss: 0.825367  [38464/60000]\n",
      "loss: 0.795010  [44864/60000]\n",
      "loss: 0.794334  [51264/60000]\n",
      "loss: 0.749865  [57664/60000]\n",
      "Test Error: \n",
      " Accuracy: 72.0%, Avg loss: 0.759682 \n",
      "\n",
      "Epoch 12\n",
      "-------------------------------\n",
      "loss: 0.751916  [   64/60000]\n",
      "loss: 0.846920  [ 6464/60000]\n",
      "loss: 0.604870  [12864/60000]\n",
      "loss: 0.811199  [19264/60000]\n",
      "loss: 0.741794  [25664/60000]\n",
      "loss: 0.712237  [32064/60000]\n",
      "loss: 0.800376  [38464/60000]\n",
      "loss: 0.778669  [44864/60000]\n",
      "loss: 0.772879  [51264/60000]\n",
      "loss: 0.728492  [57664/60000]\n",
      "Test Error: \n",
      " Accuracy: 73.2%, Avg loss: 0.737892 \n",
      "\n",
      "Epoch 13\n",
      "-------------------------------\n",
      "loss: 0.720394  [   64/60000]\n",
      "loss: 0.819640  [ 6464/60000]\n",
      "loss: 0.579556  [12864/60000]\n",
      "loss: 0.789633  [19264/60000]\n",
      "loss: 0.723778  [25664/60000]\n",
      "loss: 0.692237  [32064/60000]\n",
      "loss: 0.777266  [38464/60000]\n",
      "loss: 0.764108  [44864/60000]\n",
      "loss: 0.754294  [51264/60000]\n",
      "loss: 0.709459  [57664/60000]\n",
      "Test Error: \n",
      " Accuracy: 74.1%, Avg loss: 0.718473 \n",
      "\n",
      "Epoch 14\n",
      "-------------------------------\n",
      "loss: 0.692456  [   64/60000]\n",
      "loss: 0.794620  [ 6464/60000]\n",
      "loss: 0.557378  [12864/60000]\n",
      "loss: 0.770930  [19264/60000]\n",
      "loss: 0.707630  [25664/60000]\n",
      "loss: 0.675256  [32064/60000]\n",
      "loss: 0.755663  [38464/60000]\n",
      "loss: 0.750904  [44864/60000]\n",
      "loss: 0.737836  [51264/60000]\n",
      "loss: 0.692017  [57664/60000]\n",
      "Test Error: \n",
      " Accuracy: 75.0%, Avg loss: 0.700783 \n",
      "\n",
      "Epoch 15\n",
      "-------------------------------\n",
      "loss: 0.667264  [   64/60000]\n",
      "loss: 0.771478  [ 6464/60000]\n",
      "loss: 0.537676  [12864/60000]\n",
      "loss: 0.754378  [19264/60000]\n",
      "loss: 0.693043  [25664/60000]\n",
      "loss: 0.660626  [32064/60000]\n",
      "loss: 0.735314  [38464/60000]\n",
      "loss: 0.738693  [44864/60000]\n",
      "loss: 0.723207  [51264/60000]\n",
      "loss: 0.676155  [57664/60000]\n",
      "Test Error: \n",
      " Accuracy: 75.8%, Avg loss: 0.684567 \n",
      "\n",
      "Epoch 16\n",
      "-------------------------------\n",
      "loss: 0.644578  [   64/60000]\n",
      "loss: 0.750072  [ 6464/60000]\n",
      "loss: 0.519901  [12864/60000]\n",
      "loss: 0.739471  [19264/60000]\n",
      "loss: 0.679942  [25664/60000]\n",
      "loss: 0.647969  [32064/60000]\n",
      "loss: 0.716211  [38464/60000]\n",
      "loss: 0.727379  [44864/60000]\n",
      "loss: 0.710152  [51264/60000]\n",
      "loss: 0.661569  [57664/60000]\n",
      "Test Error: \n",
      " Accuracy: 76.5%, Avg loss: 0.669627 \n",
      "\n",
      "Epoch 17\n",
      "-------------------------------\n",
      "loss: 0.624005  [   64/60000]\n",
      "loss: 0.730306  [ 6464/60000]\n",
      "loss: 0.503846  [12864/60000]\n",
      "loss: 0.725796  [19264/60000]\n",
      "loss: 0.668171  [25664/60000]\n",
      "loss: 0.636886  [32064/60000]\n",
      "loss: 0.698318  [38464/60000]\n",
      "loss: 0.717055  [44864/60000]\n",
      "loss: 0.698431  [51264/60000]\n",
      "loss: 0.647971  [57664/60000]\n",
      "Test Error: \n",
      " Accuracy: 77.2%, Avg loss: 0.655806 \n",
      "\n",
      "Epoch 18\n",
      "-------------------------------\n",
      "loss: 0.605234  [   64/60000]\n",
      "loss: 0.711943  [ 6464/60000]\n",
      "loss: 0.489238  [12864/60000]\n",
      "loss: 0.713129  [19264/60000]\n",
      "loss: 0.657476  [25664/60000]\n",
      "loss: 0.627020  [32064/60000]\n",
      "loss: 0.681570  [38464/60000]\n",
      "loss: 0.707675  [44864/60000]\n",
      "loss: 0.688010  [51264/60000]\n",
      "loss: 0.635281  [57664/60000]\n",
      "Test Error: \n",
      " Accuracy: 77.8%, Avg loss: 0.643017 \n",
      "\n",
      "Epoch 19\n",
      "-------------------------------\n",
      "loss: 0.588083  [   64/60000]\n",
      "loss: 0.694969  [ 6464/60000]\n",
      "loss: 0.475810  [12864/60000]\n",
      "loss: 0.701355  [19264/60000]\n",
      "loss: 0.647675  [25664/60000]\n",
      "loss: 0.618207  [32064/60000]\n",
      "loss: 0.665976  [38464/60000]\n",
      "loss: 0.699269  [44864/60000]\n",
      "loss: 0.678753  [51264/60000]\n",
      "loss: 0.623353  [57664/60000]\n",
      "Test Error: \n",
      " Accuracy: 78.1%, Avg loss: 0.631193 \n",
      "\n",
      "Epoch 20\n",
      "-------------------------------\n",
      "loss: 0.572441  [   64/60000]\n",
      "loss: 0.679361  [ 6464/60000]\n",
      "loss: 0.463485  [12864/60000]\n",
      "loss: 0.690441  [19264/60000]\n",
      "loss: 0.638741  [25664/60000]\n",
      "loss: 0.610252  [32064/60000]\n",
      "loss: 0.651508  [38464/60000]\n",
      "loss: 0.691992  [44864/60000]\n",
      "loss: 0.670569  [51264/60000]\n",
      "loss: 0.612127  [57664/60000]\n",
      "Test Error: \n",
      " Accuracy: 78.5%, Avg loss: 0.620279 \n",
      "\n",
      "Done!\n"
     ]
    }
   ],
   "source": [
    "epochs = 20\n",
    "for t in range(epochs):\n",
    "    print(f\"Epoch {t+1}\\n-------------------------------\")\n",
    "    train(train_dataloader, model, loss_fn, optimizer)\n",
    "    test(test_dataloader, model, loss_fn)\n",
    "print(\"Done!\")"
   ]
  },
  {
   "cell_type": "markdown",
   "metadata": {},
   "source": [
    "Saving Model:"
   ]
  },
  {
   "cell_type": "code",
   "execution_count": 20,
   "metadata": {},
   "outputs": [
    {
     "name": "stdout",
     "output_type": "stream",
     "text": [
      "Saved PyTorch Model State to model.pth\n"
     ]
    }
   ],
   "source": [
    "torch.save(model.state_dict(), \"model.pth\")\n",
    "print(\"Saved PyTorch Model State to model.pth\")"
   ]
  },
  {
   "cell_type": "markdown",
   "metadata": {},
   "source": [
    "Loading Model:"
   ]
  },
  {
   "cell_type": "code",
   "execution_count": 21,
   "metadata": {},
   "outputs": [
    {
     "data": {
      "text/plain": [
       "<All keys matched successfully>"
      ]
     },
     "execution_count": 21,
     "metadata": {},
     "output_type": "execute_result"
    }
   ],
   "source": [
    "model = NeuralNetwork().to(device)\n",
    "model.load_state_dict(torch.load(\"model.pth\"))"
   ]
  },
  {
   "cell_type": "markdown",
   "metadata": {},
   "source": [
    "Making some predictions:"
   ]
  },
  {
   "cell_type": "code",
   "execution_count": 22,
   "metadata": {},
   "outputs": [
    {
     "name": "stdout",
     "output_type": "stream",
     "text": [
      "Predicted: \"Ankle boot\", Actual: \"Ankle boot\"\n"
     ]
    }
   ],
   "source": [
    "classes = [\n",
    "    \"T-shirt/top\",\n",
    "    \"Trouser\",\n",
    "    \"Pullover\",\n",
    "    \"Dress\",\n",
    "    \"Coat\",\n",
    "    \"Sandal\",\n",
    "    \"Shirt\",\n",
    "    \"Sneaker\",\n",
    "    \"Bag\",\n",
    "    \"Ankle boot\",\n",
    "]\n",
    "\n",
    "model.eval()\n",
    "x, y = test_data[0][0], test_data[0][1]\n",
    "with torch.no_grad():\n",
    "    x = x.to(device)\n",
    "    pred = model(x)\n",
    "    predicted, actual = classes[pred[0].argmax(0)], classes[y]\n",
    "    print(f'Predicted: \"{predicted}\", Actual: \"{actual}\"')"
   ]
  }
 ],
 "metadata": {
  "kernelspec": {
   "display_name": "venv_pytorch",
   "language": "python",
   "name": "python3"
  },
  "language_info": {
   "codemirror_mode": {
    "name": "ipython",
    "version": 3
   },
   "file_extension": ".py",
   "mimetype": "text/x-python",
   "name": "python",
   "nbconvert_exporter": "python",
   "pygments_lexer": "ipython3",
   "version": "3.11.8"
  }
 },
 "nbformat": 4,
 "nbformat_minor": 2
}
