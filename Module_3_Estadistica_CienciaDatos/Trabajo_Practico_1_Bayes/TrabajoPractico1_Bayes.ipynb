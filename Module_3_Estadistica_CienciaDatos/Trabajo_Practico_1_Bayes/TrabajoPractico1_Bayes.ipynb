{
 "cells": [
  {
   "cell_type": "markdown",
   "metadata": {},
   "source": [
    "# Trabajo Practico 1: Bayes Ingenuo\n",
    "\n",
    "### Estudiantes:\n",
    "1. Sophia Contreras\n",
    "2. Yoksan Varela\n",
    "3. Mauro Viquez"
   ]
  },
  {
   "cell_type": "code",
   "execution_count": 1,
   "metadata": {},
   "outputs": [],
   "source": [
    "# Librerias usadas en el codigo\n",
    "import torch\n",
    "import numpy as np\n",
    "import pandas as pd\n",
    "import scipy.stats as stats\n",
    "import torchvision\n",
    "from PIL import Image\n",
    "import torchvision.transforms.functional as TF\n",
    "import matplotlib.pyplot as plt\n",
    "import torchvision.datasets as datasets\n",
    "import torchvision.transforms as transforms\n",
    "from sklearn.metrics import accuracy_score\n",
    "from sklearn.model_selection import train_test_split\n",
    "\n",
    "# Para remover Warnings\n",
    "import warnings\n",
    "warnings.filterwarnings(\"ignore\")\n",
    "\n",
    "# Para Pruebas unitarias\n",
    "import ipytest\n",
    "ipytest.autoconfig()\n",
    "\n",
    "import sys\n",
    "np.set_printoptions(threshold=sys.maxsize)"
   ]
  },
  {
   "cell_type": "markdown",
   "metadata": {},
   "source": [
    "### Funciones Generales"
   ]
  },
  {
   "cell_type": "code",
   "execution_count": 2,
   "metadata": {},
   "outputs": [],
   "source": [
    "def load_cifar10_dataset(is_train = True):\n",
    "    \"\"\"Funcion para cargar CIFAR10 dataset, tomada del notebook BayesianModel_CIFAR_base.ipynb provisto en el curso.\n",
    "\n",
    "    Args:\n",
    "        is_train (bool, optional): Especifica si el modelo se esta entrenando. Defaults to True.\n",
    "\n",
    "    Returns:\n",
    "        Tensor: Retorna los tensores con sus respectivos labels\n",
    "    \"\"\"\n",
    "    # Define a transformation to convert images to grayscale\n",
    "    transforms_1 = transforms.Compose([\n",
    "      transforms.ToTensor(),\n",
    "      transforms.Grayscale(num_output_channels=1)  # Convert to grayscale\n",
    "    ])\n",
    "    cifar_trainset = datasets.CIFAR10(root='./data', train = is_train, download = True, transform = transforms_1)\n",
    "  \n",
    "\n",
    "    # Initialize an empty list to store batches\n",
    "    all_data = []\n",
    "    train_loader = torch.utils.data.DataLoader(cifar_trainset, batch_size = 64, shuffle=True)\n",
    "    # Iterate over the train_loader to fetch all batches\n",
    "    for batch in train_loader:\n",
    "        images, _ = batch  # Extract images from the batch\n",
    "        all_data.append(images)\n",
    "\n",
    "    # Concatenate all batches into a single tensor along the batch dimension\n",
    "    cifar_trainset_tensor = torch.round(torch.cat(all_data, dim=0) * 255)\n",
    "    cifar_labels = torch.tensor(cifar_trainset.targets)\n",
    "    print(\"cifar_trainset_tensor shape \", cifar_trainset_tensor.shape)\n",
    "    print(\"cifar_labels \", cifar_labels.shape)\n",
    "    return (cifar_trainset_tensor, cifar_labels)"
   ]
  },
  {
   "cell_type": "markdown",
   "metadata": {},
   "source": [
    "## Pregunta 1: Implementacion de la clasificacion multi-clase de imagenes con Byes Ingenuo usando histogramas"
   ]
  },
  {
   "cell_type": "markdown",
   "metadata": {},
   "source": [
    "### Pregunta 1.2.1: Crear funcion calcular_probabilidad_priori"
   ]
  },
  {
   "cell_type": "code",
   "execution_count": 3,
   "metadata": {},
   "outputs": [],
   "source": [
    "def calcular_probabilidad_priori(labels):\n",
    "    # Tamano del tensor de labels\n",
    "    size = len(labels)\n",
    "\n",
    "    # Leemos el label mas grande\n",
    "    max_label = labels.max()\n",
    "\n",
    "    # Contamos todos los labels o categorias en el arreglo\n",
    "    count_labels = np.bincount(labels,minlength=max_label)\n",
    "\n",
    "    # Calculamos la prioridad basandose en el tamano del tensor de labels\n",
    "    prob_a_priori = count_labels/size\n",
    "\n",
    "    return torch.tensor(prob_a_priori)"
   ]
  },
  {
   "cell_type": "markdown",
   "metadata": {},
   "source": [
    "### Pregunta 1.2.1: Pruebas unitarias para la funcion calcular_probabilidad_priori:"
   ]
  },
  {
   "cell_type": "code",
   "execution_count": 4,
   "metadata": {},
   "outputs": [
    {
     "name": "stdout",
     "output_type": "stream",
     "text": [
      "\u001b[32m.\u001b[0m\u001b[32m.\u001b[0m\u001b[32m                                                                                           [100%]\u001b[0m\n",
      "\u001b[32m\u001b[32m\u001b[1m2 passed\u001b[0m\u001b[32m in 0.01s\u001b[0m\u001b[0m\n"
     ]
    }
   ],
   "source": [
    "%%ipytest\n",
    "\n",
    "# Creando un arreglo de 25 con 9 categorias diferentes\n",
    "test_tensor = torch.tensor([0,1,1,2,2,2,2,2,3,3,3,4,5,6,6,6,6,6,6,7,7,8,8,9,9])\n",
    "\n",
    "# Por un calculo a mano podemos calcular que las probablidades de cada uno de los lables van a ser: 0.04, 0.08, 0.2, 0.12, 0.04, 0.04, 0.24, 0.08, 0.08 y 0.08\n",
    "result_tensor = torch.tensor([0.0400, 0.0800, 0.2000, 0.1200, 0.0400, 0.0400, 0.2400, 0.0800, 0.0800, 0.0800], dtype=torch.float64)\n",
    "\n",
    "def test_calcular_probabilidad_priori_all() -> None:\n",
    "    # Primera prueba unitaria: Comparar todas las probabilidades con los valores conocidos anteriores\n",
    "    prob_all = calcular_probabilidad_priori(test_tensor)\n",
    "    comparison = torch.equal(result_tensor,prob_all)\n",
    "    assert comparison == True\n",
    "\n",
    "def test_calcular_probabilidad_priori_suma() -> None:\n",
    "    prob_all = calcular_probabilidad_priori(test_tensor)\n",
    "    # Segunda prueba unitaria: La suma de las todas las probabilidades de las categorias tiene que dar 1\n",
    "    assert (prob_all.sum()) == 1"
   ]
  },
  {
   "cell_type": "markdown",
   "metadata": {},
   "source": [
    "### Pregunta 1.2.1: Enfoque basado en histogramas: Hypercubo de D x Z x K\n",
    "Donde D es la densidad de probablidad para cada pixel (1024 en total), Z es la intensidad de cada pixel (de 0 a 255) y K es la categoria a la que pertenece (total de 10 categorias)."
   ]
  },
  {
   "cell_type": "code",
   "execution_count": 5,
   "metadata": {},
   "outputs": [],
   "source": [
    "def create_probability_per_category(data,d,z):\n",
    "    # Capturando la cantidad total de imagenes. La probabilidad de cada pixel la dicta este valor.\n",
    "    imagenes_qty = data.shape[0]\n",
    "\n",
    "    # Aplanando todos los tensores para convertirlos en 1D de D pixeles, y convirtiendo los datos en int64 (la funcion bincount de numpy necesita ese formato)\n",
    "    tensor_flat = torch.flatten(data)\n",
    "    tensor_flat = torch.tensor(tensor_flat,dtype=torch.int64)\n",
    "\n",
    "    # Creando un tensor de # de imagenes x D pixeles\n",
    "    reshaped_tensor = tensor_flat.reshape(imagenes_qty,d)\n",
    "\n",
    "    # Haciendo la transpuesta para tener un tensor de D x # de imagenes\n",
    "    transposed_tensor = np.transpose(reshaped_tensor)\n",
    "\n",
    "    # Contando la intensidad de luz por pixel para los 255 niveles. Esto genera un tensor de D (cantidad de pixeles) x Z valores\n",
    "    count_tensor = np.apply_along_axis(np.bincount, axis=1, arr=transposed_tensor, minlength = z)\n",
    "\n",
    "    # Finalmente, se divide todo el tensor entre el numero de imagenes procesadas para obtener la densidad de probabilidad m condicionada por t; y se retorna\n",
    "    count_tensor = torch.tensor(count_tensor,dtype=torch.float32)\n",
    "    probabilty_tensor = count_tensor/imagenes_qty\n",
    "\n",
    "    return torch.tensor(probabilty_tensor)"
   ]
  },
  {
   "cell_type": "code",
   "execution_count": 6,
   "metadata": {},
   "outputs": [],
   "source": [
    "def create_density_hypercube(labels,data,k,d,z):\n",
    "    # Creando un hypercubo en ceros con las dimensiones pre-establecidas\n",
    "    hypercube = torch.zeros([k,d,z])\n",
    "\n",
    "    for category in range(k):\n",
    "        # Creando un tensor con los indices de todas las imagenes para la categoria actual\n",
    "        index_list = torch.tensor(labels == category)\n",
    "\n",
    "        # Creando un nuevo tensor con solo las imagenes que corresponden a la categoria actual\n",
    "        indexed_images = torch.tensor(data[index_list])\n",
    "        \n",
    "        # Enviar a procesar el nuevo tensor y popular el hypercubo solo si tiene datos, si no, continuar con la siguiente categoria\n",
    "        if(indexed_images.numel() != 0):\n",
    "            # Finalmente se popula el hypercubo\n",
    "            hypercube[category,:,:] = create_probability_per_category(indexed_images,d,z)\n",
    "    \n",
    "    return hypercube\n",
    "\n",
    "#with open(\"hipercubo.csv\", \"w+\") as file:\n",
    "    # Converting the array to a string and writing to the file\n",
    "    #file.write(str(dataset_densities))"
   ]
  },
  {
   "cell_type": "markdown",
   "metadata": {},
   "source": [
    "### Pregunta 1.2.1: Funcion train_model_histogram\n",
    "Esta debe retornar el dataset_densities, junto con el arreglo de probabilidades a priori para todas las clases."
   ]
  },
  {
   "cell_type": "code",
   "execution_count": 7,
   "metadata": {},
   "outputs": [],
   "source": [
    "def train_model_histogram(labels,data,k,d,z):\n",
    "    # Creado el hypercubo K x D x Z\n",
    "    dataset_densities = create_density_hypercube(labels,data,k,d,z)\n",
    "\n",
    "    # Creando el arreglo de probabilidades a priori de las categorias\n",
    "    prob_a_priori = calcular_probabilidad_priori(labels)\n",
    "    \n",
    "    return dataset_densities, prob_a_priori"
   ]
  },
  {
   "cell_type": "markdown",
   "metadata": {},
   "source": [
    "### Pregunta 1.2.1: Pruebas unitarias para la funcion train_model_histogram:"
   ]
  },
  {
   "cell_type": "code",
   "execution_count": 8,
   "metadata": {},
   "outputs": [
    {
     "name": "stdout",
     "output_type": "stream",
     "text": [
      "\u001b[32m.\u001b[0m\u001b[32m.\u001b[0m\u001b[32m                                                                                           [100%]\u001b[0m\n",
      "\u001b[32m\u001b[32m\u001b[1m2 passed\u001b[0m\u001b[32m in 0.01s\u001b[0m\u001b[0m\n"
     ]
    }
   ],
   "source": [
    "%%ipytest\n",
    "\n",
    "# Definiendo las dimensiones para ser usadas en las pruebas unitarias: Cuatro categorias, con data de 3x3 que generan arreglos de 9 unidades, 3 posibles valores para cada unidad\n",
    "K = 3\n",
    "D = 9\n",
    "Z = 3\n",
    "\n",
    "# Creando tensor de categorias para 6 set de datos\n",
    "category_tensor = torch.tensor([0,1,1,2,2,2])\n",
    "\n",
    "# Creando tensor de datos: tensores internos de 3x3 para generar 9 unidades. Los valores internos seran aleatorios (no randomizados) para poder realizar el calculo de probabilidades\n",
    "data_tensor = torch.tensor([([1,1,1],[1,1,1],[1,1,1]),([2,0,2],[0,2,0],[2,0,2]),([0,2,0],[2,0,2],[0,2,0]),([0,0,0],[1,1,1],[2,2,2]),([2,2,2],[1,1,1],[0,0,0]),([1,1,1],[0,0,0],[2,2,2])])\n",
    "\n",
    "# Creando tensor con las probabilidades de las categorias que son conocidas: 1/6, 2/6 y 3/6 y la probabilidad de que la categoria tengo un 1 en cualquier unidad\n",
    "prob_category = torch.tensor([1/6, 2/6, 3/6], dtype=torch.float64)\n",
    "prob_cat0 = torch.tensor([1,1,1,1,1,1,1,1,1], dtype=torch.int32)\n",
    "\n",
    "def test_train_model_histogram_priori_all() -> None:\n",
    "    # Primera prueba unitaria: Comparar todas las probabilidades a priori con los valores ya conocidos\n",
    "    ut_dataset, ut_a_priori = train_model_histogram(category_tensor,data_tensor,K,D,Z)\n",
    "    comparison = torch.equal(ut_a_priori,prob_category)\n",
    "    assert comparison == True\n",
    "\n",
    "def test_train_model_histogram_cat0_priority() -> None:\n",
    "    # Segunda prueba unitaria: Para cualquier unidad de la categoria 0, la probablidad de que salga el valor 1 es 100%\n",
    "    ut_dataset, ut_a_priori = train_model_histogram(category_tensor,data_tensor,K,D,Z)\n",
    "    prob_cat0_meas = torch.tensor(ut_dataset[0,:,1],dtype=torch.int32)\n",
    "    comparison = torch.equal(prob_cat0_meas,prob_cat0)\n",
    "    assert comparison == True\n"
   ]
  },
  {
   "cell_type": "markdown",
   "metadata": {},
   "source": [
    "### Pregunta 1.2.1: Histogramas"
   ]
  },
  {
   "cell_type": "code",
   "execution_count": 9,
   "metadata": {},
   "outputs": [
    {
     "name": "stdout",
     "output_type": "stream",
     "text": [
      "Files already downloaded and verified\n",
      "cifar_trainset_tensor shape  torch.Size([50000, 1, 32, 32])\n",
      "cifar_labels  torch.Size([50000])\n",
      "torch.Size([10, 1024, 256])\n",
      "tensor([0.1000, 0.1000, 0.1000, 0.1000, 0.1000, 0.1000, 0.1000, 0.1000, 0.1000,\n",
      "        0.1000], dtype=torch.float64)\n"
     ]
    }
   ],
   "source": [
    "# Creando el set de entrenamiento\n",
    "set_tensor,set_labels = load_cifar10_dataset()\n",
    "\n",
    "# Llamando la funcion\n",
    "K = 10\n",
    "D = 1024\n",
    "Z = 256\n",
    "train_dataset_dens, train_prob_a_priori = train_model_histogram(set_labels,set_tensor,K,D,Z)\n",
    "print(train_dataset_dens.shape)\n",
    "print(train_prob_a_priori)"
   ]
  },
  {
   "cell_type": "code",
   "execution_count": 10,
   "metadata": {},
   "outputs": [
    {
     "data": {
      "image/png": "[encoded data removed]",
      "text/plain": [
       "<Figure size 640x480 with 6 Axes>"
      ]
     },
     "metadata": {},
     "output_type": "display_data"
    }
   ],
   "source": [
    "# Creando los histogramas para la categoria 1\n",
    "fig1, ((hist1,hist2),(hist3,hist4),(hist5,hist6)) = plt.subplots(nrows=3,ncols=2)\n",
    "\n",
    "# Ploteando los histogramas\n",
    "hist1.hist(np.arange(0,256), 255, density=True, weights = train_dataset_dens[1,0,:], histtype='bar')\n",
    "hist1.set_title('Histograma Pixel 0, Cateoria 1')\n",
    "\n",
    "hist2.hist(np.arange(0,256), 255, density=True, weights = train_dataset_dens[1,1,:], histtype='bar')\n",
    "hist2.set_title('Histograma Pixel 1, Cateoria 1')\n",
    "\n",
    "hist3.hist(np.arange(0,256), 255, density=True, weights = train_dataset_dens[1,2,:], histtype='bar')\n",
    "hist3.set_title('Histograma Pixel 2, Cateoria 1')\n",
    "\n",
    "hist4.hist(np.arange(0,256), 255, density=True, weights = train_dataset_dens[1,3,:], histtype='bar')\n",
    "hist4.set_title('Histograma Pixel 3, Cateoria 1')\n",
    "\n",
    "hist5.hist(np.arange(0,256), 255, density=True, weights = train_dataset_dens[1,4,:], histtype='bar')\n",
    "hist5.set_title('Histograma Pixel 4, Cateoria 1')\n",
    "\n",
    "hist6.hist(np.arange(0,256), 255, density=True, weights = train_dataset_dens[1,5,:], histtype='bar')\n",
    "hist6.set_title('Histograma Pixel 5, Cateoria 1')\n",
    "\n",
    "fig1.tight_layout()\n",
    "plt.show()"
   ]
  },
  {
   "cell_type": "code",
   "execution_count": 11,
   "metadata": {},
   "outputs": [
    {
     "data": {
      "image/png": "[encoded data removed]",
      "text/plain": [
       "<Figure size 640x480 with 6 Axes>"
      ]
     },
     "metadata": {},
     "output_type": "display_data"
    }
   ],
   "source": [
    "# Creando los histogramas para la categoria 2\n",
    "fig2, ((hist1,hist2),(hist3,hist4),(hist5,hist6)) = plt.subplots(nrows=3,ncols=2)\n",
    "\n",
    "# Normalizando las probablilidades entre 0 y 255 -> Para visualizacion de los histogramas solamente\n",
    "cat2_pixels_norm = ((train_dataset_dens[2,:,:] - train_dataset_dens[2,:,:].min())/(train_dataset_dens[2,:,:].max() - train_dataset_dens[2,:,:].min()))*255\n",
    "\n",
    "# Ploteando los histogramas\n",
    "hist1.hist(np.arange(0,256), 255, density=True, weights = train_dataset_dens[2,0,:], histtype='bar')\n",
    "hist1.set_title('Histograma Pixel 0, Cateoria 2')\n",
    "\n",
    "hist2.hist(np.arange(0,256), 255, density=True, weights = train_dataset_dens[2,1,:], histtype='bar')\n",
    "hist2.set_title('Histograma Pixel 1, Cateoria 2')\n",
    "\n",
    "hist3.hist(np.arange(0,256), 255, density=True, weights = train_dataset_dens[2,2,:], histtype='bar')\n",
    "hist3.set_title('Histograma Pixel 2, Cateoria 2')\n",
    "\n",
    "hist4.hist(np.arange(0,256), 255, density=True, weights = train_dataset_dens[2,3,:], histtype='bar')\n",
    "hist4.set_title('Histograma Pixel 3, Cateoria 2')\n",
    "\n",
    "hist5.hist(np.arange(0,256), 255, density=True, weights = train_dataset_dens[2,4,:], histtype='bar')\n",
    "hist5.set_title('Histograma Pixel 4, Cateoria 2')\n",
    "\n",
    "hist6.hist(np.arange(0,256), 255, density=True, weights = train_dataset_dens[2,5,:], histtype='bar')\n",
    "hist6.set_title('Histograma Pixel 5, Cateoria 2')\n",
    "\n",
    "fig2.tight_layout()\n",
    "plt.show()"
   ]
  },
  {
   "cell_type": "markdown",
   "metadata": {},
   "source": [
    "### Pregunta 1.2.2: Funcion model_histogram_test"
   ]
  },
  {
   "cell_type": "code",
   "execution_count": 12,
   "metadata": {},
   "outputs": [],
   "source": [
    "def model_histogram_test(input_torch, dataset_densities, labels_a_priori, num_classes = 10):\n",
    "    # Haciendo flat el input_torch de entrada\n",
    "    image_flat = torch.tensor(input_torch.flatten(),dtype=torch.int32)\n",
    "\n",
    "    results = np.array([])\n",
    "\n",
    "    for category in range(num_classes):\n",
    "        # Creando un arreglo para seleccionar todas las filas y evaluandolas por los valores del input_torch flat, para cada categoria\n",
    "        index_list = np.arange(0,len(dataset_densities[category,:,0]))\n",
    "        tensor_prob_m_t = dataset_densities[category,index_list,image_flat]\n",
    "\n",
    "        # Para Bayes ingenuo es necesario hacer una multiplicatoria, por lo que se aplica logaritmo natural negativo a los valores de las probabilidad para poder sumarlas\n",
    "        # Nota: Probalidades iguales a 0 causan un -infinito. Se tienen que sustituir por un numero muy pequenno: 0.00001\n",
    "        tensor_prob_m_t[tensor_prob_m_t == 0.0] = 0.00001\n",
    "        tensor_ln_prob_mt = -torch.log(tensor_prob_m_t)\n",
    "        \n",
    "        # Se suman todos los valores para tener el score de la categoria para p(m|t=k)\n",
    "        prob_mt = tensor_ln_prob_mt.sum()\n",
    "\n",
    "        # Multiplicar la suma total por la probabilidad a priori del label correspondiente\n",
    "        prob_t = labels_a_priori[category]\n",
    "        prob_mt_k = prob_mt - torch.tensor(prob_t)\n",
    "\n",
    "        # Agregar el resultado al arreglo de resultados\n",
    "        results = np.append(results, prob_mt_k)\n",
    "\n",
    "    # Determinando cual es la categoria correspondiente\n",
    "    min_value = results.min()\n",
    "    category_index = np.where(results == min_value)\n",
    "\n",
    "    return category_index[0]"
   ]
  },
  {
   "cell_type": "markdown",
   "metadata": {},
   "source": [
    "### Pregunta 1.2.2: Pruebas unitarias para la funcion model_histogram_test:"
   ]
  },
  {
   "cell_type": "code",
   "execution_count": 13,
   "metadata": {},
   "outputs": [
    {
     "name": "stdout",
     "output_type": "stream",
     "text": [
      "\u001b[32m.\u001b[0m\u001b[32m.\u001b[0m\u001b[32m                                                                                           [100%]\u001b[0m\n",
      "\u001b[32m\u001b[32m\u001b[1m2 passed\u001b[0m\u001b[32m in 0.01s\u001b[0m\u001b[0m\n"
     ]
    }
   ],
   "source": [
    "%%ipytest\n",
    "\n",
    "# Utilizando la misma estructura de las pruebas unitarias anteriores\n",
    "K = 3\n",
    "D = 9\n",
    "Z = 3\n",
    "\n",
    "# Creando tensor de categorias para 6 set de datos\n",
    "category_tensor = torch.tensor([0,1,1,2,2,2])\n",
    "\n",
    "# Creando tensor de datos: tensores internos de 3x3 para generar 9 unidades. Los valores internos seran aleatorios (no randomizados) para poder realizar el calculo de probabilidades\n",
    "data_tensor = torch.tensor([([1,1,1],[1,1,1],[1,1,1]),([2,0,2],[0,2,0],[2,0,2]),([0,2,0],[2,0,2],[0,2,0]),([0,0,0],[1,1,1],[2,2,2]),([2,2,2],[1,1,1],[0,0,0]),([1,1,1],[0,0,0],[2,2,2])])\n",
    "\n",
    "ejemplo_dataset, ejemplo_a_priori = train_model_histogram(category_tensor,data_tensor,K,D,Z)\n",
    "\n",
    "def test_model_histogram_testimage_1() -> None:\n",
    "    # Primera prueba unitaria: Utilizando el tensor [0,2,0],[2,0,2],[0,2,0], el cual tiene que entregar como resultado que pertenece a la categoria #1\n",
    "    test_image = torch.tensor([[0,2,0],[2,0,2],[0,2,0]])\n",
    "    category = model_histogram_test(test_image, ejemplo_dataset, ejemplo_a_priori, K)\n",
    "    assert category[0] == 1\n",
    "\n",
    "def test_model_histogram_testimage_2() -> None:\n",
    "    # Segunda prueba unitaria: Utilizando el tensor [1,2,1],[1,0,0],[2,2,1], el cual tiene que entregar como resultado que pertenece a la categoria #2 por su semejanza a una de las unidades de entrenamiento\n",
    "    test_image = torch.tensor([[1,2,1],[1,0,0],[2,2,1]])\n",
    "    category = model_histogram_test(test_image, ejemplo_dataset, ejemplo_a_priori, K)\n",
    "    assert category[0] == 2"
   ]
  },
  {
   "cell_type": "markdown",
   "metadata": {},
   "source": [
    "### Pregunta 1.2.3: Funcion model_batch_histogram_test"
   ]
  },
  {
   "cell_type": "code",
   "execution_count": 14,
   "metadata": {},
   "outputs": [],
   "source": [
    "def model_batch_histogram_test(test_set, test_labels, dataset_densities, p_t_tensor):\n",
    "    \n",
    "    y_predict = np.array([])\n",
    "    \n",
    "    for category in range(len(test_labels)):\n",
    "        category_predicted = model_histogram_test(test_set[category], dataset_densities, p_t_tensor, len(p_t_tensor))\n",
    "        y_predict = np.append(y_predict,category_predicted[0])\n",
    "    \n",
    "    y_real_tensor = torch.tensor(test_labels,dtype=torch.int32)\n",
    "    y_predict_tensor = torch.tensor(y_predict,dtype=torch.int32)\n",
    "\n",
    "    # Calculando el Accuracy usando la funcion de scikit-learn\n",
    "    accuracy = accuracy_score(y_real_tensor,y_predict_tensor)\n",
    "    return accuracy"
   ]
  },
  {
   "cell_type": "markdown",
   "metadata": {},
   "source": [
    "### Pregunta 1.2.3: Pruebas unitarias para la funcion model_batch_histogram_test:"
   ]
  },
  {
   "cell_type": "code",
   "execution_count": 15,
   "metadata": {},
   "outputs": [
    {
     "name": "stdout",
     "output_type": "stream",
     "text": [
      "\u001b[32m.\u001b[0m\u001b[32m.\u001b[0m\u001b[32m                                                                                           [100%]\u001b[0m\n",
      "\u001b[32m\u001b[32m\u001b[1m2 passed\u001b[0m\u001b[32m in 0.01s\u001b[0m\u001b[0m\n"
     ]
    }
   ],
   "source": [
    "%%ipytest\n",
    "\n",
    "# Utilizando la misma estructura de las pruebas unitarias anteriores\n",
    "K = 3\n",
    "D = 9\n",
    "Z = 3\n",
    "\n",
    "# Creando tensor de categorias para 6 set de datos\n",
    "category_tensor = torch.tensor([0,1,1,2,2,2])\n",
    "\n",
    "# Creando tensor de datos: tensores internos de 3x3 para generar 9 unidades. Los valores internos seran aleatorios (no randomizados) para poder realizar el calculo de probabilidades\n",
    "data_tensor = torch.tensor([([1,1,1],[1,1,1],[1,1,1]),([2,0,2],[0,2,0],[2,0,2]),([0,2,0],[2,0,2],[0,2,0]),([0,0,0],[1,1,1],[2,2,2]),([2,2,2],[1,1,1],[0,0,0]),([1,1,1],[0,0,0],[2,2,2])])\n",
    "\n",
    "# Creando el modelo y un tensor de labels de prueba. Para efectos practicos, es el mismo que el usado para el entrenamiento\n",
    "hist_model, labels_a_priori = train_model_histogram(category_tensor,data_tensor,K,D,Z)\n",
    "label_tensor = torch.tensor([0,1,1,2,2,2])\n",
    "\n",
    "def test_model_batch_histogram_test_trainingset() -> None:\n",
    "    # Primera prueba unitaria: Si se utiliza un tensor igual al de entrenamiento, el accuracy debe ser igual a 1\n",
    "    test_tensor_equal_training = torch.tensor([([1,1,1],[1,1,1],[1,1,1]),([2,0,2],[0,2,0],[2,0,2]),([0,2,0],[2,0,2],[0,2,0]),([0,0,0],[1,1,1],[2,2,2]),([2,2,2],[1,1,1],[0,0,0]),([1,1,1],[0,0,0],[2,2,2])])\n",
    "    accuracy = model_batch_histogram_test(test_tensor_equal_training,label_tensor,hist_model,labels_a_priori)\n",
    "    assert accuracy == 1\n",
    "\n",
    "def test_model_batch_histogram_test_randomset() -> None:\n",
    "    # Segunda prueba unitaria: Si se utiliza un tensor diferente al de entrenamiento, el accuracy debe ser menor a 1\n",
    "    test_tensor_diff = torch.tensor([([1,0,1],[1,1,0],[0,1,1]),([2,1,2],[0,2,0],[2,0,1]),([0,2,1],[2,1,2],[1,2,0]),([0,0,1],[1,1,2],[2,0,2]),([2,2,2],[1,1,1],[0,0,0]),([1,1,0],[0,2,0],[1,2,2])])\n",
    "    accuracy = model_batch_histogram_test(test_tensor_diff,label_tensor,hist_model,labels_a_priori)\n",
    "    assert accuracy < 1"
   ]
  },
  {
   "cell_type": "markdown",
   "metadata": {},
   "source": [
    "### Pregunta 1.1: Entrenar el modelo y entender tanto el comportamiento como la tasa de aciertos"
   ]
  },
  {
   "cell_type": "code",
   "execution_count": 16,
   "metadata": {},
   "outputs": [
    {
     "name": "stdout",
     "output_type": "stream",
     "text": [
      "Files already downloaded and verified\n",
      "cifar_trainset_tensor shape  torch.Size([50000, 1, 32, 32])\n",
      "cifar_labels  torch.Size([50000])\n"
     ]
    }
   ],
   "source": [
    "# Creando el set de entrenamiento\n",
    "training_images,training_labels = load_cifar10_dataset()"
   ]
  },
  {
   "cell_type": "code",
   "execution_count": 17,
   "metadata": {},
   "outputs": [
    {
     "name": "stdout",
     "output_type": "stream",
     "text": [
      "El Accuracy del modelo creado con histogramas es de 98.08200000000001%, al ser evaluado con el set de entrenamiento\n"
     ]
    }
   ],
   "source": [
    "# Creando las variables del hypercubo\n",
    "K = 10\n",
    "D = 1024\n",
    "Z = 256\n",
    "\n",
    "# Entrenando al modelo\n",
    "hist_model, labels_a_priori = train_model_histogram(training_labels,training_images,K,D,Z)\n",
    "\n",
    "# Evaluando el modelo usando los mismos set de training\n",
    "accuracy_training = model_batch_histogram_test(training_images,training_labels,hist_model,labels_a_priori)\n",
    "print(f\"El Accuracy del modelo creado con histogramas es de {accuracy_training*100}%, al ser evaluado con el set de entrenamiento\")"
   ]
  },
  {
   "cell_type": "markdown",
   "metadata": {},
   "source": [
    "El punto en la pregunta actual hace referencia a que hacer con valores de 0 o nulos. Esto ya fue estudiado durante el desarrollo de los algoritmos, llegamos a los siguientes puntos:\n",
    "- Para evitar que los valores den cercanos a cero (por estar multiplicando por valores de probabilidad muy pequennos), se uso la tecnica de aplicar el negativo del logaritmo natural. Al hacer esto, la multiplicatoria de Bayes ingenuo pasa a ser una suma de valores, y el negativo causa que, en lugar de maximizar la verosimilitud, se minimize el error. Esto es importante porque todos los valores entre 0 y 1, al aplicar el logaritmo natural, retornan valores negativos.\n",
    "- Si se le trata de aplicar el logaritmo natural a 0, la respuesta da menos infinito, por lo tanto, para evitar este error, se hace una sustitucion de los ceros por un valor muy pequeno, en este caso, por 0.00001."
   ]
  },
  {
   "cell_type": "markdown",
   "metadata": {},
   "source": [
    "### Pregunta 1.1: Entrenar el modelo y evaluarlo con el set de pruebas del dataset."
   ]
  },
  {
   "cell_type": "code",
   "execution_count": 18,
   "metadata": {},
   "outputs": [
    {
     "name": "stdout",
     "output_type": "stream",
     "text": [
      "Files already downloaded and verified\n",
      "cifar_trainset_tensor shape  torch.Size([10000, 1, 32, 32])\n",
      "cifar_labels  torch.Size([10000])\n"
     ]
    }
   ],
   "source": [
    "# Creando el set de pruebas\n",
    "test_images,test_labels = load_cifar10_dataset(is_train=False)"
   ]
  },
  {
   "cell_type": "code",
   "execution_count": 19,
   "metadata": {},
   "outputs": [
    {
     "name": "stdout",
     "output_type": "stream",
     "text": [
      "El Accuracy del modelo creado con histogramas es de 9.98%, al ser evaluado con el set de pruebas del dataset\n"
     ]
    }
   ],
   "source": [
    "# El modelo ya habia sido entrenado, por lo tanto, se procede a calcular el accuracy\n",
    "accuracy_test = model_batch_histogram_test(test_images,test_labels,hist_model,labels_a_priori)\n",
    "print(f\"El Accuracy del modelo creado con histogramas es de {accuracy_test*100}%, al ser evaluado con el set de pruebas del dataset\")"
   ]
  },
  {
   "cell_type": "markdown",
   "metadata": {},
   "source": [
    "El Accuracy, en este caso, cae hasta menos de un 10%, lo que indica que el modelo sobreajustado. Esto no es una sorpresa debido a que los histogramas confian ciegamente en la muestra, por lo tanto, un modelo entrenado con esta estrategia es propenso a tener problemas de sobreajuste."
   ]
  },
  {
   "cell_type": "markdown",
   "metadata": {},
   "source": [
    "### Pregunta 1.1: Entrenar el modelo y evaluarlo con el set de training divido en 70% de entrenamiento y 30% de prueba"
   ]
  },
  {
   "cell_type": "code",
   "execution_count": 20,
   "metadata": {},
   "outputs": [],
   "source": [
    "# Creando los set de entrenamiento y prueba usando las funciones de scikit-learn\n",
    "images_train, images_test, labels_train, labels_test = train_test_split(training_images,training_labels,test_size=0.3)"
   ]
  },
  {
   "cell_type": "code",
   "execution_count": 21,
   "metadata": {},
   "outputs": [
    {
     "name": "stdout",
     "output_type": "stream",
     "text": [
      "Train images shape  torch.Size([35000, 1, 32, 32])\n",
      "Train labels shape torch.Size([35000])\n"
     ]
    }
   ],
   "source": [
    "# Ahora se comprueba que el sampling se haya hecho de forma de correcta\n",
    "print(\"Train images shape \", images_train.shape)\n",
    "print(\"Train labels shape\", labels_train.shape)"
   ]
  },
  {
   "cell_type": "code",
   "execution_count": 22,
   "metadata": {},
   "outputs": [
    {
     "name": "stdout",
     "output_type": "stream",
     "text": [
      "Test images shape  torch.Size([15000, 1, 32, 32])\n",
      "Test labels shape torch.Size([15000])\n"
     ]
    }
   ],
   "source": [
    "# Tambien se comprueba que las dimensiones de los tensores de pruebas esten correctos\n",
    "print(\"Test images shape \", images_test.shape)\n",
    "print(\"Test labels shape\", labels_test.shape)"
   ]
  },
  {
   "cell_type": "code",
   "execution_count": 23,
   "metadata": {},
   "outputs": [
    {
     "name": "stdout",
     "output_type": "stream",
     "text": [
      "Lista de los valores unicos de categorias: [0 1 2 3 4 5 6 7 8 9]\n",
      "Cuentas para cada uno de estos valores: [3467 3505 3495 3587 3493 3491 3476 3516 3426 3544]\n"
     ]
    }
   ],
   "source": [
    "# Verificamos que ya haya aleatoriedad en las categorias\n",
    "valores_unicos_train, cuenta_train = np.unique(labels_train,return_counts=True)\n",
    "print(f\"Lista de los valores unicos de categorias: {valores_unicos_train}\")\n",
    "print(f\"Cuentas para cada uno de estos valores: {cuenta_train}\")"
   ]
  },
  {
   "cell_type": "code",
   "execution_count": 24,
   "metadata": {},
   "outputs": [
    {
     "name": "stdout",
     "output_type": "stream",
     "text": [
      "Lista de los valores unicos de categorias: [0 1 2 3 4 5 6 7 8 9]\n",
      "Cuentas para cada uno de estos valores: [1533 1495 1505 1413 1507 1509 1524 1484 1574 1456]\n"
     ]
    }
   ],
   "source": [
    "# Y para concluir, verificamos lo mismo para los labels de prueba\n",
    "valores_unicos_test, cuenta_test = np.unique(labels_test,return_counts=True)\n",
    "print(f\"Lista de los valores unicos de categorias: {valores_unicos_test}\")\n",
    "print(f\"Cuentas para cada uno de estos valores: {cuenta_test}\")"
   ]
  },
  {
   "cell_type": "code",
   "execution_count": 25,
   "metadata": {},
   "outputs": [],
   "source": [
    "df_acc_results = pd.DataFrame(columns=['Cycle','Accuracy'])"
   ]
  },
  {
   "cell_type": "code",
   "execution_count": 26,
   "metadata": {},
   "outputs": [
    {
     "name": "stdout",
     "output_type": "stream",
     "text": [
      "    Cycle   Accuracy\n",
      "0     1.0   9.626667\n",
      "1     2.0   9.633333\n",
      "2     3.0  10.233333\n",
      "3     4.0  10.086667\n",
      "4     5.0   9.600000\n",
      "5     6.0   9.580000\n",
      "6     7.0   9.940000\n",
      "7     8.0  10.013333\n",
      "8     9.0  10.033333\n",
      "9    10.0   9.733333\n",
      "10   11.0  10.006667\n",
      "11   12.0   9.753333\n",
      "12   13.0  10.140000\n",
      "13   14.0  10.066667\n",
      "14   15.0   9.640000\n",
      "15   16.0   9.760000\n",
      "16   17.0  10.226667\n",
      "17   18.0  10.080000\n",
      "18   19.0   9.760000\n",
      "19   20.0   9.693333\n",
      "20   21.0   9.606667\n",
      "21   22.0   9.846667\n",
      "22   23.0   9.520000\n",
      "23   24.0   9.800000\n",
      "24   25.0  10.026667\n",
      "25   26.0   9.760000\n",
      "26   27.0   9.586667\n",
      "27   28.0  10.020000\n",
      "28   29.0   9.766667\n",
      "29   30.0   9.806667\n"
     ]
    }
   ],
   "source": [
    "# Creando las variables del hypercubo\n",
    "K = 10\n",
    "D = 1024\n",
    "Z = 256\n",
    "\n",
    "# Creando Dataframe para almacenar los resultados\n",
    "df_acc_results = pd.DataFrame(columns=['Cycle','Accuracy'])\n",
    "\n",
    "# Tasa de acierto para 30 repeticiones, haciendo diferentes particiones cada vez\n",
    "for cycle in range(30):\n",
    "    # Nuevo slip para entrenamiento y prueba\n",
    "    images_train, images_test, labels_train, labels_test = train_test_split(training_images,training_labels,test_size=0.3)\n",
    "\n",
    "    # Entrenando al modelo\n",
    "    hist_model, labels_a_priori = train_model_histogram(labels_train,images_train,K,D,Z)\n",
    "\n",
    "    # Evaluando el modelo\n",
    "    accuracy = model_batch_histogram_test(images_test,labels_test,hist_model,labels_a_priori)\n",
    "\n",
    "    # Populando el dataframe con cada ciclo\n",
    "    df_acc_results.loc[len(df_acc_results.index)] = [cycle + 1,accuracy * 100]\n",
    "\n",
    "# Verficando los resultados obtenidos\n",
    "print(df_acc_results)\n",
    "    "
   ]
  },
  {
   "cell_type": "code",
   "execution_count": 27,
   "metadata": {},
   "outputs": [
    {
     "name": "stdout",
     "output_type": "stream",
     "text": [
      "La media de la tasa de aciertos es de 9.845%, y la desviacion estandar es de 0.206%\n"
     ]
    }
   ],
   "source": [
    "# Calculando la media y la desviacion estandar de las tasas de acierto\n",
    "tasa_aciertos = df_acc_results['Accuracy'].to_numpy()\n",
    "\n",
    "media_aciertos = np.mean(tasa_aciertos)\n",
    "std_aciertos = np.std(tasa_aciertos)\n",
    "\n",
    "print(f\"La media de la tasa de aciertos es de {round(media_aciertos,3)}%, y la desviacion estandar es de {round(std_aciertos,3)}%\")"
   ]
  },
  {
   "cell_type": "markdown",
   "metadata": {},
   "source": [
    "## Pregunta 2: Implementacion de la clasificacion multi-clase de imagenes con Bayes Ingenuo usando un modelo Gaussiano"
   ]
  },
  {
   "cell_type": "markdown",
   "metadata": {},
   "source": [
    "### 2: Funcion train_model_gaussian"
   ]
  },
  {
   "cell_type": "code",
   "execution_count": 28,
   "metadata": {},
   "outputs": [],
   "source": [
    "def create_probability_gauss_per_category(data_tensor,d):\n",
    "    # Capturando la cantidad total de imagenes. La probabilidad de cada pixel la dicta este valor.\n",
    "    data_qty = data_tensor.shape[0]\n",
    "\n",
    "    # Aplanando todos los tensores para convertirlos en 1D de D pixeles, y convirtiendo los datos en int64 (la funcion bincount de numpy necesita ese formato)\n",
    "    data_flat = torch.flatten(data_tensor)\n",
    "    data_flat = torch.tensor(data_flat,dtype=torch.float64)\n",
    "\n",
    "    # Creando un tensor de # de imagenes x D pixeles\n",
    "    reshaped_tensor = data_flat.reshape(data_qty,d)\n",
    "\n",
    "    # Haciendo la transpuesta para tener un tensor de D x # de imagenes\n",
    "    transposed_tensor = np.transpose(reshaped_tensor)\n",
    "\n",
    "    # Calcular las medias para todos los datos por fila\n",
    "    tmp_mu = torch.mean(transposed_tensor,dim=1)\n",
    "\n",
    "    # Calcular las desviaciones estandar para todos los datos por fila\n",
    "    tmp_std = torch.std(transposed_tensor,dim=1)\n",
    "\n",
    "    return tmp_mu, tmp_std"
   ]
  },
  {
   "cell_type": "code",
   "execution_count": 84,
   "metadata": {},
   "outputs": [],
   "source": [
    "def train_model_gaussian(labels_tensor, data_tensor, k, d):\n",
    "    # Crear las dos matrices que van a ser retornadas al final\n",
    "    mu = torch.zeros(d,k)\n",
    "    sigma = torch.zeros(d,k)\n",
    "\n",
    "    for category in range(k):\n",
    "        # Creando un tensor con los indices de todas las imagenes para la categoria actual\n",
    "        index_list = torch.tensor(labels_tensor == category)\n",
    "\n",
    "        # Creando un nuevo tensor con solo las imagenes que corresponden a la categoria actual\n",
    "        indexed_images = torch.tensor(data_tensor[index_list])\n",
    "        \n",
    "        # Enviar a procesar el nuevo tensor y popular las matrices solo si tiene datos, si no, continuar con la siguiente categoria\n",
    "        if(indexed_images.numel() != 0):\n",
    "            mu[:,category], sigma[:,category] = create_probability_gauss_per_category(indexed_images,d)\n",
    "\n",
    "    return mu,sigma"
   ]
  },
  {
   "cell_type": "markdown",
   "metadata": {},
   "source": [
    "### Pregunta 2: Pruebas unitarias para train_model_gaussian"
   ]
  },
  {
   "cell_type": "code",
   "execution_count": 85,
   "metadata": {},
   "outputs": [
    {
     "name": "stdout",
     "output_type": "stream",
     "text": [
      "\u001b[32m.\u001b[0m\u001b[32m.\u001b[0m\u001b[32m                                                                                           [100%]\u001b[0m\n",
      "\u001b[32m\u001b[32m\u001b[1m2 passed\u001b[0m\u001b[32m in 0.01s\u001b[0m\u001b[0m\n"
     ]
    }
   ],
   "source": [
    "%%ipytest\n",
    "\n",
    "# Creando un set de datos similar al del modelo con histogramas\n",
    "K = 3\n",
    "D = 9\n",
    "\n",
    "# Creando tensor de categorias para 7 set de datos\n",
    "categories = torch.tensor([0,0,1,1,2,2,2])\n",
    "\n",
    "# Creando tensor de datos: tensores internos de 3x3 para generar 9 unidades. Los valores internos seran aleatorios (no randomizados) para poder realizar el calculo de probabilidades\n",
    "data = torch.tensor([([1,1,1],[2,2,2],[1,3,3]),([1,1,1],[2,2,2],[3,3,3]),([2,0,2],[0,2,0],[2,0,2]),([0,2,0],[2,0,2],[0,2,0]),([0,0,0],[1,1,1],[2,2,2]),([2,2,2],[1,1,1],[0,0,0]),([1,1,1],[0,0,0],[2,2,2])])\n",
    "\n",
    "# Calculando las medias y desviaciones estandar\n",
    "Mu_d_k, Sigma_d_k = train_model_gaussian(categories, data, K, D)\n",
    "\n",
    "def test_train_model_gaussian_k1_means() -> None:\n",
    "    # Primera prueba unitaria: Para la categoria 1, la media de para cualquier unidad es 1\n",
    "    comparison = torch.equal(Mu_d_k[:,0],torch.tensor([1,1,1,2,2,2,2,3,3]))\n",
    "    assert comparison == True\n",
    "\n",
    "def test_train_model_gaussian_k0_stds() -> None:\n",
    "    # Segunda prueba unitaria: Para la categoria 1, la desviacion estandar para cualquier unidad es 2 ** (1/2)\n",
    "    std = 2 ** (1/2)\n",
    "    comparison = torch.equal(Sigma_d_k[:,1],torch.tensor([std,std,std,std,std,std,std,std,std]))\n",
    "    assert comparison == True"
   ]
  },
  {
   "cell_type": "markdown",
   "metadata": {},
   "source": [
    "### Pregunta 2: Histogramas"
   ]
  },
  {
   "cell_type": "code",
   "execution_count": 68,
   "metadata": {},
   "outputs": [
    {
     "name": "stdout",
     "output_type": "stream",
     "text": [
      "Files already downloaded and verified\n",
      "cifar_trainset_tensor shape  torch.Size([50000, 1, 32, 32])\n",
      "cifar_labels  torch.Size([50000])\n",
      "torch.Size([1024, 10])\n",
      "torch.Size([1024, 10])\n"
     ]
    }
   ],
   "source": [
    "# Creando el set de datos\n",
    "set_tensor,set_labels = load_cifar10_dataset()\n",
    "\n",
    "# Definiendo las dimensiones del modelo\n",
    "K = 10\n",
    "D = 1024\n",
    "\n",
    "Mu_d_k, Sigma_d_k = train_model_gaussian(set_labels, set_tensor, K, D)\n",
    "\n",
    "print(Mu_d_k.shape)\n",
    "print(Sigma_d_k.shape)"
   ]
  },
  {
   "cell_type": "code",
   "execution_count": 69,
   "metadata": {},
   "outputs": [],
   "source": [
    "def prob_gauss_m_t(data,mu,sig):\n",
    "    # Funcion Gaussiana\n",
    "    fraction = 1/(torch.sqrt(torch.tensor(2 * torch.pi * sig**2)))\n",
    "    expon = torch.exp((-1/2) * ((data-mu)/(sig))**2)\n",
    "    prob_m_t = fraction * expon\n",
    "    return torch.tensor(prob_m_t)"
   ]
  },
  {
   "cell_type": "code",
   "execution_count": 70,
   "metadata": {},
   "outputs": [],
   "source": [
    "def image_pixel_count(category,images,labels,pixel):\n",
    "    index_list = torch.tensor(labels == category)\n",
    "\n",
    "    # Creando un nuevo tensor con solo las imagenes que corresponden a la categoria actual\n",
    "    indexed_images = torch.tensor(images[index_list])\n",
    "\n",
    "    imagenes_qty = indexed_images.shape[0]\n",
    "    tensor_flat = torch.flatten(indexed_images)\n",
    "    tensor_flat = torch.tensor(tensor_flat,dtype=torch.int64)\n",
    "    reshaped_tensor = tensor_flat.reshape(imagenes_qty,1024)\n",
    "    transposed_tensor = np.transpose(reshaped_tensor)\n",
    "    count_tensor = np.apply_along_axis(np.bincount, axis=1, arr=transposed_tensor, minlength = 256)\n",
    "    pixel_count = count_tensor[pixel,:]\n",
    "\n",
    "    return pixel_count"
   ]
  },
  {
   "cell_type": "code",
   "execution_count": 71,
   "metadata": {},
   "outputs": [],
   "source": [
    "def hist_pdf(images,labels,category,pixel_number):\n",
    "    mean_pixel = Mu_d_k[pixel_number,category]\n",
    "    std_pixel = Sigma_d_k[pixel_number,category]\n",
    "\n",
    "    pixel_count = image_pixel_count(category,images,labels,pixel_number)\n",
    "\n",
    "    prob = prob_gauss_m_t(torch.tensor(pixel_count),mean_pixel,std_pixel)\n",
    "\n",
    "    # Normalizando\n",
    "    prob_norm = ((prob - prob.min())/(prob.max() - prob.min())) * pixel_count.max()\n",
    "\n",
    "    return pixel_count,prob_norm"
   ]
  },
  {
   "cell_type": "code",
   "execution_count": 72,
   "metadata": {},
   "outputs": [],
   "source": [
    "# Calculo de las funciones de densidad gaussianas y los histogramas, Categoria 1, Pixel 0\n",
    "pixel_0_cat1, prob_pixel_0_cat1 = hist_pdf(set_tensor,set_labels,1,0)\n",
    "\n",
    "# Calculo de las funciones de densidad gaussianas y los histogramas, Categoria 1, Pixel 1\n",
    "pixel_1_cat1, prob_pixel_1_cat1 = hist_pdf(set_tensor,set_labels,1,1)\n",
    "\n",
    "# Calculo de las funciones de densidad gaussianas y los histogramas, Categoria 1, Pixel 2\n",
    "pixel_2_cat1, prob_pixel_2_cat1 = hist_pdf(set_tensor,set_labels,1,2)\n",
    "\n",
    "# Calculo de las funciones de densidad gaussianas y los histogramas, Categoria 1, Pixel 3\n",
    "pixel_3_cat1, prob_pixel_3_cat1 = hist_pdf(set_tensor,set_labels,1,3)\n",
    "\n",
    "# Calculo de las funciones de densidad gaussianas y los histogramas, Categoria 1, Pixel 4\n",
    "pixel_4_cat1, prob_pixel_4_cat1 = hist_pdf(set_tensor,set_labels,1,4)\n",
    "\n",
    "# Calculo de las funciones de densidad gaussianas y los histogramas, Categoria 1, Pixel 5\n",
    "pixel_5_cat1, prob_pixel_5_cat1 = hist_pdf(set_tensor,set_labels,1,5)\n"
   ]
  },
  {
   "cell_type": "code",
   "execution_count": 73,
   "metadata": {},
   "outputs": [
    {
     "data": {
      "image/png": "[encoded data removed]",
      "text/plain": [
       "<Figure size 640x480 with 6 Axes>"
      ]
     },
     "metadata": {},
     "output_type": "display_data"
    }
   ],
   "source": [
    "# Creando los histogramas para la categoria 1\n",
    "fig3, ((gauss1,gauss2),(gauss3,gauss4),(gauss5,gauss6)) = plt.subplots(nrows=3,ncols=2)\n",
    "\n",
    "# Eje x\n",
    "x = torch.linspace(0,255,256)\n",
    "\n",
    "# Ploteando los histogramas\n",
    "gauss1.hist(x, bins=x, weights=pixel_0_cat1, edgecolor='black')\n",
    "gauss1.plot(x.numpy(),prob_pixel_0_cat1.numpy(), color='red')\n",
    "gauss1.set_title('Gaussiano Pixel 0, Cateoria 1')\n",
    "\n",
    "gauss2.hist(x, bins=x, weights=pixel_1_cat1, edgecolor='black')\n",
    "gauss2.plot(x.numpy(),prob_pixel_1_cat1.numpy(), color='red')\n",
    "gauss2.set_title('Gaussiano Pixel 1, Cateoria 1')\n",
    "\n",
    "gauss3.hist(x, bins=x, weights=pixel_2_cat1, edgecolor='black')\n",
    "gauss3.plot(x.numpy(),prob_pixel_2_cat1.numpy(), color='red')\n",
    "gauss3.set_title('Gaussiano Pixel 2, Cateoria 1')\n",
    "\n",
    "gauss4.hist(x, bins=x, weights=pixel_3_cat1, edgecolor='black')\n",
    "gauss4.plot(x.numpy(),prob_pixel_3_cat1.numpy(), color='red')\n",
    "gauss4.set_title('Gaussiano Pixel 3, Cateoria 1')\n",
    "\n",
    "gauss5.hist(x, bins=x, weights=pixel_4_cat1, edgecolor='black')\n",
    "gauss5.plot(x.numpy(),prob_pixel_4_cat1.numpy(), color='red')\n",
    "gauss5.set_title('Gaussiano Pixel 4, Cateoria 1')\n",
    "\n",
    "gauss6.hist(x, bins=x, weights=pixel_5_cat1, edgecolor='black')\n",
    "gauss6.plot(x.numpy(),prob_pixel_5_cat1.numpy(), color='red')\n",
    "gauss6.set_title('Gaussiano Pixel 5, Cateoria 1')\n",
    "\n",
    "fig3.tight_layout()\n",
    "plt.show()"
   ]
  },
  {
   "cell_type": "code",
   "execution_count": 78,
   "metadata": {},
   "outputs": [],
   "source": [
    "# Calculo de las funciones de densidad gaussianas y los histogramas, Categoria 2, Pixel 0\n",
    "pixel_0_cat2, prob_pixel_0_cat2 = hist_pdf(set_tensor,set_labels,2,0)\n",
    "\n",
    "# Calculo de las funciones de densidad gaussianas y los histogramas, Categoria 2, Pixel 1\n",
    "pixel_1_cat2, prob_pixel_1_cat2 = hist_pdf(set_tensor,set_labels,2,1)\n",
    "\n",
    "# Calculo de las funciones de densidad gaussianas y los histogramas, Categoria 2, Pixel 2\n",
    "pixel_2_cat2, prob_pixel_2_cat2 = hist_pdf(set_tensor,set_labels,2,2)\n",
    "\n",
    "# Calculo de las funciones de densidad gaussianas y los histogramas, Categoria 2, Pixel 3\n",
    "pixel_3_cat2, prob_pixel_3_cat2 = hist_pdf(set_tensor,set_labels,2,3)\n",
    "\n",
    "# Calculo de las funciones de densidad gaussianas y los histogramas, Categoria 2, Pixel 4\n",
    "pixel_4_cat2, prob_pixel_4_cat2 = hist_pdf(set_tensor,set_labels,2,4)\n",
    "\n",
    "# Calculo de las funciones de densidad gaussianas y los histogramas, Categoria 2, Pixel 5\n",
    "pixel_5_cat2, prob_pixel_5_cat2 = hist_pdf(set_tensor,set_labels,2,5)"
   ]
  },
  {
   "cell_type": "code",
   "execution_count": 79,
   "metadata": {},
   "outputs": [
    {
     "data": {
      "image/png": "[encoded data removed]",
      "text/plain": [
       "<Figure size 640x480 with 6 Axes>"
      ]
     },
     "metadata": {},
     "output_type": "display_data"
    }
   ],
   "source": [
    "# Creando los histogramas para la categoria 1\n",
    "fig3, ((gauss1,gauss2),(gauss3,gauss4),(gauss5,gauss6)) = plt.subplots(nrows=3,ncols=2)\n",
    "\n",
    "# Eje x\n",
    "x = torch.linspace(0,255,256)\n",
    "\n",
    "# Ploteando los histogramas\n",
    "gauss1.hist(x, bins=x, weights=pixel_0_cat2, edgecolor='black')\n",
    "gauss1.plot(x.numpy(),prob_pixel_0_cat2.numpy(), color='red')\n",
    "gauss1.set_title('Gaussiano Pixel 0, Cateoria 2')\n",
    "\n",
    "gauss2.hist(x, bins=x, weights=pixel_1_cat2, edgecolor='black')\n",
    "gauss2.plot(x.numpy(),prob_pixel_1_cat2.numpy(), color='red')\n",
    "gauss2.set_title('Gaussiano Pixel 1, Cateoria 2')\n",
    "\n",
    "gauss3.hist(x, bins=x, weights=pixel_2_cat2, edgecolor='black')\n",
    "gauss3.plot(x.numpy(),prob_pixel_2_cat2.numpy(), color='red')\n",
    "gauss3.set_title('Gaussiano Pixel 2, Cateoria 2')\n",
    "\n",
    "gauss4.hist(x, bins=x, weights=pixel_3_cat2, edgecolor='black')\n",
    "gauss4.plot(x.numpy(),prob_pixel_3_cat2.numpy(), color='red')\n",
    "gauss4.set_title('Gaussiano Pixel 3, Cateoria 2')\n",
    "\n",
    "gauss5.hist(x, bins=x, weights=pixel_4_cat2, edgecolor='black')\n",
    "gauss5.plot(x.numpy(),prob_pixel_4_cat2.numpy(), color='red')\n",
    "gauss5.set_title('Gaussiano Pixel 4, Cateoria 2')\n",
    "\n",
    "gauss6.hist(x, bins=x, weights=pixel_5_cat2, edgecolor='black')\n",
    "gauss6.plot(x.numpy(),prob_pixel_5_cat2.numpy(), color='red')\n",
    "gauss6.set_title('Gaussiano Pixel 5, Cateoria 2')\n",
    "\n",
    "fig3.tight_layout()\n",
    "plt.show()"
   ]
  },
  {
   "cell_type": "markdown",
   "metadata": {},
   "source": [
    "### Pregunta 2: Funcion model_gaussian_test"
   ]
  },
  {
   "cell_type": "code",
   "execution_count": 39,
   "metadata": {},
   "outputs": [],
   "source": [
    "def model_gaussian_test(input_torch,mu_d_k,sigma_d_k, labels_a_priori, num_classes = 10):\n",
    "    # Haciendo flat el input_torch de entrada\n",
    "    data_flat = torch.tensor(input_torch.flatten(),dtype=torch.int32)\n",
    "    \n",
    "    results_gauss = np.array([])\n",
    "\n",
    "    for category in range(num_classes):\n",
    "        # Extraer los Mu y Sigma para la clase en cuestion\n",
    "        mu_k = mu_d_k[:,category]\n",
    "        sig_k = sigma_d_k[:,category]\n",
    "\n",
    "        # Obteniendo la probabilidad gaussiana\n",
    "        tmp_prob_d_k = prob_gauss_m_t(data_flat,mu_k,sig_k)\n",
    "\n",
    "        # Para Bayes ingenuo es necesario hacer una multiplicatoria, por lo que se aplica logaritmo natural negativo a los valores de las probabilidad para poder sumarlas\n",
    "        # Nota: Probalidades iguales a 0 causan un -infinito. Se tienen que sustituir por un numero muy pequenno: 0.00001\n",
    "        tmp_prob_d_k[tmp_prob_d_k == 0.0] = 0.00001\n",
    "        tensor_ln_prob_mt = -torch.log(tmp_prob_d_k)\n",
    "        \n",
    "        # Se suman todos los valores para tener el score de la categoria para p(m|t=k)\n",
    "        prob_gauss_mt = tensor_ln_prob_mt.sum()\n",
    "\n",
    "        # Multiplicar la suma total por la probabilidad a priori del label correspondiente\n",
    "        prob_t = labels_a_priori[category]\n",
    "        prob_mt_k = prob_gauss_mt - torch.log(prob_t)\n",
    "\n",
    "        # Agregar el resultado al arreglo de resultados\n",
    "        results_gauss = np.append(results_gauss, prob_mt_k)\n",
    "\n",
    "    # Determinando cual es la categoria correspondiente\n",
    "    min_value = results_gauss.min()\n",
    "    category_index = np.where(results_gauss == min_value)\n",
    "\n",
    "    return category_index[0]"
   ]
  },
  {
   "cell_type": "markdown",
   "metadata": {},
   "source": [
    "### Pregunta 2: Pruebas unitarias para la funcion model_gaussian_test"
   ]
  },
  {
   "cell_type": "code",
   "execution_count": 95,
   "metadata": {},
   "outputs": [
    {
     "name": "stdout",
     "output_type": "stream",
     "text": [
      "\u001b[32m.\u001b[0m\u001b[32m.\u001b[0m\u001b[32m                                                                                           [100%]\u001b[0m\n",
      "\u001b[32m\u001b[32m\u001b[1m2 passed\u001b[0m\u001b[32m in 0.01s\u001b[0m\u001b[0m\n"
     ]
    }
   ],
   "source": [
    "%%ipytest\n",
    "\n",
    "# Creando un set de datos similar al del modelo con histogramas\n",
    "K = 3\n",
    "D = 9\n",
    "\n",
    "# Creando tensor de categorias para 7 set de datos\n",
    "categories = torch.tensor([0,0,1,1,2,2,2])\n",
    "\n",
    "# Creando tensor de datos: tensores internos de 3x3 para generar 9 unidades. Los valores internos seran aleatorios (no randomizados) para poder realizar el calculo de probabilidades\n",
    "data = torch.tensor([([1,1,1],[1,1,1],[1,1,1]),([2,2,2],[2,2,2],[2,2,2]),([2,0,2],[0,2,0],[2,0,2]),([0,2,0],[2,0,2],[0,2,0]),([0,0,0],[1,1,1],[2,2,2]),([2,2,2],[1,1,1],[0,0,0]),([1,1,1],[0,0,0],[2,2,2])])\n",
    "\n",
    "# Calculando las medias y desviaciones estandar\n",
    "Mu_d_k, Sigma_d_k = train_model_gaussian(categories, data, K, D)\n",
    "\n",
    "# Calculando las probabilidades a priori de los labels\n",
    "prob_a_priori = calcular_probabilidad_priori(categories)\n",
    "\n",
    "def test_model_histogram_testimage_1() -> None:\n",
    "    # Primera prueba unitaria: Utilizando el tensor [0,2,0],[2,0,2],[0,2,0], el cual tiene que entregar como resultado que pertenece a la categoria #1\n",
    "    test_image = torch.tensor([[0,2,0],[2,0,2],[0,2,0]])\n",
    "    category = model_gaussian_test(test_image, Mu_d_k, Sigma_d_k, prob_a_priori, K)\n",
    "    assert category[0] == 1\n",
    "\n",
    "def test_model_histogram_testimage_2() -> None:\n",
    "    # Segunda prueba unitaria: Utilizando el tensor [1,2,1],[1,0,1],[2,1,1], el cual tiene que entregar como resultado que pertenece a la categoria #2 por su semejanza a una de las unidades de entrenamiento\n",
    "    test_image = torch.tensor([[1,2,1],[1,0,1],[2,1,1]])\n",
    "    category = model_gaussian_test(test_image, Mu_d_k, Sigma_d_k, prob_a_priori, K)\n",
    "    assert category[0] == 2"
   ]
  },
  {
   "cell_type": "markdown",
   "metadata": {},
   "source": [
    "### Pregunta 2: Funcion model_batch_gaussian_test"
   ]
  },
  {
   "cell_type": "code",
   "execution_count": 110,
   "metadata": {},
   "outputs": [],
   "source": [
    "def model_batch_gaussian_test(test_set, test_labels, mu_k, sigma_k, p_t_tensor):\n",
    "    y_predict_gauss = np.array([])\n",
    "    \n",
    "    for element in range(len(test_labels)):\n",
    "        category_predicted = model_gaussian_test(test_set[element], mu_k, sigma_k, p_t_tensor, len(p_t_tensor))\n",
    "        y_predict_gauss = np.append(y_predict_gauss,category_predicted[0])\n",
    "    \n",
    "    y_gauss_real_tensor = torch.tensor(test_labels,dtype=torch.int32)\n",
    "    y_gauss_predict_tensor = torch.tensor(y_predict_gauss,dtype=torch.int32)\n",
    "\n",
    "    # Calculando el Accuracy usando la funcion de scikit-learn\n",
    "    accuracy = accuracy_score(y_gauss_real_tensor,y_gauss_predict_tensor)\n",
    "    return accuracy"
   ]
  },
  {
   "cell_type": "code",
   "execution_count": 111,
   "metadata": {},
   "outputs": [
    {
     "name": "stdout",
     "output_type": "stream",
     "text": [
      "\u001b[32m.\u001b[0m\u001b[32m.\u001b[0m\u001b[32m                                                                                           [100%]\u001b[0m\n",
      "\u001b[32m\u001b[32m\u001b[1m2 passed\u001b[0m\u001b[32m in 0.01s\u001b[0m\u001b[0m\n"
     ]
    }
   ],
   "source": [
    "%%ipytest\n",
    "\n",
    "# Creando un set de datos similar al del modelo con histogramas\n",
    "K = 3\n",
    "D = 9\n",
    "\n",
    "# Creando tensor de categorias para 7 set de datos\n",
    "categories = torch.tensor([0,0,1,1,2,2,2])\n",
    "\n",
    "# Creando tensor de datos: tensores internos de 3x3 para generar 9 unidades. Los valores internos seran aleatorios (no randomizados) para poder realizar el calculo de probabilidades\n",
    "data = torch.tensor([([1,1,1],[1,1,1],[1,1,1]),([2,2,2],[2,2,2],[2,2,2]),([2,0,2],[0,2,0],[2,0,2]),([0,2,0],[2,0,2],[0,2,0]),([0,0,0],[1,1,1],[2,2,2]),([2,2,2],[1,1,1],[0,0,0]),([1,1,1],[0,0,0],[2,2,2])])\n",
    "\n",
    "# Calculando las medias y desviaciones estandar\n",
    "Mu_d_k, Sigma_d_k = train_model_gaussian(categories, data, K, D)\n",
    "\n",
    "# Calculando las probabilidades a priori de los labels\n",
    "prob_a_priori = calcular_probabilidad_priori(categories)\n",
    "\n",
    "def test_model_batch_histogram_test_trainingset() -> None:\n",
    "    # Primera prueba unitaria: Aunque se use el mismo set de entrenamiento, el accuracy es menor a cero porque los valores estan muy cerca entre ellos\n",
    "    accuracy = model_batch_gaussian_test(data, categories, Mu_d_k, Sigma_d_k, prob_a_priori)\n",
    "    assert accuracy < 1\n",
    "\n",
    "def test_model_batch_histogram_test_randomset() -> None:\n",
    "    # Segunda prueba unitaria: Si se utiliza un tensor diferente al de entrenamiento, el accuracy debe ser menor a 1\n",
    "    test_tensor_diff = torch.tensor([([1,0,1],[1,1,0],[0,1,1]),([1,2,1],[1,2,0],[0,1,2]),([2,1,2],[0,2,0],[2,0,1]),([0,2,1],[2,1,2],[1,2,0]),([0,0,1],[1,1,2],[2,0,2]),([2,2,2],[1,1,1],[0,0,0]),([1,1,0],[0,2,0],[1,2,2])])\n",
    "    accuracy = model_batch_gaussian_test(test_tensor_diff, categories, Mu_d_k, Sigma_d_k, prob_a_priori)\n",
    "    assert accuracy < 1"
   ]
  },
  {
   "cell_type": "markdown",
   "metadata": {},
   "source": [
    "### Pregunta 2.1: Pruebas del modelo"
   ]
  },
  {
   "cell_type": "markdown",
   "metadata": {},
   "source": [
    "### Pregunta 1.1: Entrenar el modelo y evaluarlo con el set de pruebas del dataset."
   ]
  },
  {
   "cell_type": "code",
   "execution_count": 43,
   "metadata": {},
   "outputs": [
    {
     "name": "stdout",
     "output_type": "stream",
     "text": [
      "Files already downloaded and verified\n",
      "cifar_trainset_tensor shape  torch.Size([50000, 1, 32, 32])\n",
      "cifar_labels  torch.Size([50000])\n"
     ]
    }
   ],
   "source": [
    "# Creando el set de entrenamiento\n",
    "training_images_gauss,training_labels_gauss = load_cifar10_dataset()"
   ]
  },
  {
   "cell_type": "code",
   "execution_count": 44,
   "metadata": {},
   "outputs": [
    {
     "name": "stdout",
     "output_type": "stream",
     "text": [
      "El Accuracy del modelo creado con histogramas es de 10.932%, al ser evaluado con el set de entrenamiento\n"
     ]
    }
   ],
   "source": [
    "# Creando las variables del hypercubo\n",
    "K = 10\n",
    "D = 1024\n",
    "\n",
    "# Probabilidade de los labels a priori\n",
    "prob_a_priori_gauss = calcular_probabilidad_priori(training_labels_gauss)\n",
    "\n",
    "# Entrenando al modelo\n",
    "Mu_d_k_training, Sigma_d_k_training = train_model_gaussian(training_labels_gauss, training_images_gauss, K, D)\n",
    "\n",
    "# Evaluando el modelo usando los mismos set de training\n",
    "accuracy_training_gauss = model_batch_gaussian_test(training_images_gauss, training_labels_gauss, Mu_d_k_training, Sigma_d_k_training, prob_a_priori_gauss)\n",
    "print(f\"El Accuracy del modelo creado con histogramas es de {accuracy_training_gauss * 100}%, al ser evaluado con el set de entrenamiento\")"
   ]
  },
  {
   "cell_type": "markdown",
   "metadata": {},
   "source": [
    "### Pregunta 2.1: Entrenar el modelo y evaluarlo con el set de pruebas del dataset."
   ]
  },
  {
   "cell_type": "code",
   "execution_count": 45,
   "metadata": {},
   "outputs": [
    {
     "name": "stdout",
     "output_type": "stream",
     "text": [
      "Files already downloaded and verified\n",
      "cifar_trainset_tensor shape  torch.Size([10000, 1, 32, 32])\n",
      "cifar_labels  torch.Size([10000])\n"
     ]
    }
   ],
   "source": [
    "# Creando el set de pruebas\n",
    "test_images,test_labels = load_cifar10_dataset(is_train=False)"
   ]
  },
  {
   "cell_type": "code",
   "execution_count": 46,
   "metadata": {},
   "outputs": [
    {
     "name": "stdout",
     "output_type": "stream",
     "text": [
      "El Accuracy del modelo creado con histogramas es de 10.299999999999999%, al ser evaluado con el set de pruebas del dataset\n"
     ]
    }
   ],
   "source": [
    "# El modelo ya habia sido entrenado, por lo tanto, se procede a calcular el accuracy\n",
    "accuracy_test_gauss = model_batch_gaussian_test(test_images, test_labels, Mu_d_k_training, Sigma_d_k_training, prob_a_priori_gauss)\n",
    "print(f\"El Accuracy del modelo creado con histogramas es de {accuracy_test_gauss*100}%, al ser evaluado con el set de pruebas del dataset\")"
   ]
  },
  {
   "cell_type": "markdown",
   "metadata": {},
   "source": [
    "### Pregunta 2.1: Entrenar el modelo y evaluarlo con el set de training divido en 70% de entrenamiento y 30% de prueba"
   ]
  },
  {
   "cell_type": "code",
   "execution_count": 47,
   "metadata": {},
   "outputs": [],
   "source": [
    "# Creando los set de entrenamiento y prueba usando las funciones de scikit-learn\n",
    "images_train, images_test, labels_train, labels_test = train_test_split(training_images,training_labels,test_size=0.3)"
   ]
  },
  {
   "cell_type": "code",
   "execution_count": 48,
   "metadata": {},
   "outputs": [
    {
     "name": "stdout",
     "output_type": "stream",
     "text": [
      "Train images shape  torch.Size([35000, 1, 32, 32])\n",
      "Train labels shape torch.Size([35000])\n"
     ]
    }
   ],
   "source": [
    "# Ahora se comprueba que el sampling se haya hecho de forma de correcta\n",
    "print(\"Train images shape \", images_train.shape)\n",
    "print(\"Train labels shape\", labels_train.shape)"
   ]
  },
  {
   "cell_type": "code",
   "execution_count": 49,
   "metadata": {},
   "outputs": [
    {
     "name": "stdout",
     "output_type": "stream",
     "text": [
      "Test images shape  torch.Size([15000, 1, 32, 32])\n",
      "Test labels shape torch.Size([15000])\n"
     ]
    }
   ],
   "source": [
    "# Tambien se comprueba que las dimensiones de los tensores de pruebas esten correctos\n",
    "print(\"Test images shape \", images_test.shape)\n",
    "print(\"Test labels shape\", labels_test.shape)"
   ]
  },
  {
   "cell_type": "code",
   "execution_count": 50,
   "metadata": {},
   "outputs": [
    {
     "name": "stdout",
     "output_type": "stream",
     "text": [
      "    Cycle  Accuracy\n",
      "0     1.0     10.32\n",
      "1     2.0     10.29\n",
      "2     3.0     10.33\n",
      "3     4.0     10.29\n",
      "4     5.0     10.31\n",
      "5     6.0     10.29\n",
      "6     7.0     10.33\n",
      "7     8.0     10.30\n",
      "8     9.0     10.30\n",
      "9    10.0     10.33\n",
      "10   11.0     10.29\n",
      "11   12.0     10.29\n",
      "12   13.0     10.32\n",
      "13   14.0     10.31\n",
      "14   15.0     10.31\n",
      "15   16.0     10.32\n",
      "16   17.0     10.27\n",
      "17   18.0     10.31\n",
      "18   19.0     10.27\n",
      "19   20.0     10.28\n",
      "20   21.0     10.36\n",
      "21   22.0     10.33\n",
      "22   23.0     10.33\n",
      "23   24.0     10.31\n",
      "24   25.0     10.31\n",
      "25   26.0     10.31\n",
      "26   27.0     10.32\n",
      "27   28.0     10.33\n",
      "28   29.0     10.33\n",
      "29   30.0     10.31\n"
     ]
    }
   ],
   "source": [
    "# Creando las variables del hypercubo\n",
    "K = 10\n",
    "D = 1024\n",
    "\n",
    "# Creando Dataframe para almacenar los resultados\n",
    "df_acc_results_gauss = pd.DataFrame(columns=['Cycle','Accuracy'])\n",
    "\n",
    "# Tasa de acierto para 30 repeticiones, haciendo diferentes particiones cada vez\n",
    "for cycle in range(30):\n",
    "    # Nuevo slip para entrenamiento y prueba\n",
    "    images_train, images_test, labels_train, labels_test = train_test_split(training_images,training_labels,test_size=0.3)\n",
    "\n",
    "    # Probabilidade de los labels a priori\n",
    "    prob_a_priori_gauss = calcular_probabilidad_priori(labels_train)\n",
    "\n",
    "    # Entrenando al modelo\n",
    "    Mu_d_k, Sigma_d_k = train_model_gaussian(labels_train, images_train, K, D)\n",
    "\n",
    "    # Evaluando el modelo\n",
    "    accuracy_gauss = model_batch_gaussian_test(test_images, test_labels, Mu_d_k_training, Sigma_d_k_training, prob_a_priori_gauss)\n",
    "\n",
    "    # Populando el dataframe con cada ciclo\n",
    "    df_acc_results_gauss.loc[len(df_acc_results_gauss.index)] = [cycle + 1,accuracy_gauss * 100]\n",
    "\n",
    "# Verficando los resultados obtenidos\n",
    "print(df_acc_results_gauss)"
   ]
  },
  {
   "cell_type": "code",
   "execution_count": 51,
   "metadata": {},
   "outputs": [
    {
     "name": "stdout",
     "output_type": "stream",
     "text": [
      "La media de la tasa de aciertos es de 10.31%, y la desviacion estandar es de 0.02%\n"
     ]
    }
   ],
   "source": [
    "# Calculando la media y la desviacion estandar de las tasas de acierto\n",
    "tasa_aciertos_gauss = df_acc_results_gauss['Accuracy'].to_numpy()\n",
    "\n",
    "media_aciertos_gauss = np.mean(tasa_aciertos_gauss)\n",
    "std_aciertos_gauss = np.std(tasa_aciertos_gauss)\n",
    "\n",
    "print(f\"La media de la tasa de aciertos es de {round(media_aciertos_gauss,3)}%, y la desviacion estandar es de {round(std_aciertos_gauss,3)}%\")"
   ]
  }
 ],
 "metadata": {
  "kernelspec": {
   "display_name": "venv_pytorch",
   "language": "python",
   "name": "python3"
  },
  "language_info": {
   "codemirror_mode": {
    "name": "ipython",
    "version": 3
   },
   "file_extension": ".py",
   "mimetype": "text/x-python",
   "name": "python",
   "nbconvert_exporter": "python",
   "pygments_lexer": "ipython3",
   "version": "3.11.8"
  }
 },
 "nbformat": 4,
 "nbformat_minor": 2
}
