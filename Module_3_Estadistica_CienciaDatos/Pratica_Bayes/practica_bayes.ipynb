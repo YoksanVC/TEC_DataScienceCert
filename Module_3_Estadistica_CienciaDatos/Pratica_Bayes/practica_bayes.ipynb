{
 "cells": [
  {
   "cell_type": "markdown",
   "metadata": {},
   "source": [
    "## Practica Bayes"
   ]
  },
  {
   "cell_type": "code",
   "execution_count": 1,
   "metadata": {},
   "outputs": [],
   "source": [
    "import torch\n",
    "import numpy as np"
   ]
  },
  {
   "cell_type": "markdown",
   "metadata": {},
   "source": [
    "### Funciones Generales"
   ]
  },
  {
   "cell_type": "code",
   "execution_count": 2,
   "metadata": {},
   "outputs": [],
   "source": [
    "def get_marginal_probabilities_classes(M_data):\n",
    "    # Creando las categorias\n",
    "    categoria1 = M_data[0]\n",
    "    categoria2 = M_data[1]\n",
    "\n",
    "    N = torch.sum(M_data)\n",
    "\n",
    "    sum_c1 = torch.sum(categoria1)\n",
    "    sum_c2 = torch.sum(categoria2)\n",
    "\n",
    "    p_t = torch.tensor([[sum_c1/N],[sum_c2/N]])\n",
    "\n",
    "    return p_t"
   ]
  },
  {
   "cell_type": "code",
   "execution_count": 3,
   "metadata": {},
   "outputs": [],
   "source": [
    "def get_conditional_probability_p_m_given_t(M_data):\n",
    "    # Separando por t\n",
    "    t0_array = M_data[0,:]\n",
    "    t1_array = M_data[1,:]\n",
    "\n",
    "    m_t0 = torch.tensor([[t0_array[0],t0_array[2]],[t0_array[1],t0_array[3]]])\n",
    "    m_t1 = torch.tensor([[t1_array[0],t1_array[2]],[t1_array[1],t1_array[3]]])\n",
    "\n",
    "    m_t0_sum_0 = torch.sum(m_t0[:,0])\n",
    "    m_t0_sum_1 = torch.sum(m_t0[:,1])\n",
    "    print(m_t0_sum_1)\n",
    "    p_m_t0 = torch.concat([m_t0[:,0]/m_t0_sum_0,m_t0[:,1]/m_t0_sum_1])\n",
    "    p_m_t0 = p_m_t0.view(2,2)\n",
    "\n",
    "    m_t1_sum_0 = torch.sum(m_t1[:,0])\n",
    "    m_t1_sum_1 = torch.sum(m_t1[:,1])\n",
    "    p_m_t1 = torch.concat([m_t1[:,0]/m_t1_sum_0,m_t1[:,1]/m_t1_sum_1])\n",
    "    p_m_t1 = p_m_t1.view(2,2)\n",
    "\n",
    "    return p_m_t0,p_m_t1"
   ]
  },
  {
   "cell_type": "markdown",
   "metadata": {},
   "source": [
    "### Definicion de matriz"
   ]
  },
  {
   "cell_type": "code",
   "execution_count": 4,
   "metadata": {},
   "outputs": [
    {
     "name": "stdout",
     "output_type": "stream",
     "text": [
      "tensor([[20., 70., 80., 10.],\n",
      "        [40., 10., 30.,  5.]])\n"
     ]
    }
   ],
   "source": [
    "M_data = torch.tensor([[20.0,70,80,10],[40,10,30,5]])\n",
    "print(M_data)"
   ]
  },
  {
   "cell_type": "code",
   "execution_count": 14,
   "metadata": {},
   "outputs": [
    {
     "name": "stdout",
     "output_type": "stream",
     "text": [
      "tensor([[0.6792],\n",
      "        [0.3208]])\n"
     ]
    }
   ],
   "source": [
    "p_t = get_marginal_probabilities_classes(M_data)\n",
    "print(p_t)"
   ]
  },
  {
   "cell_type": "code",
   "execution_count": 6,
   "metadata": {},
   "outputs": [
    {
     "name": "stdout",
     "output_type": "stream",
     "text": [
      "tensor(90.)\n"
     ]
    }
   ],
   "source": [
    "p_m_t0,p_m_t1 = get_conditional_probability_p_m_given_t(M_data)"
   ]
  },
  {
   "cell_type": "code",
   "execution_count": 7,
   "metadata": {},
   "outputs": [
    {
     "name": "stdout",
     "output_type": "stream",
     "text": [
      "Probabilidad condicionada de t=0:\n",
      " tensor([[0.2222, 0.7778],\n",
      "        [0.8889, 0.1111]])\n"
     ]
    }
   ],
   "source": [
    "print(\"Probabilidad condicionada de t=0:\\n\",p_m_t0)"
   ]
  },
  {
   "cell_type": "code",
   "execution_count": 8,
   "metadata": {},
   "outputs": [
    {
     "name": "stdout",
     "output_type": "stream",
     "text": [
      "Probabilidad condicionada de t=1:\n",
      " tensor([[0.8000, 0.2000],\n",
      "        [0.8571, 0.1429]])\n"
     ]
    }
   ],
   "source": [
    "print(\"Probabilidad condicionada de t=1:\\n\",p_m_t1)"
   ]
  },
  {
   "cell_type": "markdown",
   "metadata": {},
   "source": [
    "### Creando el hypercubo"
   ]
  },
  {
   "cell_type": "code",
   "execution_count": 13,
   "metadata": {},
   "outputs": [
    {
     "name": "stdout",
     "output_type": "stream",
     "text": [
      "tensor([[[0.2222, 0.7778],\n",
      "         [0.8889, 0.1111]],\n",
      "\n",
      "        [[0.8000, 0.2000],\n",
      "         [0.8571, 0.1429]]])\n"
     ]
    }
   ],
   "source": [
    "K = 2\n",
    "D = 2\n",
    "Z = 2\n",
    "\n",
    "density_cube = torch.zeros(K,D,Z)\n",
    "\n",
    "# t=0\n",
    "density_cube[0,:,:] = p_m_t0\n",
    "\n",
    "# t=1\n",
    "density_cube[1,:,:] = p_m_t1\n",
    "\n",
    "print(density_cube)"
   ]
  },
  {
   "cell_type": "code",
   "execution_count": 57,
   "metadata": {},
   "outputs": [],
   "source": [
    "def estimate_label(x, density_cube, p_t):\n",
    "    score = density_cube[0,0,x[0]] * density_cube[0,1,x[1]] * p_t[0]\n",
    "    return  score"
   ]
  },
  {
   "cell_type": "code",
   "execution_count": 58,
   "metadata": {},
   "outputs": [],
   "source": [
    "# Inferencia para t=0\n",
    "m_1 = torch.tensor([0,0])\n",
    "m_2 = torch.tensor([1,0])\n",
    "m_3 = torch.tensor([1,1])"
   ]
  },
  {
   "cell_type": "code",
   "execution_count": 59,
   "metadata": {},
   "outputs": [
    {
     "name": "stdout",
     "output_type": "stream",
     "text": [
      "Score para m_1 = tensor([0.1342])\n"
     ]
    }
   ],
   "source": [
    "# Calculando los scores para t=0\n",
    "label1_score = estimate_label(m_1,density_cube,p_t)\n",
    "print(f\"Score para m_1 = {label1_score}\")"
   ]
  },
  {
   "cell_type": "code",
   "execution_count": 60,
   "metadata": {},
   "outputs": [
    {
     "name": "stdout",
     "output_type": "stream",
     "text": [
      "Score para m_2 = tensor([0.4696])\n"
     ]
    }
   ],
   "source": [
    "label2_score = estimate_label(m_2,density_cube,p_t)\n",
    "print(f\"Score para m_2 = {label2_score}\")"
   ]
  },
  {
   "cell_type": "code",
   "execution_count": 61,
   "metadata": {},
   "outputs": [
    {
     "name": "stdout",
     "output_type": "stream",
     "text": [
      "Score para m_3 = tensor([0.0587])\n"
     ]
    }
   ],
   "source": [
    "label3_score = estimate_label(m_3,density_cube,p_t)\n",
    "print(f\"Score para m_3 = {label3_score}\")"
   ]
  }
 ],
 "metadata": {
  "kernelspec": {
   "display_name": "venv_pytorch",
   "language": "python",
   "name": "python3"
  },
  "language_info": {
   "codemirror_mode": {
    "name": "ipython",
    "version": 3
   },
   "file_extension": ".py",
   "mimetype": "text/x-python",
   "name": "python",
   "nbconvert_exporter": "python",
   "pygments_lexer": "ipython3",
   "version": "3.11.8"
  }
 },
 "nbformat": 4,
 "nbformat_minor": 2
}
