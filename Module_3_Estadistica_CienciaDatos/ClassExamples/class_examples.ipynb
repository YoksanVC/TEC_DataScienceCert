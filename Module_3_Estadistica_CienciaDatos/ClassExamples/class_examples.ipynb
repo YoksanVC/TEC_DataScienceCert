{
 "cells": [
  {
   "cell_type": "markdown",
   "metadata": {},
   "source": [
    "# Class Examples\n",
    "\n",
    "General Libraries to use:"
   ]
  },
  {
   "cell_type": "code",
   "execution_count": 2,
   "metadata": {},
   "outputs": [],
   "source": [
    "import torch\n",
    "import numpy as np\n",
    "import seaborn"
   ]
  },
  {
   "cell_type": "code",
   "execution_count": 3,
   "metadata": {},
   "outputs": [
    {
     "name": "stdout",
     "output_type": "stream",
     "text": [
      "hist \n",
      " tensor([6., 4.])\n",
      "bin_edges \n",
      " tensor([0.0000, 0.5000, 1.0000])\n"
     ]
    }
   ],
   "source": [
    "# Histogram example using torch\n",
    "m_x = torch.tensor([0.0,1,1,0,0,1,0,0,0,1])\n",
    "\n",
    "hist, bin_edges = torch.histogram(m_x,bins=torch.tensor([0.0,0.5,1]))\n",
    "\n",
    "print(\"hist \\n\", hist)\n",
    "print(\"bin_edges \\n\", bin_edges)"
   ]
  },
  {
   "cell_type": "code",
   "execution_count": 4,
   "metadata": {},
   "outputs": [
    {
     "name": "stdout",
     "output_type": "stream",
     "text": [
      "tensor([0.6000, 0.4000])\n",
      "\n",
      "Sum of values of p_x: 1.0\n",
      "\n"
     ]
    }
   ],
   "source": [
    "# Normalizando\n",
    "N = m_x.shape[0]\n",
    "\n",
    "p_x = hist/N\n",
    "\n",
    "print(f\"{p_x}\\n\")\n",
    "print(f\"Sum of values of p_x: {torch.sum(p_x)}\\n\")"
   ]
  },
  {
   "cell_type": "code",
   "execution_count": 7,
   "metadata": {},
   "outputs": [
    {
     "ename": "AttributeError",
     "evalue": "'Normal' object has no attribute 'shape'",
     "output_type": "error",
     "traceback": [
      "\u001b[1;31m---------------------------------------------------------------------------\u001b[0m",
      "\u001b[1;31mAttributeError\u001b[0m                            Traceback (most recent call last)",
      "Cell \u001b[1;32mIn[7], line 6\u001b[0m\n\u001b[0;32m      3\u001b[0m normal_dist \u001b[38;5;241m=\u001b[39m torch\u001b[38;5;241m.\u001b[39mdistributions\u001b[38;5;241m.\u001b[39mNormal(torch\u001b[38;5;241m.\u001b[39mtensor([\u001b[38;5;241m10.0\u001b[39m]), torch\u001b[38;5;241m.\u001b[39mtensor([\u001b[38;5;241m2\u001b[39m]))\n\u001b[0;32m      4\u001b[0m gaussian_sample \u001b[38;5;241m=\u001b[39m normal_dist\u001b[38;5;241m.\u001b[39msample((n,\u001b[38;5;241m1\u001b[39m))\u001b[38;5;241m.\u001b[39msqueeze() \u001b[38;5;66;03m# Change a 2D tensor to a 1D tensor\u001b[39;00m\n\u001b[1;32m----> 6\u001b[0m \u001b[38;5;28mprint\u001b[39m(\u001b[43mnormal_dist\u001b[49m\u001b[38;5;241;43m.\u001b[39;49m\u001b[43mshape\u001b[49m)\n\u001b[0;32m      7\u001b[0m \u001b[38;5;28mprint\u001b[39m(\u001b[38;5;124mf\u001b[39m\u001b[38;5;124m\"\u001b[39m\u001b[38;5;124mGaussian Sample:\u001b[39m\u001b[38;5;130;01m\\n\u001b[39;00m\u001b[38;5;124m \u001b[39m\u001b[38;5;132;01m{\u001b[39;00mgaussian_sample\u001b[38;5;132;01m}\u001b[39;00m\u001b[38;5;124m\"\u001b[39m)\n",
      "\u001b[1;31mAttributeError\u001b[0m: 'Normal' object has no attribute 'shape'"
     ]
    }
   ],
   "source": [
    "# Create gaussian data sample\n",
    "n = 10000\n",
    "normal_dist = torch.distributions.Normal(torch.tensor([10.0]), torch.tensor([2]))\n",
    "gaussian_sample = normal_dist.sample((n,1)).squeeze() # Change a 2D tensor to a 1D tensor\n",
    "\n",
    "print(f\"Gaussian Sample:\\n {gaussian_sample}\")"
   ]
  },
  {
   "cell_type": "code",
   "execution_count": 6,
   "metadata": {},
   "outputs": [],
   "source": [
    "# Creating histogram\n",
    "histogram_gaussian, bin_gaussian = np.histogram(gaussian_sample.numpy(),bins = 20,range = (0,20))\n",
    "\n",
    "# Normalizing\n",
    "p_gaussian = torch.tensor(histogram_gaussian/histogram_gaussian.sum())\n",
    "\n",
    "# Plot created with Mathplotlib\n",
    "# plot_bar(bin_gaussian[1:0], histogram_gaussian, \"x\", \"p(x)\", \"Histogram with fixed bin size, Gaussian Sample\")"
   ]
  }
 ],
 "metadata": {
  "kernelspec": {
   "display_name": "venv_pytorch",
   "language": "python",
   "name": "python3"
  },
  "language_info": {
   "codemirror_mode": {
    "name": "ipython",
    "version": 3
   },
   "file_extension": ".py",
   "mimetype": "text/x-python",
   "name": "python",
   "nbconvert_exporter": "python",
   "pygments_lexer": "ipython3",
   "version": "3.11.8"
  }
 },
 "nbformat": 4,
 "nbformat_minor": 2
}
