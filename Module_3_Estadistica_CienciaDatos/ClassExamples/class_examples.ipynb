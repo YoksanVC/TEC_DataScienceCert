{
 "cells": [
  {
   "cell_type": "markdown",
   "metadata": {},
   "source": [
    "# Class Examples\n",
    "\n",
    "General Libraries to use:"
   ]
  },
  {
   "cell_type": "code",
   "execution_count": 1,
   "metadata": {},
   "outputs": [],
   "source": [
    "import torch\n",
    "import numpy as np\n",
    "import seaborn"
   ]
  },
  {
   "cell_type": "code",
   "execution_count": 2,
   "metadata": {},
   "outputs": [
    {
     "name": "stdout",
     "output_type": "stream",
     "text": [
      "hist \n",
      " tensor([6., 4.])\n",
      "bin_edges \n",
      " tensor([0.0000, 0.5000, 1.0000])\n"
     ]
    }
   ],
   "source": [
    "# Histogram example using torch\n",
    "m_x = torch.tensor([0.0,1,1,0,0,1,0,0,0,1])\n",
    "\n",
    "hist, bin_edges = torch.histogram(m_x,bins=torch.tensor([0.0,0.5,1]))\n",
    "\n",
    "print(\"hist \\n\", hist)\n",
    "print(\"bin_edges \\n\", bin_edges)"
   ]
  },
  {
   "cell_type": "code",
   "execution_count": 3,
   "metadata": {},
   "outputs": [
    {
     "name": "stdout",
     "output_type": "stream",
     "text": [
      "tensor([0.6000, 0.4000])\n",
      "\n",
      "Sum of values of p_x: 1.0\n",
      "\n"
     ]
    }
   ],
   "source": [
    "# Normalizando\n",
    "N = m_x.shape[0]\n",
    "\n",
    "p_x = hist/N\n",
    "\n",
    "print(f\"{p_x}\\n\")\n",
    "print(f\"Sum of values of p_x: {torch.sum(p_x)}\\n\")"
   ]
  },
  {
   "cell_type": "code",
   "execution_count": 4,
   "metadata": {},
   "outputs": [
    {
     "name": "stdout",
     "output_type": "stream",
     "text": [
      "Gaussian Sample:\n",
      " tensor([12.5379,  9.4725, 11.5335,  ..., 10.0038,  8.5075, 10.7348])\n"
     ]
    }
   ],
   "source": [
    "# Create gaussian data sample\n",
    "n = 10000\n",
    "normal_dist = torch.distributions.Normal(torch.tensor([10.0]), torch.tensor([2]))\n",
    "gaussian_sample = normal_dist.sample((n,1)).squeeze() # Change a 2D tensor to a 1D tensor\n",
    "\n",
    "print(f\"Gaussian Sample:\\n {gaussian_sample}\")"
   ]
  },
  {
   "cell_type": "code",
   "execution_count": 6,
   "metadata": {},
   "outputs": [],
   "source": [
    "# Creating histogram\n",
    "histogram_gaussian, bin_gaussian = np.histogram(gaussian_sample.numpy(),bins = 20,range = (0,20))\n",
    "\n",
    "# Normalizing\n",
    "p_gaussian = torch.tensor(histogram_gaussian/histogram_gaussian.sum())\n",
    "\n",
    "# Plot created with Mathplotlib\n",
    "# plot_bar(bin_gaussian[1:0], histogram_gaussian, \"x\", \"p(x)\", \"Histogram with fixed bin size, Gaussian Sample\")"
   ]
  }
 ],
 "metadata": {
  "kernelspec": {
   "display_name": "venv_pytorch",
   "language": "python",
   "name": "python3"
  },
  "language_info": {
   "codemirror_mode": {
    "name": "ipython",
    "version": 3
   },
   "file_extension": ".py",
   "mimetype": "text/x-python",
   "name": "python",
   "nbconvert_exporter": "python",
   "pygments_lexer": "ipython3",
   "version": "undefined.undefined.undefined"
  }
 },
 "nbformat": 4,
 "nbformat_minor": 2
}
